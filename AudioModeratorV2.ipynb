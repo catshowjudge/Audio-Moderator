{
  "nbformat": 4,
  "nbformat_minor": 0,
  "metadata": {
    "colab": {
      "name": "AudioModeratorV2.ipynb",
      "provenance": [],
      "collapsed_sections": [],
      "authorship_tag": "ABX9TyMiN+oPUgj3Ub1RlUZ+K3i6"
    },
    "kernelspec": {
      "name": "python3",
      "display_name": "Python 3"
    },
    "accelerator": "GPU"
  },
  "cells": [
    {
      "cell_type": "markdown",
      "metadata": {
        "id": "f0NEkxfRaqua",
        "colab_type": "text"
      },
      "source": [
        "# Audio Moderator V.2"
      ]
    },
    {
      "cell_type": "markdown",
      "metadata": {
        "id": "c7SNis6aty3x",
        "colab_type": "text"
      },
      "source": [
        "This project aims to translate Chinese audio to English text to assist in content moderation and foreign language audio/video sharing. This version so far includes the seq2seq machine translation model with Attention."
      ]
    },
    {
      "cell_type": "markdown",
      "metadata": {
        "id": "BpTVae3YbnIT",
        "colab_type": "text"
      },
      "source": [
        "## Set-up and Data Cleaning"
      ]
    },
    {
      "cell_type": "code",
      "metadata": {
        "id": "TjOTFZM2t1XR",
        "colab_type": "code",
        "colab": {
          "base_uri": "https://localhost:8080/",
          "height": 34
        },
        "outputId": "5ef91f1b-df96-4b98-9e7c-74f5c81d97a0"
      },
      "source": [
        "\n",
        "\n",
        "import string\n",
        "import re\n",
        "from pickle import dump\n",
        "from unicodedata import normalize\n",
        "from numpy import array\n",
        "import jieba\n",
        "import numpy as np\n",
        "#!pip install jieba --upgrade\n",
        "#from mafan import simplify\n",
        "#from langconv import *\n",
        "\n",
        " \n",
        "# load doc into memory\n",
        "def load_doc(filename):\n",
        "\t# open the file as read only\n",
        "\tfile = open(filename, mode='rt', encoding='utf-8')\n",
        "\t# read all text\n",
        "\ttext = file.read()\n",
        "\t# close the file\n",
        "\tfile.close()\n",
        "\treturn text\n",
        " \n",
        "# split a loaded document into sentences\n",
        "def to_pairs(doc):\n",
        "\tlines = doc.strip().split('\\n')\n",
        "\tpairs = [line.split('\\t') for line in  lines]\n",
        "\treturn pairs\n",
        " \n",
        "# clean a list of lines\n",
        "def clean_pairs(lines):\n",
        "\tenglish = []\n",
        "\tchinese = []\n",
        "\tfor pair in lines:\n",
        "\t\t#eng = pair[0].split(' ')\n",
        "\t\teng = pair[0].lower()\n",
        "\t\teng = re.sub(r'[.,?!]','',pair[0])\n",
        "\t\tchi1 = jieba.cut(pair[1], cut_all=False)\n",
        "\t\tchi2 = ' '.join(chi1)\n",
        "\t\tchi2 = re.sub(r'[^\\w\\s]', '', chi2)\n",
        "\t\tchi2 = chi2.rstrip()\n",
        "\n",
        "\t\tenglish.append(eng)\n",
        "\t\tchinese.append(chi2)\n",
        "\treturn english, chinese\n",
        " \n",
        "# save a list of clean sentences to file\n",
        "def save_clean_data(sentences, filename):\n",
        "\tdump(sentences, open(filename, 'wb'))\n",
        "\tprint('Saved: %s' % filename)\n",
        " \n",
        "print('done')"
      ],
      "execution_count": 16,
      "outputs": [
        {
          "output_type": "stream",
          "text": [
            "done\n"
          ],
          "name": "stdout"
        }
      ]
    },
    {
      "cell_type": "markdown",
      "metadata": {
        "id": "yEmGRTq6brLi",
        "colab_type": "text"
      },
      "source": [
        "## Cleaning and Saving the Data"
      ]
    },
    {
      "cell_type": "code",
      "metadata": {
        "id": "4oMIhbJWt2jO",
        "colab_type": "code",
        "colab": {
          "base_uri": "https://localhost:8080/",
          "height": 34
        },
        "outputId": "cf638273-759b-4c7b-8b20-3ee73c5eae4c"
      },
      "source": [
        "\n",
        "import chinese_converter\n",
        "\n",
        "# load dataset\n",
        "filename = 'cmn.txt'\n",
        "doc = load_doc(filename)\n",
        "# split into english-chinese pairs\n",
        "pairs = to_pairs(doc)\n",
        "# clean sentences\n",
        "eng_clean_pairs, chi_clean_pairs = clean_pairs(pairs)\n",
        "\n",
        "\n",
        "print(pairs[0])\n",
        "print(eng_clean_pairs[10])\n",
        "print(chi_clean_pairs[100])"
      ],
      "execution_count": 17,
      "outputs": [
        {
          "output_type": "stream",
          "text": [
            "Hi\n"
          ],
          "name": "stdout"
        }
      ]
    },
    {
      "cell_type": "code",
      "metadata": {
        "id": "J6eFaxARJEFy",
        "colab_type": "code",
        "colab": {
          "base_uri": "https://localhost:8080/",
          "height": 102
        },
        "outputId": "6befdfde-46e1-4a2d-bceb-d4e837724bd9"
      },
      "source": [
        "chi_cleaner_pairs = [chinese_converter.to_simplified(i) for i in chi_clean_pairs]\n",
        "\n",
        "clean_pairs = [[i, j] for i, j in zip(eng_clean_pairs,chi_cleaner_pairs)]\n",
        "\n",
        "# spot check\n",
        "\n",
        "print(chi_cleaner_pairs[20:25])\n",
        "print(clean_pairs[:5])\n",
        "\n",
        "# for i in range(15):\n",
        "# \tprint('[%s] => [%s]' % (clean_pairs[i,0], clean_pairs[i,1]))"
      ],
      "execution_count": 19,
      "outputs": [
        {
          "output_type": "stream",
          "text": [
            "['Hi.', '嗨。', 'CC-BY 2.0 (France) Attribution: tatoeba.org #538123 (CM) & #891077 (Martha)']\n",
            "Got it\n",
            "我 迷失 了\n",
            "[['Hi', '嗨'], ['Hi', '你好'], ['Run', '你 用 跑 的'], ['Wait', '等等'], ['Wait', '等 一下']]\n",
            "['我们 来 试试', '为什么 是 我', '去 问 汤姆', '好棒', '冷静 点']\n"
          ],
          "name": "stdout"
        }
      ]
    },
    {
      "cell_type": "code",
      "metadata": {
        "id": "jB3zojGpiA4l",
        "colab_type": "code",
        "colab": {
          "base_uri": "https://localhost:8080/",
          "height": 357
        },
        "outputId": "5f8bb34d-fff7-4aea-bb88-fbaac1b4afc4"
      },
      "source": [
        "for i in range(20):\n",
        "\tprint('[%s] => [%s]' % (clean_pairs[i][0], clean_pairs[i][1]))"
      ],
      "execution_count": 20,
      "outputs": [
        {
          "output_type": "stream",
          "text": [
            "[Hi] => [嗨]\n",
            "[Hi] => [你好]\n",
            "[Run] => [你 用 跑 的]\n",
            "[Wait] => [等等]\n",
            "[Wait] => [等 一下]\n",
            "[Hello] => [你好]\n",
            "[I try] => [让 我 来]\n",
            "[I won] => [我 赢 了]\n",
            "[Oh no] => [不会 吧]\n",
            "[Cheers] => [干杯]\n",
            "[Got it] => [你 懂 了 吗]\n",
            "[He ran] => [他 跑 了]\n",
            "[Hop in] => [跳进来]\n",
            "[I quit] => [我 退出]\n",
            "[I'm OK] => [我 没事]\n",
            "[Listen] => [听 着]\n",
            "[No way] => [不 可能]\n",
            "[No way] => [没门]\n",
            "[Really] => [你 确定]\n",
            "[Try it] => [试试 吧]\n"
          ],
          "name": "stdout"
        }
      ]
    },
    {
      "cell_type": "code",
      "metadata": {
        "id": "uYlnSolMTCMu",
        "colab_type": "code",
        "colab": {
          "base_uri": "https://localhost:8080/",
          "height": 34
        },
        "outputId": "4d978bc7-3257-4979-b756-45afbf6c8a3c"
      },
      "source": [
        "# save clean pairs to file\n",
        "save_clean_data(clean_pairs, 'english-chinese.pkl')"
      ],
      "execution_count": 21,
      "outputs": [
        {
          "output_type": "stream",
          "text": [
            "Saved: english-chinese.pkl\n"
          ],
          "name": "stdout"
        }
      ]
    },
    {
      "cell_type": "code",
      "metadata": {
        "id": "xEbw0aDut2l4",
        "colab_type": "code",
        "colab": {
          "base_uri": "https://localhost:8080/",
          "height": 34
        },
        "outputId": "c24f30cc-0495-4443-f769-84c5808ab526"
      },
      "source": [
        "\n",
        "from pickle import load\n",
        "from pickle import dump\n",
        "from numpy.random import rand\n",
        "from numpy.random import shuffle\n",
        " \n",
        "# load a clean dataset\n",
        "def load_clean_sentences(filename):\n",
        "\treturn load(open(filename, 'rb'))\n",
        " \n",
        "# save a list of clean sentences to file\n",
        "def save_clean_data(sentences, filename):\n",
        "\tdump(sentences, open(filename, 'wb'))\n",
        "\tprint('Saved: %s' % filename)\n",
        " \n",
        "print('done')"
      ],
      "execution_count": 22,
      "outputs": [
        {
          "output_type": "stream",
          "text": [
            "done\n"
          ],
          "name": "stdout"
        }
      ]
    },
    {
      "cell_type": "markdown",
      "metadata": {
        "id": "gICoHUE_cIm-",
        "colab_type": "text"
      },
      "source": [
        "## Split Clean Data"
      ]
    },
    {
      "cell_type": "code",
      "metadata": {
        "id": "kk9Wkbv2xkSK",
        "colab_type": "code",
        "colab": {
          "base_uri": "https://localhost:8080/",
          "height": 153
        },
        "outputId": "106ffb2e-d42a-4ec8-ac29-4163b1ecceca"
      },
      "source": [
        "# load dataset\n",
        "raw_dataset = load_clean_sentences('english-chinese.pkl')\n",
        " \n",
        "# reduce dataset size\n",
        "n_sentences = 19000\n",
        "dataset = raw_dataset[:n_sentences]\n",
        "# random shuffle\n",
        "shuffle(dataset)\n",
        "# split into train/test\n",
        "train, test = dataset[:17000], dataset[17000:]\n",
        "# save\n",
        "save_clean_data(dataset, 'english-chinese-both.pkl')\n",
        "save_clean_data(train, 'english-chinese-train.pkl')\n",
        "save_clean_data(test, 'english-chinese-test.pkl')\n",
        "\n",
        "print(len(raw_dataset))\n",
        "print(raw_dataset[0])\n",
        "print(dataset[0])\n",
        "print(train[0])\n",
        "print(test[0])"
      ],
      "execution_count": 23,
      "outputs": [
        {
          "output_type": "stream",
          "text": [
            "Saved: english-chinese-both.pkl\n",
            "Saved: english-chinese-train.pkl\n",
            "Saved: english-chinese-test.pkl\n",
            "22075\n",
            "['Hi', '嗨']\n",
            "['He earned as much money as possible', '他 能 赚 多少 就 赚 多少']\n",
            "['He earned as much money as possible', '他 能 赚 多少 就 赚 多少']\n",
            "['Please knock on the door', '请 敲门']\n"
          ],
          "name": "stdout"
        }
      ]
    },
    {
      "cell_type": "markdown",
      "metadata": {
        "id": "CNKYmqzNcaUN",
        "colab_type": "text"
      },
      "source": [
        "## Tokenize Clean Data and Set-up for LSTM Model"
      ]
    },
    {
      "cell_type": "code",
      "metadata": {
        "id": "W7BBbtb2pNj4",
        "colab_type": "code",
        "colab": {
          "base_uri": "https://localhost:8080/",
          "height": 51
        },
        "outputId": "1733ccf1-9522-4c5f-ec2a-56fd69473aab"
      },
      "source": [
        "from pickle import load\n",
        "from numpy import array\n",
        "import keras\n",
        "from keras.preprocessing.text import Tokenizer\n",
        "from keras.preprocessing.sequence import pad_sequences\n",
        "from keras.utils import to_categorical\n",
        "from keras.utils.vis_utils import plot_model\n",
        "from keras.models import Sequential\n",
        "from keras.layers import LSTM\n",
        "from keras.layers import Dense\n",
        "from keras.layers import Embedding\n",
        "from keras.layers import RepeatVector\n",
        "from keras.layers import TimeDistributed\n",
        "from keras.callbacks import ModelCheckpoint\n",
        "from keras.layers import Dropout, GlobalMaxPooling1D, SpatialDropout1D\n",
        "from attention_decoder import AttentionDecoder\n",
        " \n",
        "# load a clean dataset\n",
        "def load_clean_sentences(filename):\n",
        "\treturn load(open(filename, 'rb'))\n",
        " \n",
        "# fit a tokenizer\n",
        "def create_tokenizer(lines):\n",
        "\ttokenizer = Tokenizer()\n",
        "\ttokenizer.fit_on_texts(lines)\n",
        "\treturn tokenizer\n",
        " \n",
        "# max sentence length\n",
        "def max_length(lines):\n",
        "\treturn max(len(line.split()) for line in lines)\n",
        " \n",
        "# encode and pad sequences\n",
        "def encode_sequences(tokenizer, length, lines):\n",
        "\t# integer encode sequences\n",
        "\tX = tokenizer.texts_to_sequences(lines)\n",
        "\t# pad sequences with 0 values\n",
        "\tX = pad_sequences(X, maxlen=length, padding='post')\n",
        "\treturn X\n",
        " \n",
        "# one hot encode target sequence\n",
        "def encode_output(sequences, vocab_size):\n",
        "\tylist = list()\n",
        "\tfor sequence in sequences:\n",
        "\t\tencoded = to_categorical(sequence, num_classes=vocab_size)\n",
        "\t\tylist.append(encoded)\n",
        "\ty = array(ylist)\n",
        "\ty = y.reshape(sequences.shape[0], sequences.shape[1], vocab_size)\n",
        "\treturn y\n",
        " \n",
        "# define NMT model\n",
        "def define_model(src_vocab, tar_vocab, src_timesteps, tar_timesteps, n_units):\n",
        "\tmodel = Sequential()\n",
        "\tmodel.add(Embedding(src_vocab, n_units, input_length=src_timesteps, mask_zero=True))\n",
        "\tmodel.add(LSTM(n_units))\n",
        "\tmodel.add(Dropout(0.5))\n",
        "\t# model.add(LSTM(n_units))\n",
        "\t# model.add(Dropout(0.5))\n",
        "\tmodel.add(RepeatVector(tar_timesteps))\n",
        "\t#model.add(LSTM(n_units, return_sequences=True))\n",
        "\t# model.add(Dropout(0.5))\n",
        "\tmodel.add(AttentionDecoder(n_units, tar_vocab))\n",
        "\t#model.add(TimeDistributed(Dense(tar_vocab, activation='softmax')))\n",
        "\treturn model\n",
        "\n",
        "# # define the encoder-decoder with attention model\n",
        "# def attention_model(n_timesteps_in, n_features):\n",
        "# \tmodel = Sequential()\n",
        "# \tmodel.add(LSTM(150, input_shape=(n_timesteps_in, n_features), return_sequences=True))\n",
        "# \tmodel.add(AttentionDecoder(150, n_features))\n",
        "# \tmodel.compile(loss='categorical_crossentropy', optimizer='adam', metrics=['accuracy'])\n",
        "# \treturn model\n",
        "\n",
        "print('done')"
      ],
      "execution_count": 24,
      "outputs": [
        {
          "output_type": "stream",
          "text": [
            "Using TensorFlow backend.\n"
          ],
          "name": "stderr"
        },
        {
          "output_type": "stream",
          "text": [
            "done\n"
          ],
          "name": "stdout"
        }
      ]
    },
    {
      "cell_type": "markdown",
      "metadata": {
        "id": "9qQKh5-Nsp2b",
        "colab_type": "text"
      },
      "source": [
        "## Explore Some Features of the Dataset"
      ]
    },
    {
      "cell_type": "code",
      "metadata": {
        "id": "mLJF5oszr-U-",
        "colab_type": "code",
        "colab": {
          "base_uri": "https://localhost:8080/",
          "height": 173
        },
        "outputId": "554f112b-d63f-4b33-984e-0682aa0c7090"
      },
      "source": [
        " \n",
        "# load datasets\n",
        "dataset = load_clean_sentences('english-chinese-both.pkl')\n",
        "train = load_clean_sentences('english-chinese-train.pkl')\n",
        "test = load_clean_sentences('english-chinese-test.pkl')\n",
        "\n",
        "print(dataset[:2])\n",
        "print(train[:2])\n",
        "print(test[:2])\n",
        "print(len(dataset))\n",
        "print(len(train))\n",
        "print(len(test))\n",
        "eng_data = [i[0] for i in dataset]\n",
        "chi_data = [i[1] for i in dataset]\n",
        "eng_train = [i[0] for i in train]\n",
        "chi_train = [i[1] for i in train]\n",
        "eng_test = [i[0] for i in test]\n",
        "chi_test = [i[1] for i in test]\n",
        "\n",
        "print(eng_data[:5])\n",
        "print(chi_data[:5])"
      ],
      "execution_count": 25,
      "outputs": [
        {
          "output_type": "stream",
          "text": [
            "[['He earned as much money as possible', '他 能 赚 多少 就 赚 多少'], ['He knows how to play baseball', '他 知道 怎么 玩 棒球']]\n",
            "[['He earned as much money as possible', '他 能 赚 多少 就 赚 多少'], ['He knows how to play baseball', '他 知道 怎么 玩 棒球']]\n",
            "[['Please knock on the door', '请 敲门'], ['I want to talk to your boss', '我 想 跟 你 老板 谈']]\n",
            "19000\n",
            "17000\n",
            "2000\n",
            "['He earned as much money as possible', 'He knows how to play baseball', 'Is there anything that I should not eat', 'I have no knife to cut with', 'The capital of Brazil is Brasilia']\n",
            "['他 能 赚 多少 就 赚 多少', '他 知道 怎么 玩 棒球', '有 什么 东西 是 我 不该 吃 的 吗', '我 没 有 刀子 可用 来切', '巴西 的 首都 是 巴西利亚']\n"
          ],
          "name": "stdout"
        }
      ]
    },
    {
      "cell_type": "code",
      "metadata": {
        "id": "ZcBIE2pPsyAf",
        "colab_type": "code",
        "colab": {
          "base_uri": "https://localhost:8080/",
          "height": 119
        },
        "outputId": "9a1acad6-a270-423b-9238-b94d41f75811"
      },
      "source": [
        "import numpy as np\n",
        "\n",
        "# prepare english tokenizer\n",
        "eng_tokenizer = create_tokenizer(eng_data)\n",
        "eng_vocab_size = len(eng_tokenizer.word_index) + 1\n",
        "eng_length = max_length(eng_data)\n",
        "print('English Vocabulary Size: %d' % eng_vocab_size)\n",
        "print('English Max Length: %d' % (eng_length))\n",
        "# prepare chinese tokenizer\n",
        "chi_tokenizer = create_tokenizer(chi_data)\n",
        "chi_vocab_size = len(chi_tokenizer.word_index) + 1\n",
        "chi_length = max_length(chi_data)\n",
        "print('Chinese Vocabulary Size: %d' % chi_vocab_size)\n",
        "print('Chinese Max Length: %d' % (chi_length))\n",
        "#print(eng_tokenizer[0])\n",
        "#print(chi_tokenizer[0])\n",
        "\n",
        "eng_data_lengths = [] \n",
        "chi_data_lengths = [] \n",
        "\n",
        "for i in eng_data: \n",
        "      eng_data_lengths.append(len(i.split())) \n",
        "\n",
        "for i in chi_data: \n",
        "      chi_data_lengths.append(len(i.split())) \n",
        "\n",
        "\n",
        "eng_avg_sents = (sum(eng_data_lengths))/(len(eng_data))\n",
        "chi_avg_sents = (sum(chi_data_lengths))/(len(chi_data))\n",
        "\n",
        "print('Average English sentence length: ', eng_avg_sents)\n",
        "print('Average Chinese sentence length: ', chi_avg_sents)"
      ],
      "execution_count": 26,
      "outputs": [
        {
          "output_type": "stream",
          "text": [
            "English Vocabulary Size: 5449\n",
            "English Max Length: 11\n",
            "Chinese Vocabulary Size: 10396\n",
            "Chinese Max Length: 16\n",
            "Average English sentence length:  5.605\n",
            "Average Chinese sentence length:  5.188473684210527\n"
          ],
          "name": "stdout"
        }
      ]
    },
    {
      "cell_type": "code",
      "metadata": {
        "id": "h8wvZdkqLMGw",
        "colab_type": "code",
        "colab": {
          "base_uri": "https://localhost:8080/",
          "height": 499
        },
        "outputId": "9577e430-579f-4dbf-d374-acb730cd878c"
      },
      "source": [
        "#histograms of sentence lengths\n",
        "\n",
        "import pandas as pd\n",
        "import matplotlib.pyplot as plt\n",
        "\n",
        "\n",
        "\n",
        "length_df = pd.DataFrame({'English':eng_data_lengths, 'Chinese':chi_data_lengths}) \n",
        "length_df.hist(bins=30, figsize=(12,8)) \n",
        "plt.show()"
      ],
      "execution_count": 27,
      "outputs": [
        {
          "output_type": "display_data",
          "data": {
            "image/png": "[encoded data removed]",
            "text/plain": [
              "<Figure size 864x576 with 2 Axes>"
            ]
          },
          "metadata": {
            "tags": [],
            "needs_background": "light"
          }
        }
      ]
    },
    {
      "cell_type": "code",
      "metadata": {
        "id": "MLcStSLpTo4H",
        "colab_type": "code",
        "colab": {
          "base_uri": "https://localhost:8080/",
          "height": 275
        },
        "outputId": "963d320e-7505-4074-8e96-3211da9cdb2d"
      },
      "source": [
        "#tokens that only appear once\n",
        "eng_single_words = [w for w,c in eng_tokenizer.word_counts.items() if c == 1]\n",
        "chi_single_words = [w for w,c in chi_tokenizer.word_counts.items() if c == 1]\n",
        "\n",
        "eng_frequent_words = [w for w,c in eng_tokenizer.word_counts.items() if c > 100]\n",
        "chi_frequent_words = [w for w,c in chi_tokenizer.word_counts.items() if c > 100]\n",
        "\n",
        "print('English single words: ', len(eng_single_words))\n",
        "print(eng_single_words)\n",
        "print()\n",
        "print('Chinese single words: ', len(chi_single_words))\n",
        "print(chi_single_words)\n",
        "print()\n",
        "print('English frequent words: ', len(eng_frequent_words))\n",
        "print(eng_frequent_words)\n",
        "print()\n",
        "print('Chinese frequent words: ', len(chi_frequent_words))\n",
        "print(chi_frequent_words)\n",
        "print()\n",
        "print('Percent of single words in English vocab: ', (len(eng_single_words)/eng_vocab_size)*100)\n",
        "print('Percent of single words in Chinese vocab: ', (len(chi_single_words)/chi_vocab_size)*100)"
      ],
      "execution_count": 28,
      "outputs": [
        {
          "output_type": "stream",
          "text": [
            "English single words:  2155\n",
            "['brasilia', 'reported', 'acquaintance', 'nara', 'miracles', \"devil's\", 'advocate', 'pleated', 'belt', 'adjoins', 'frequent', 'ridge', 'creature', 'tool', 'eloquent', 'google', 'immigrants', 'tow', 'steak', 'sail', 'bliss', 'fancy', 'pacemaker', 'disagreeing', 'traditions', 'risen', 'opposite', 'tsunami', 'uneasy', 'boats', 'coach', 'selected', 'modifications', 'realized', '1689', 'fares', 'carpentry', 'undercooked', \"cookie's\", 'shuffle', 'damp', 'impulse', 'germanic', 'marrying', 'decides', 'agreeing', 'kilometers', 'prized', 'possession', 'booked', 'globe', 'hoarse', 'nonstop', 'flight', 'respects', 'homeroom', 'disaster', 'sunflower', 'catching', 'scandal', 'picks', 'significance', 'jesus', 'stopping', 'intruded', 'yield', 'flames', 'presents', 'mastercard', '56', 'russell', 'square', 'border', 'plunged', 'record', 'damaged', 'vegetable', 'considerate', 'effect', 'swarm', 'hornets', 'incredibly', 'lemons', 'campfire', \"country's\", 'temperate', 'leads', 'skeleton', 'cave', 'react', 'abilities', 'doggy', 'interfere', 'lunatic', 'abstract', 'shibuya', 'barbershop', 'severely', 'begun', 'confess', '839', 'composition', 'roast', 'slapped', 'glared', 'search', 'accuracy', 'pork', 'developed', 'mongrel', 'consecutive', 'guaranteed', 'parked', 'personally', 'midnight', 'mistakenly', 'vanished', 'arisen', 'envious', \"cousin's\", '1989', 'towada', 'data', 'fourth', 'seek', 'paused', 'west', 'encountered', \"child's\", 'feverish', 'eyelid', 'twitching', 'pattern', '15', 'swept', 'discoveries', 'plus', 'funerals', 'bandages', 'bamboo', 'mountaineering', 'shock', '2003', 'ignoring', 'clears', 'spared', 'pains', 'locate', 'source', 'essentially', 'sipped', 'explaining', 'flatly', 'apologetic', 'stapler', 'playfully', 'shirtless', 'koala', 'central', 'transported', 'telephones', 'dreaming', 'bounce', 'pet', 'warn', 'consent', 'wrongly', 'click', 'industrial', 'towns', 'shortage', 'tightly', 'whining', 'portugal', 'massage', 'outrank', 'discs', 'realise', 'tone', 'skinny', 'conclusion', 'keeping', 'thrown', 'bookworm', 'theories', 'hairdressers', 'gay', 'election', 'unanimous', 'customer', 'toured', 'shirts', '19th', 'weak', 'astonishment', 'sarcastic', 'queen', 'elizabeth', '1603', 'leak', 'outskirts', 'chasing', 'tiptoed', 'commute', 'pillow', 'clubs', \"halley's\", 'comet', '2061', 'canoe', 'geography', 'gathers', 'moss', 'undressing', 'unlocked', 'tenor', 'saxophone', 'packages', 'rebuilding', 'demanded', 'armchair', 'firewood', 'upside', 'zeros', '2010', '4', 'champagne', 'europeans', 'antisocial', 'rowing', 'highest', 'offices', 'wires', 'convey', 'conditioned', 'eligible', 'presidency', 'bribes', 'stage', 'consideration', 'delighted', 'witnessed', 'proceed', 'uncooperative', 'peacefully', 'rested', 'sulfur', 'mistyped', 'socialize', 'planets', 'noted', 'respond', 'unknown', 'broadcast', 'accidental', 'presented', 'shops', 'snoring', 'stylish', 'shore', 'gracious', 'jerk', 'fry', 'seaside', 'sleeve', 'unwell', 'wizard', 'baloney', 'recent', 'hail', 'invite', 'parcel', 'economics', 'executed', 'steps', 'feathers', 'mornings', 'unique', 'sets', \"problem's\", 'trivial', 'considered', 'madrid', 'annoyed', 'prefectures', 'nodded', 'suspicions', 'informative', 'embraced', 'abstained', 'restaurants', 'crawl', 'shattered', 'heroes', 'jointly', 'richer', 'jet', 'landed', 'firemen', 'depressing', 'update', 'website', 'gauge', 'polish', 'latin', 'impression', 'bargaining', 'suntan', 'unsociable', 'brochure', 'barley', 'hook', 'graham', 'greene', 'paces', 'cheers', 'sentences', 'cub', 'priest', 'stings', 'oxygen', 'sunset', 'freshened', 'chimney', 'overhead', 'disposal', 'attributed', 'fax', 'firm', 'tale', 'arrests', 'stroganoff', 'hakodate', 'press', 'planting', 'eggplant', '17', 'appearance', 'dove', 'tapes', 'persuade', 'chased', 'disregarded', 'contains', 'vitamins', 'charming', 'unnecessary', 'california', 'ecstatic', 'deli', 'shortest', 'grasped', 'released', 'syrup', 'licorice', 'flavoring', 'boiled', 'explosives', 'turtles', 'reptiles', 'occupation', 'romantic', 'elementary', 'adorable', 'spices', 'sweep', 'finishes', 'dolled', 'honshu', 'energetic', 'visits', 'timing', 'decisions', 'ginza', 'profits', 'humble', 'spot', 'championship', 'whiter', '28th', '1888', 'stubborn', 'miyazaki', 'screwball', 'misunderstand', 'underestimated', 'illuminated', 'pickpockets', 'continents', 'winners', 'hasty', 'compromise', 'underwear', 'mike', 'serpent', 'tempted', 'eve', 'uniforms', 'according', 'officer', 'drug', 'treats', 'slave', 'musicians', 'ninety', 'predictions', 'jaw', 'mild', 'ease', 'persuaded', 'eavesdropping', 'spilling', 'satisfy', 'laws', 'obviously', 'insecure', 'happier', 'plotting', 'businessmen', 'germans', 'laura', 'ingalls', 'prairie', 'posters', 'dedicated', 'ample', 'manufactures', 'precious', 'defense', 'coworkers', 'aged', 'snickered', 'shown', 'device', 'justifies', 'sting', 'habits', 'item', 'escaping', 'peaches', 'buttons', 'couch', 'salty', 'conform', 'cops', 'dignified', 'unbelievably', 'encouragement', 'noodles', 'fairies', 'decline', 'promoted', 'manage', 'parasol', 'originally', 'honor', 'sleeps', 'wolves', 'microphone', 'inflation', 'sixty', 'paranoid', 'sixteenth', 'dealt', 'afterwards', 'suggesting', 'scalp', 'itchy', 'freed', 'leaned', 'smith', 'beethoven', 'rainfall', 'urban', 'camping', 'hawk', 'grave', 'anniversaries', \"radio's\", 'donations', 'insects', 'effects', 'liable', 'odd', \"school's\", 'joints', 'alike', 'shrines', 'algebra', 'balls', 'emotions', 'inches', 'circle', 'pancakes', 'ham', 'text', 'owned', 'thirtieth', 'cargo', '20th', 'postponed', 'checks', 'astrophysicist', 'umpire', 'mr', 'buffet', 'veranda', 'arrangements', 'assume', 'partially', 'rats', 'pheasant', '300', 'businessman', 'hamamatsu', 'festival', \"children's\", 'voices', 'mislaid', 'peel', \"taxi's\", 'undergo', '180', 'centimeters', 'parallel', 'maintain', 'towers', \"film's\", 'persecuted', 'la', 'comb', 'style', 'split', 'reward', 'sweetheart', 'monopolies', 'sewage', 'pollutes', \"everyone's\", 'somewhat', 'avoid', 'grammatical', 'worthy', \"girls'\", 'resources', 'passes', 'excused', 'journalist', 'quits', 'microwave', 'oven', 'conclusions', 'mount', 'tate', 'recognized', 'thai', 'blossom', 'hens', 'builds', 'encouraged', 'chief', 'undamaged', 'fantasy', 'aboard', 'winner', 'passage', 'succeeding', 'fashioned', 'seventy', 'universe', 'limitless', 'prescription', 'reasons', 'bug', 'chapped', 'permits', 'seine', 'bent', \"valentine's\", 'surprising', 'strategy', 'shounan', \"somebody's\", 'slowing', 'thrilling', 'melons', 'threat', 'richmond', 'infirmary', 'closets', 'pockets', 'unavoidable', 'lighter', 'foundation', 'employment', 'guarding', 'destroy', 'wrist', 'mid', 'forties', 'wow', 'obscure', 'puts', 'neutral', 'rises', 'semester', 'senior', 'unbearable', 'heartless', 'symptoms', 'fabric', 'deeds', 'bungee', 'toothpaste', 'dictionaries', 'cattle', 'tense', 'reverse', 'include', 'bounced', 'accompanies', 'doubled', 'investment', 'umbrellas', 'acknowledged', 'vulnerable', 'asap', 'poets', 'flammable', 'imitation', 'imports', 'exceeded', 'exports', 'tenth', 'ceases', 'astonish', 'sensible', 'scrambled', 'waves', 'drum', 'veterinarian', 'meaningful', '58', 'springs', 'diplomat', 'appreciates', 'meddling', 'vacant', 'carries', 'spray', '1950', 'soared', 'kilogram', 'parted', 'waltz', 'winds', 'moist', 'narita', '3000', 'crew', 'stupidity', 'aid', 'kit', 'leisure', 'aptitude', \"heroine's\", 'proved', '155', 'impressions', 'reliable', 'based', 'internet', '3rd', 'jiffy', 'maruzen', 'chiba', 'ridiculous', 'tender', 'stooped', 'pebble', 'melancholic', 'grandson', 'lit', 'cigar', 'pleasures', 'hick', 'counts', 'pennies', 'theft', 'wiser', 'reflection', 'amazes', 'decreased', 'evaporates', 'err', 'gravity', 'brings', 'kilo', 'disgusted', 'nail', 'grumbling', 'required', 'elbowed', 'rocket', 'launched', 'waitress', 'rewrite', 'saving', 'threaten', 'contemporary', 'forte', 'hike', 'emphasize', 'rabbi', 'printing', 'switch', 'relieved', 'elephant', 'adequate', 'pour', 'melted', 'rides', 'karate', 'distrusted', 'weed', 'preparation', 'sponge', 'absorbs', 'ways', 'measure', 'desperate', 'falls', 'gathered', 'smooth', 'confuse', 'frowned', 'violated', 'band', 'orchard', 'tremendous', 'holiday', 'ripped', 'sammy', 'davis', 'windowless', 'welfare', 'akita', 'grown', 'regions', 'brandy', 'mechanic', 'assembled', 'undressed', 'painter', 'stir', 'employees', 'arab', 'wreck', 'biting', 'nails', 'tolerate', 'interview', 'automatically', 'hopefully', 'beats', 'astonished', 'surrounding', 'critical', 'desks', 'assumption', 'dye', 'blonde', 'trout', \"mozart's\", 'scotch', 'humid', 'ueno', 'heaven', 'deadline', 'claus', 'humiliate', 'unexpected', 'editor', 'doubling', 'risky', 'defects', 'waving', 'shutting', 'indicate', 'decency', 'liz', 'gravy', 'immune', 'smallpox', 'financially', 'implying', 'loose', 'coin', 'sidewalk', 'inflexible', 'gallons', 'lectures', 'zipper', 'smoothly', 'deteriorating', 'alcoholic', 'cheat', 'intimidate', 'bathed', 'mumps', 'rifle', 'committed', 'clues', 'oxford', 'checkout', 'counter', 'emerging', 'cotton', 'responded', 'majors', 'chase', 'cooperative', 'childishly', \"nothing's\", 'council', 'sneaked', 'marathon', 'reform', 'childhood', 'parachute', 'teresa', 'nobel', 'screwed', 'keen', 'delightful', 'claim', 'tags', 'bern', 'avoided', 'fooling', 'softly', 'restart', 'collection', 'judgment', 'paragraph', 'spite', 'celebrity', 'width', 'easygoing', 'froze', 'cell', \"phone's\", 'ringtone', 'extremes', 'exhibits', 'experiences', \"doctor's\", 'replied', 'hottest', 'discriminate', 'adding', 'influences', 'desired', 'ipad', 'quarterback', 'nagasaki', 'volcanic', 'ash', 'disrupted', 'harmful', 'returns', 'beckoned', 'sin', 'laptop', 'hare', 'tortoise', 'unopened', 'unpleasant', 'duck', 'topics', 'mist', 'blackboard', \"deer's\", 'tracks', 'stab', 'fussy', 'former', 'traditional', 'glued', 'screen', 'dancer', 'character', 'owed', 'officers', 'saluted', 'row', 'sadly', 'scenario', 'adult', 'digestion', 'deceived', '1636', 'earthworm', 'wriggled', \"neighbor's\", 'ebay', 'pastime', 'souls', \"grandmother's\", 'dipped', 'receipt', 'drawers', 'fireplace', 'drinkers', 'shelters', 'secretly', 'cuff', 'sapporo', 'bizarre', 'elderberry', 'tail', 'auckland', 'quitter', 'progressing', 'capable', 'cockroaches', \"master's\", 'degree', 'waterproof', 'cuter', 'produces', 'elevators', 'intervene', 'secretive', 'fate', 'wiped', 'seating', 'endure', 'counted', 'passports', 'nearer', 'thermometers', 'amends', 'tottori', 'raising', 'fees', 'slums', 'ballpark', 'includes', 'tax', 'install', 'antenna', 'remove', 'stains', 'collected', 'criticizing', 'fur', 'coats', 'daugther', 'previous', 'suitcases', 'transmission', 'permitted', 'wished', 'professional', 'photographer', 'interrupting', 'devil', 'beggar', 'postcard', 'prettier', 'gazing', 'arms', 'warning', 'corrupt', 'dig', 'sprang', \"minutes'\", 'mexican', 'league', 'affection', 'booth', 'folders', 'flea', 'tents', 'android', 'normally', 'strings', 'slaves', 'commission', 'kuala', 'lumpur', 'beds', 'sashimi', '25th', 'pets', 'exceed', 'worries', 'genuine', 'speeches', \"nobody's\", 'sciences', 'gibberish', 'anticipate', 'telephoned', 'membership', 'joining', 'unmarried', 'straightforward', 'racist', 'testing', 'underpants', 'summers', 'ruin', 'spelling', 'etched', 'elegant', 'mimic', \"person's\", 'exercising', 'blooming', 'pluto', '1860', '305', 'meditate', 'altogether', 'amplifier', 'nissan', 'tuner', 'pretend', 'orphan', 'allied', 'composer', 'peach', 'scholar', 'weep', 'barber', 'erupted', 'coast', 'hitting', 'literally', 'hundreds', 'waterloo', 'unforgettable', 'occurred', 'unfortunate', 'policemen', 'betray', 'foolish', 'ability', 'dies', 'fireworks', 'spectacular', 'thames', 'olympic', \"earth's\", 'satellite', 'beyond', 'tuesday', 'blisters', 'quarrels', 'universities', 'uncomfortable', 'resembled', 'narrowly', 'rainbow', 'finnish', 'mysteries', 'exploding', 'ancient', 'guts', 'causing', 'conditioning', \"who'll\", 'fewer', 'aspired', 'wanting', 'withered', 'hardwood', 'yari', 'scar', 'strengths', 'weaknesses', 'luckily', 'route', 'booklet', 'attributes', 'annoy', 'trim', 'undo', 'tales', 'woolen', 'professor', 'slamming', 'pox', 'cholesterol', 'picking', 'ii', 'plants', 'locating', 'gain', 'groaned', 'daily', 'mutual', 'understanding', 'promotes', 'arriving', 'witch', 'surgery', 'weighs', 'ufo', 'shipping', 'leader', 'deadlock', 'toaster', 'scored', 'apparently', 'princess', 'victim', 'locking', 'initials', 'ntt', 'matsue', 'preserve', 'decay', 'slip', 'napping', 'candles', 'slightly', 'moral', 'tablecloth', 'cabinet', 'revolution', '1789', 'discarded', \"accident's\", 'survivor', 'defibrillator', 'atheist', 'skis', 'independent', 'invested', 'stocks', 'putt', 'jst', 'software', 'approach', 'career', 'pasture', 'acres', 'weapon', 'admonished', 'dna', 'rap', 'caviar', 'theme', 'admiring', 'talent', 'taxis', 'neck', 'feared', 'bald', 'breast', 'feeding', 'identified', 'murderer', 'beverage', 'strain', 'vaguely', 'highly', 'fukuoka', 'leather', 'orbit', 'crash', 'sewing', 'steals', 'mysterious', 'atmosphere', 'punishes', 'encores', 'frightens', 'participated', 'debate', 'salmon', 'intentions', 'accelerated', 'command', 'hudson', 'humans', 'adopted', 'handled', 'religious', 'makeup', 'cups', 'pacific', 'foolproof', 'paintbrush', 'compact', 'disc', 'impolite', 'starving', 'appeal', 'yawned', 'reviews', 'marital', 'status', 'merry', 'meaningless', 'sorts', 'visibly', 'earliest', 'bless', 'hesitate', 'attained', 'accompany', 'inspired', 'sincere', 'suggested', 'severe', 'sued', 'damages', 'dialog', 'hacked', 'pta', 'obligation', 'fifteen', 'premonition', 'mercury', 'necessity', 'current', 'blocks', 'motive', 'responsibilities', 'risked', 'phoenix', 'arizona', 'seated', 'shocked', 'toad', 'instrumental', 'betrayed', 'computers', 'sheer', 'concentrate', 'sucker', 'textbook', 'cruel', 'crucial', \"where're\", 'amateur', 'economical', 'forecast', 'performance', 'pressured', 'dances', 'sir', 'motion', 'online', 'poisonous', 'scuba', 'diving', 'renewed', 'timetable', 'foster', 'floats', 'thumb', 'unfairly', 'tonal', 'details', 'relieve', 'frighten', 'promising', 'hating', 'stained', 'rubbish', 'construction', 'trick', 'dial', 'differs', 'facing', 'parties', 'texting', 'justice', 'prevail', 'ambiguous', 'blank', 'countryside', '14', '1960', '25', 'shaking', 'authority', 'celebrate', 'intrude', 'lansing', 'state', 'michigan', 'sole', 'gifted', 'shift', 'eighth', 'shaved', 'uniform', 'brakes', 'concise', 'employed', 'outdoors', 'obese', 'pigsty', 'dish', 'melt', 'stove', 'races', 'despite', 'riches', '1865', 'adjust', 'complaints', 'swearing', 'cries', 'gestalt', 'therapy', 'beijing', 'terrified', 'concerts', 'millions', 'poisoning', 'fingerprints', 'malaysia', 'strictly', 'knit', 'nights', 'taiwan', 'mandarin', 'demands', 'prepare', 'whoever', 'mobile', 'drugstore', 'sank', 'swimmers', 'yourselves', 'peg', 'comedian', 'designer', 'breaks', 'panic', 'revealed', 'registration', 'landslide', 'becoming', 'recovery', 'hostess', 'hunting', 'visa', 'otherwise', 'locker', 'weekends', 'edible', 'disease', 'fountain', 'fearless', 'potato', 'chips', 'delivered', 'grand', 'reluctantly', 'added', 'smarter', 'hen', 'revenge', 'matchbox', 'shade', 'girlfriends', 'ambitions', 'donuts', 'bars', 'leaning', 'cashier', 'instantly', 'declare', 'organic', 'resent', 'comics', 'goodbyes', 'root', 'evil', 'hungarian', 'bra', 'saudi', 'arabia', 'concept', 'greedy', 'clue', 'foods', 'destiny', 'magician', 'pub', 'marie', 'curie', 'radium', 'survivors', 'bookkeeping', 'communication', \"beauty's\", 'gifts', 'extension', 'cord', 'nests', 'besides', 'hollywood', 'disasters', 'region', 'separately', 'conveniently', 'located', 'argue', 'utterly', 'crisis', 'ultrasound', 'unusually', 'retirement', 'agreeable', 'cornered', 'rat', 'quart', 'dutch', 'closely', 'related', 'neat', 'via', 'ale', 'stockings', 'petals', 'mopped', 'symbol', 'einstein', 'diplomats', 'privileges', 'devoted', 'cheer', 'dragon', 'vat', 'sulfuric', 'balloon', 'cursed', 'training', 'hazel', 'whomever', 'athletic', 'criminal', 'whatsoever', 'exceptions', 'handbag', 'agrees', 'heartedly', 'pendant', 'cynical', 'farmer', 'worm', 'grammar', 'serves', 'atrocious', '32', 'fahrenheit', 'thoroughly', 'milkshake', \"bag's\", 'believed', 'bulb', 'souvenirs', 'owl', 'chit', 'insist', 'smiths', 'extraordinary', 'complaint', 'consoling', 'clerk', 'march', 'poetry', 'communicate', 'consented', 'disadvantage', 'hiroshima', 'asian', 'updates', 'honda', 'dim', 'proactive', 'abolish', 'penalty', 'flunked', 'skilled', 'fisherman', 'bakes', 'action', 'pretends', '100000', 'bid', 'monthly', 'exceptionally', 'nation', 'windy', 'adopt', 'shared', 'teammates', \"year's\", 'sidney', 'sheldon', 'paved', 'asphalt', 'bombed', 'loser', 'passion', 'closer', 'methods', 'scientific', \"door's\", 'veterinary', 'background', 'recorder', 'reagan', 'synchronize', 'prisoners', 'passive', 'detailed', 'syringe', 'dived', 'bulky', 'precedent', 'physician', 'knitting', 'poland', 'warsaw', 'sizes', 'testified', 'zimbabwe', 'colony', 'straighten', \"everybody's\", 'spirits', 'gawking', 'underwater', 'enthusiasm', 'hurried', 'lease', 'dusts', 'puffs', 'lad', 'resides', 'chinatown', 'typed', 'curtains', 'arrow', 'deer', 'belonged', 'threatened', 'unfit', 'quiz', 'tend', 'necktie', 'notebooks', 'exploded', 'thorn', 'analyzed', 'alarm', 'blinded', 'goof', 'essay', 'tank', 'spy', 'destroyed', 'canary', 'attitude', 'thou', 'shalt', 'disney', 'confirm', 'elated', 'wasting', 'aso', 'perseverance', 'ogai', 'amounted', 'crow', 'refuses', 'elderly', 'disheveled', 'flashlight', 'substituted', 'glamorous', 'underage', 'arranging', 'graceful', 'eyed', 'footprints', 'incompetent', 'suspicious', 'underneath', 'cia', 'lines', 'belief', 'terrific', 'bridges', 'length', 'vibe', 'reduce', 'harajuku', 'director', 'farsi', 'blushing', 'swiss', 'consume', 'accomplished', 'shaves', 'shed', 'military', 'defeated', 'belly', 'applicable', 'consequences', 'weeded', 'rear', 'tattoo', 'removed', 'governed', 'composers', 'crocodiles', 'tapped', '16', 'lion', 'content', 'improve', 'pack', 'abated', 'hop', 'sleeves', 'stingy', 'fourths', 'nowhere', 'cutest', 'qualms', 'nephew', 'rugby', 'sanctuary', 'grandpa', 'skier', 'sink', 'toothache', 'participants', 'whistled', 'decorated', 'tolerated', \"t's\", 'itch', 'tangerines', 'c', 'evidence', 'begged', 'vowed', 'returning', 'social', 'hedge', 'dealing', 'spoil', 'ending', 'honey', 'transfer', 'beard', 'unwise', 'cage', 'inappropriate', 'otaru', 'talkative', 'issues', 'finds', 'distasteful', 'coke', 'cleaner', 'aggressive', 'waits', 'mountains', 'ski', '4th', 'lower', 'deserted', 'sporting', 'bomb', 'gentle', 'halloween', 'extreme', 'distant', 'relative', 'illustrated', 'rate', 'translator', 'scold', 'agreement', 'artistic', 'knob', 'captivate', 'pirates', 'boarded', 'dawn', 'lighten', 'doorknob', 'ongoing', 'vaccinated', 'flu', 'powder', 'trade', 'ties', 'unify', 'groups', 'raffle', 'acorns', \"summer's\", 'hopeful', 'farsighted', 'banged', 'fist', 'pies', 'golden', 'rabbits', 'tails', 'resort', 'disagree', 'conference', 'milton', 'abducted', 'non', 'artists', 'determination', 'stabbed', 'waterfall', 'helen', 'keller', '0', 'centigrade', 'bookcase', 'level', 'bawling', 'delay', 'responding', 'kissing', 'libras', \"friends'\", 'wrapped', 'guitarist', 'steady', 'modesty', 'respecting', 'alps', 'avoidable', \"weather's\", 'partied', 'irregular', 'verbs', 'feeds', 'fumbled', 'pumps', 'title', 'cleaners', 'digital', 'checking', 'resisting', 'reduced', 'ashes', 'asama', 'dormant', 'loaves', 'controversial', 'knees', 'aerobics', 'equipment', 'laziest', 'require', 'cozy', 'resigning', 'reserved', 'answering', 'phones', 'bowl', 'vietnam', 'veteran', 'copies', 'claims', 'stockholm', 'sweden', 'manager', 'branch', 'faint', 'tent', 'youngsters', 'folding', 'blog', 'fabulous', 'mostly', 'declared', 'armenian', 'indo', 'european', 'jack', 'marvels', \"picasso's\", 'ambiguities', 'companies', 'advertisements', 'urge', 'luxuries', 'indian', 'navy', '98', 'pursue', 'brand', 'rights', 'gang', 'fellow', 'lively', 'walls', 'constantly', 'pinch', 'resourceful', 'murdered', 'malaria', 'smoked', 'lens', 'illusion', 'issued', 'burden', \"she'd\", 'disturbing', 'scolding', 'halfway', 'hiccups', 'cubed', 'organized', 'denying', 'doorway', 'triple', 'napkin', 'retiring', 'takasu', 'clinic', 'nineties', 'overcome', 'sadness', 'suspects', 'sufficient', 'marks', 'field', 'educational', 'restless', 'seminar', 'musical', 'instrument', 'teeming', 'polar', 'resigned', 'fled', 'goodnight', 'hippopotamuses', 'selfish', 'logged', 'deceitful', 'completed', 'concerns', 'increase', 'messages', 'lean', 'insisted', 'considering', 'horrible', 'mix', 'invitations', 'swollen', 'bend', 'loaded', 'printed', 'reducing', 'stress', 'piloted', 'attempts', 'vases', 'credibility', 'candlelight', 'aspirin', 'pronunciation', 'photos', 'privately', 'grasp', 'jungle', 'cow', 'deputy', 'felicja', 'unfair', 'email', 'handcuffs', 'points', 'folded', 'neatly', 'masters', 'remarks', 'collect', 'disneyland', 'slippers', \"other's\", 'yelled', 'fright', 'dallas', 'advantage', 'clown', 'sawing', 'shows', 'telegram', 'clicked', 'creationism', 'pseudo', 'willpower', 'obstinate', 'bitter', 'interpreted', 'refusal', 'resented', 'seventeenth', 'towels', 'insect', 'freezing', 'tools', 'protection', 'edge', 'tricked', 'incalculable', 'suffer', 'manila', 'listens', 'authorized', \"women's\", 'avoids', 'addition', 'exaggerating', 'adores', 'scholarship', 'overreacting', 'process', 'surfers', 'ignore', 'grapefruits', 'fallen', 'preferred', '1996', 'rode', 'repainted', 'identity', 'killer', 'submitted', 'stirred', 'teaspoon', 'inevitable', 'sloppy', 'abate', 'preparations', 'vary', 'conceal', 'disappointment', 'logical', 'overcoat', \"author's\", 'streaked', 'scrap', 'blast', 'organ', 'austria', 'roman', 'discover', '50000', \"who'd\", 'fortunately', 'sigh', 'relief', 'daddy', 'apt', 'method', 'limitations', \"robber's\", 'purchase', 'brain', 'cooks', 'flush', 'dripping', 'billionaire', 'procedure', 'relationship', 'farewell', 'links', 'recall', 'voyage', 'bleed', 'itself', 'flawed', 'entries', 'observe', 'trash', 'absence', 'fonder', '88', 'culture', 'cycling', 'illegal', 'refugees', 'blankets', 'hitched', 'ultraviolet', 'rays', 'colorado', 'figures', 'smack', 'bedtime', 'shyly', 'sung', 'ironing', 'poker', 'skates', 'fuels', 'cambridge', 'honors', 'prettiest', 'harm', 'scraped', 'pace', 'pear', 'erase', 'mislead', 'absconded', 'stripes', 'horizontal', 'basho', 'interfered', 'core', 'unfamiliar', 'inch', 'cv', 'journal', 'predict', 'ranger', 'pipe', 'containers', 'airtight', 'mathematical', 'terribly', 'swallows', 'engrossed', 'garbage', 'postcards', 'injury', 'response', 'task', '1914', 'overweight', 'happily', 'panel', 'experts', 'ambassador', 'external', 'identical', 'import', 'haste', 'affects', 'advertising', 'bringing', 'millionaire', 'hong', 'kong', 'ours', 'depart', 'somehow', 'unlock', 'included', 'era', 'atomic', 'dried', 'remembering', 'marches', 'electrician', 'bites', 'confronted', 'difficulties', 'sweets', 'philosopher', 'anonymous', 'idly', 'teenager', 'slavery', 'saddled', 'chopin', 'meth', 'addict', 'blink', \"cat's\", 'mastering', 'prairies', 'forehead', 'baking', 'defined', 'internship', 'solid', 'crimes', 'robot', 'slid', 'distances', 'sympathy', 'susceptible', 'expectations', 'longest', 'excess', 'politeness', 'established', 'cupcakes', 'hint', 'antiques', 'decent', 'heavily', 'embarrassed', 'carrying', 'ruined', 'verge', 'mp3', 'blessing', 'january', 'sights', 'confidential', 'amazingly', 'lifted', 'terrorist', 'organizations', 'beers', 'digging', 'survival', 'aisle', 'intriguing', 'lid', 'homesick', 'ac', 'necessarily', 'permitting', 'ecology', 'starved', 'draft', 'dreamt', 'faith', 'repay', 'span', 'neglected', 'duties']\n",
            "\n",
            "Chinese single words:  5770\n",
            "['巴西利亚', '点到', '目击', '奈良', '期盼', '朴素', '辩护士', '百褶裙', '骗过', '紧邻', '着餐', '那该', '经常去', '这棵', '帕', '克里', '奇', '这是给', '产物', '亲无法', '东京站', '不感兴趣', '中肯', '零在', '谷歌', '移民', '阵亡', '拖走', '旷课', '笔财富', '我装', '起搏器', '升高', '事太多', '说出', '睡不着', '睁开眼睛', '绑', '施工', '入住', '水装满', '可行', '海啸', '正经', '清了清', '问个', '夹', '此门', '经病', '刚成', '名校', '旧手', '咱在', '开溜', '喝苹', '图解决', '第三季', '时销售', '病要', '发作', '我同', '共同之处', '走远', '镜', '前练习', '栏杆', '周六将', '非常高兴', '马力', '教练', '1689', '理所当然', '车费将', '涨价', '这里花', '有志', '关联', '忍着', '转角处', '开慢', '过会来', '内会', '橱柜', '支球', '队会赢', '放学后帮助', '木工', '还不够', '正餐', 'cookie', '比赛将', '生了双', '那事用', '这门', '从里面', '反锁', '多坏', '人用', '自一个', '山城', '洗牌', '扑', '湿布', '清洁', '气点', '单人房', '日耳曼', '火山', '恳请', '你后悔', '决策', '是关', '健身房', '问汤姆', '公里', '庄里', '辛辣', '昰', '走神', '我记', '不得了', '交功', '沙哑', '可拨', '逃走', '信守诺言', '给玛丽', '别人付', '直飞', '航班', '商业伙伴', '没遇', '天助', '导师', '操控', '除过', '保持警惕', '舌尖', '向日葵', '紧追', '出路', '丑闻', '付出', '领会', '献给', '那猫', '某些', '忧伤', '耶稣', '着见', '务', '一来', '电影吧', '没有还', '请先', '船起', '白雪公主', '万事达', '没错', '种类', '罗素', '广场', '56', '这书', '点前', '东西写', '边界', '至', '新低', '钟起', '一束', '我八点', '何不', '考虑周到', '很想', '变红色', '一窝', '蜂', '两小时', '地开', '粉红色', '要点', '中奖', '一家人', '柠檬是', '问那边', '岗哨', '汤姆习', '惯用', '营火', '左脚', '我国', '温带', '某地', '洞穴', '一具', '骨架', '市', '烧鱼', '解决不了', '完全同意', '穷', '兵库县', '多贵', '每天晚上', '点别', '买辆车', '算有', '巴士站', '书写', '内容', '提要', '这天', '常自言', '自语', '长凳', '涉谷', '去理', '严厉', '斥责', '点药', '开小差', '地筋', '除', '以外', '这笑', '839', '作文', '最差', '三十元', '多一些', '烤牛肉', '做礼拜', '及时', '掴', '瞪', '查找', '豪', '准确性', '计算', '锁大门', '钟才会', '猪肉', '走走', '地康', '说并', '即将', '许多亚洲', '等不及', '貼着', '香水', '吃些', '杂种', '十天', '误后悔', '你学', '抨击', '我会亲', '自拜访', '溢出', '书桌下', '理发', '家常菜', '雇佣', '难免', '午夜', '你染', '误删', '打铁', '签上', '相关', '钢琴家', '爱得', '要命', '米价', '表哥', '1989', '1', '生命危险', '和田', '湖以', '美丽闻名', '数据', '准确', '信使', '繁星', '那花闻', '身亡', '用力', '西飞', '市场占有率', '后面', '坚持下去', '关于鸟类', '渐渐', '脚痛', '俄罗斯', '擦擦', '烫', '过后是', '宁静', '左', '眼皮', '地游过', '善用', '许多国家', '图案', '能学会', '把戏', '艺术作品', '总裁', '然后数', '一股', '寒流', '侵袭', '医学', '搜查', '患难', '真情', '很旧', '侦探小说', '一加', '听听', '三场', '裁布', '绷带', '让我拿', '竹子', '生长', '轻井泽', '值班', '震撼', '自从', '2003', '最深处', '作饭', '请带', '刀来', '遗余力', '刊登', '治疗', '一副', '软', '根源', '办法赢', '登机证', '差别', '来点', '变有', '本质', '当总统', '啜', '饮热', '年里', '断然', '山顶', '通到', '订书机', '穿黄色', '无尾熊', '胆量', '也给', '高个子', '熟稔', '钟上', '战斗中', '汤姆赛', '里学', '这批', '多烟', '封闭', '惊恐', '有待', '贺卡', '人口众多', '按下', '我望', '着海好', '东山再起', '鹦鹉作', '我回', '紧急情况', '姐弟', '蛋壳', '破碎', '条件', '在乎', '寄错', '点击声', '顶上', '小气', '货车', '性格', '上大学', '握个', '外貌', '蒙蔽', '短缺', '鸟胜过', '一条鱼', '下星期', '紧地', '笔记', '埋怨', '这匹马', '闻见', '里学习', '葡萄牙', '按摩', '级别', '之上', '长靴', '方向感', '五音不全', '这区', '拆', '这面', '一整', '篮', '经写', '喜爱音乐', '一心两用', '跑过来', '苗条', '比说', '我认', '使人', '落后', '种什么', '因得', '什么果', '玛丽带', '世界末日', '黄色', '套衫', '得出', '负伤', '书放', '回书', '节', '忙活', '赶出', '抄', '所谓', '书虫', '热恋', '理发师', '同性恋', '太难读', '好鞋', '他关', '选举', '一致', '正待', '公交车站', '顾客', '餐后供', '洗干净', '新药', '画有', '19', '数千人', '汤姆己经', '挖苦', '人质疑', '亲自过', '风停了', '女王', '伊丽莎白', '一世', '1603', '乘船', '泄露', '潜心', '漏气', '破', '无法读', '踮', '着脚', '尖', '车钥匙', '看穿', '许可', '上下', '钱够', '那太多', '用少', '预算', '不言而喻', '幸免', 'a型', '阳性', '甘心', '债', '还喜欢', '枕头', '隶属', '哪家', '患者', '信读', '哈雷彗星', '2061', '乘着独', '木舟', '向河', '下游', '而行', '科幻', '地理', '滚石', '不生', '苔', '脱衣服', '敢肯定', '事务', '十三年', '最高点', '门没', '上锁', '我吹次', '中音', '萨', '克斯', '都行', '重建', '要试', '张舒适', '扶手椅', '雨点', '打着', '向着', '一对双', '柴火', '2010', '零', '环顾', '点结束', '香槟', '这堵', '墙长', '挂科', '想不出', '点子', '休息日', '关于船', '缺点', '欧洲人', '级', '抱负', '陡峭', '斜坡', '划船', '货品', '品质', '不肯', '扇门', '电线', '电力', '衷心感谢', '您给', '指一', '指路', '他划', '火柴', '运作', '教养', '无法回答', '一知半解', '资格', '收取', '贿赂', '舞台', '来世', '仔细地', '慎重', '难倒', '扔回', '目睹', '杀案', '想吃些', '从未', '费时', '他刚', '俱', '猴', '清淡', '传闻后来', '过夜', '亲要', '安详', '硫磺', '火焰', '纸来', '绕着', '太阳转', '快死了', '绝好', '不明', '节目现', '播出', '纯属偶然', '学开车', '看好', '钟发车', '饮料给', '几家', '整场', '放映', '有车', '打鼾', '半前', '开饭', '几句', '贝壳', '和蔼可亲', '认真地', '摄像机', '忽视', '张机票', '煎', '点点', '逃不出', '你表上', '体验', '出色', '海滨', '服务员', '袖子', '术士', '警惕', '胡扯', '三倍', '近照', '积极', '方面', '乌云', '征兆', '与众', '坐着', '右往', '左读', '忽略', '传开', '火好', '汤姆累', '铺满', '羽毛', '乐子', '我选', '花有', '独特', '从桥', '熄灭', '多吃点', '比语', '响亮', '频繁', '鸡毛蒜皮', '小事', '不称', '我晚', '饭后弹', '张红润', '可能性', '趴着', '腿部', '强健', '挑不出', '这双鞋', '我藏', '被车', '纽西兰', '强有力', '预防措施', '马德里', '有利于', '县', '免税', '以后打', '生了', '地尝试', '咨', '询处', '点头', '车程', '来颗', '信息量', '逗人', '父亲会', '王子真', '登记', '这堂', '弃权', '招待', '你弹', '显着', '自由式', '尤其', '这值', '当官', '晕', '专辑', '梦到', '关于动物', '客机', '人口', '消防', '火扑灭', '丧气', '更新', '杯酒', '识到', '想过', '门和', '野生', '卖花', '手干净', '猴急', '才华', '很粗', '鲁', '全写', '请踮', '图挂', '数十', '燃油', '表坏', '问了关', '能否', '真该', '一觉', '词源', '拉丁', '抽出', '你安顿', '拒', '那里连', '永久', '时刻', '砍价', '打车', '七个', '船挂', '着美国', '国旗', '晒黑', '他太年', '装潢', '防微', '杜渐', '实力', '宣传册给', '看太多', '洗衣', '小麦', '大麦', '这实验', '钩子', '我加', '好友', '格雷厄姆', '格林', '摔坏', '几步', '一见钟情', '沿着河', '爱你多', '两层', '日出', '我想讲', '他三个', '干杯', '还在赢', '壁上', '挂着', '问我要', '商场', '幻想', '以一个', '大写', '小老虎', '大猫', '服从', '他成', '从右边', '影子', '牧师', '早上好', '螫人', '氧气', '投', '反对票', '不许', '夕阳', '牧草', '覆水', '难收', '姓氏', '梳洗打扮', '卧床', '靠你了', '烟囱', '直升飞机', '头顶', '那不够', '借过', '热的', '死不降', '霸占', '没有电', '然后发生', '几会来', '传真', '忍住', '眼泪', '住手', '单铺', '全日', '游吗', '把帐', '单给', '很帅', '掉头', '授给', '实施', '没讲', '俄式', '立下', '函馆', '相处过', '40', '留神', '摇动', '遵', '车被', '遇上', '奶奶', '一箱', '会儿', '地舒适', '山地车', '喝点热', '哪颗', '大脑', '被忽视', '太漂亮', '不学', '课堂', '祸', '单行', '跟玛丽', '冻冰', '茄子', '送回', '玛丽日语', '措施', '预防', '用手', '我渴', '能看懂', '搭计', '程车', '附', '回覆', '经来过', '太嫩', '跳进', '票价', '新年', '简而言之', '这没什么', '爱我们', '图改', '变话题', '这首', '治感冒', '1972', '会长', '留存', '找零', '有现', '太窄', '维他', '好怕', '他点', '过于', '比萨饼', '选中', '破例', '加利福尼亚', '剪短', '门后面', '他讲', '先去', '好听', '熟食店', '解决问题', '收回', '谁给了', '取决于', '四点', '奏效', '汤姆换', '如用', '九折', '优惠', '我会载', '一程', '哭边', '糖浆', '甘草', '十只', '鸦雀无声', '探讨', '爆炸物', '看诊', '海龟', '爬行动物', '浪漫', '胜于', '结婚并', '小学时', '里待', '香料', '有四个', '取回', '谁种', '这棵树', '精心', '钟锁门', '黑狗', '白狗', '本州', '北部', '探访', '好时机', '次', '不知所措', '走慢', '秘', '密', '银座', '聪', '明人', '受益', '从头', '尾', '幸运有', '事物', '伸长', '文档', '译成', '我寄给', '总会', '还多', '事事', '夏季', '支笔', '庙里', '到校', '谦虚', '一间后面', '受欢', '迎', '竞争', '冠', '比雪', '这车', '亲喜', '欢浓', '三台', '它当', '守住', '服务台', '询问', '感受一下', '尽全力', '处于', '我本来', '面颊', '1888', '28', '了将', '近十年', '宫崎', '往日', '笔做', '出发点', '版面设计', '派出', '接着', '照亮', '扒手', '汤姆乐观', '冰块', '七大洲', '快好了', '我夢见', '很能', '优胜者', '评分', '丢掉', '外文', '活路', '是双', '完饭', '妥协', '自言自语', '衣', '很着急', '铃薯', '太早', '我八点钟', '打开门', '干脆', '断绝来往', '刚来', '地多', '课上', '困死', '衬衣', '纽扣', '互相帮助', '夏娃', '按计划', '警官', '国际性', '遥控器', '药局', '别老', '前死', '段时间', '能些', '止咳', '药吗', '激烈', '预测', '磕碎', '下巴', '几颗', '快餐店', '可不', '同住', '有部', '一磅', '偷听', '这与', '无关', '那座桥', '离手', '众口难调', '这以', '东三哩', '只想', '睡点', '安全感', '不累', '会付', '授奖', '老先生', '你老', '师的', '正密谋要', '向右转', '感染', '德国人', '劳拉英', '戈尔斯', '通情达理', '散发', '臭气', '海报', '市里', '试试看', '恢复', '环', '安全帽', '当我读', '包总比', '教汤姆', '历史课', '桌下', '阁', '楼里', '纸烧', '奉献给', '充裕', 'cd机', '书学到', '爱一样', '珍贵', '进攻', '防御', '绝不会', '同事', '中年', '胖女人', '这套', '作钢琴', '暗中', '装置', '立马', '正当', '不择', '堂姊妹', '内有', '蛰', '余', '生性', '肚子饿', '哪类', '丰盛', '当真', '战乱', '桃子', '室', '否决', '还关心', '长沙', '奶酪', '用奶', '柄', '平锅', '湖在', '很深', '法案', '会到', '收支平衡', '足球比赛', '事来', '构', '不信', '条子', '别留', '没干', '玛丽年', '纪大', '搭到', '威严', '合格', '不耐烦', '放回', '记不起来', '听够', '谎话', '傻得', '水结', '钟后会', '条还', '八十', '是非不分', '那部', '是给', '成绿色', '怀', '双胞胎', '神话', '传说', '看会', '替换', '晋升', '阳伞', '汤姆之间', '酒水', '全体', '名誉', '心不在焉', '睡八个', '过于乐观', 'wi', 'fi', '狼吓', '羊毛衣', '他仰', '假设', '难挨', '问起', '伸出', '援手', '自苏格兰', '最小', '身高', '摇篮', '要生', '汤姆进', '通货膨胀', '六十岁', '向往', '很常见', '交错', '提包', '戴头', '盔', '楼下', '还能', '猎人射', '共赴', '多疑', '穿鞋', '天性', '很凉爽', '汤姆造', '作队', '问你', '遇不到', '这汤', '最晚', '锁', '是笔', '他在门', '规定', '交上来', '头皮', '痒', '本书来', '不生气', '妈量', '有个双', '飞越', '身子', '这应', '贝多芬', '谈到', '雨势', '偶尔去', '回头', '汤姆爱', '素食者', '脾气', '都市', '露营', '鹰', '汤姆弄伤', '改不了', '大三', '周年', '纪念', '对室', '内灰尘', '代替', '很准', '庄里长', '还没到', '布局', '玛丽不会', '捐赠', '火总是', '糊涂', '专门', '纯洁', '心', '而气', '略称', '陡坡', '点心', '受了伤', '关上门', '台靓车', '我夢到', '手册', '副作用', '还债', '车借给', '得学', '自信', '假花', '音乐有', '我校', '大门', '迎接', '这吗', '玛丽有', '初中生', '队输', '场比赛', '常来', '这班飞', '机准', '时起', '食', '欲', '包是', '用小麦', '我连', '想都不想', '张开', '你付', '阁楼', '当天气', '关节', '美国成', '一模', '退到', '绳子后面', '那朵', '密友', '神社', '痛得', '代数', '圆', '我想学', '情绪', '黏在', '经爱过', '毫不', '费劲', '高三', '英寸', '一个圈', '煎饼', '火腿三明', '治', '公正', '给我发', '短信', '商量一下', '丢失', '宁可', '嘲弄', '本好', '张照', '写诗', '货船', '闷闷不乐', '这鸟', '称呼', '腋下', '跟我走', '推迟', '漫步', '稠', '太多人', '万一', '接下', '周去还', '用现', '金付', '折扣', '经想过', '学家', '东京上', '不已', '皮夹', '当这场', '裁判', '如意郎君', '两人份', '节目', '暖房', '是圆', '两堂', '理化', '假定', '小时候', '经用', '野鸡', '谈一谈', '新交', '深思熟虑', '老是', '赔', '日英', '滨松', '风筝节', '旅游业', '真特别', '削', '唱首歌', '经去过', '假如', '把马车', '挟着', '180', '公分', '铁路', '公路', '平行', '假发', '维持', '出类', '拔萃', '两双', '迫害', '三百', '万美圆', '洛杉矶', '付得', '自助餐', '违', '背己', '愿放弃', '抱抱', '真蠢', '中式', '服装', '汤姆带', '独到', '见解', '有风险', '衣装', '盲人', '关小一点', '甜心', '废水', '污染', '听腻', '带路', '监视', '糟透了', '酒驾', '文法', '加油站', '这方面', '全班同学', '值得尊重', '女子', '还行', '并不拥', '资源', '太醉', '干柴', '烧得旺', '车出', '阿拉伯文', '不穷', '微波炉', '妄下', '早晚', '围着', '转', '立山', '他当', '某种', '周末会', '模特', '泰国菜', '我买给', '不嫉妒', '冷风', '发完', '顿来', '语就', '无法解释', '请待', '老师问', '活生生', '两位', '赐予', '延期', '拔除', '笑声', '最为', '虚度', '创建', '现代', '投给', '着想', '擅', '奇幻', '上船', '赢家', '散架', '两到', '光看', '表面', '不足', '够的', '我常', '哪里长', '力所能及', '满是', '溪流', '守旧', '读到', '冰冷', '宁愿', '70', '有大', '他五点', '宇宙', '浩瀚', '无边', '药方', '你何', '回学校', '能带', '合理', 'un', '从德国', '军队', '我愿', '意帮', '欢大狗', '郁金香', '裂开', '困住', '塞纳河', '穿越', '谢谢你们', '不用谢', '竭尽全力', '讨好', '情人节', '坏消息', '回波', '士顿', '湘南', '值勤', '跳绳', '钟停', '在外', '体型', '红鞋子', '跑调', '窃贼', '做好事', '五小时', '不停', '里士满', '打向', '会待', '算数', '仔细听', '医务室', '我度过', '参加戏', '剧社', '衣橱', '插进', '捐血', '能比', '美洲', '所学校', '向门', '为溅', '不可避免', '越亮', '毫无根据', '大巴', '守卫着', '找出', '手腕', '同时', '两件事', '四十多', '哇', '他游过', '刚离婚', '句句', '周帮', '车子加', '油', '中立', '整年', '当中', '时犯', '学期', '要用', '冒着危险', '墨镜', '胡言乱语', '它会', '好转', '沉迷于', '摇晃', '先为', '上菜', '难以忍受', '最后下', '拆掉', '无情', '我讲', '薄织', '物', '地开车', '积', '雪深', '高空', '弹跳', '牙膏', '书太多', '五本', '以上', '照耀', '很忙', '以后会', '至死', '泪流', '满面', '肥', '买块', '因酒', '经住', '怎样才能', '让步', '多放', '叫作', '日夜兼程', '汤姆离', '汤姆像', '讨论一下', '退票', '雨断', '断续续', '无国界', '这台车', '夜校', '论', '汤姆长', '绝不能', '影集', '请客', '戴帽子', '有志者事竟成', '中拥', '看些', '思维', '这个岛', '苹果派', '常看到', '漏水', '得知', '脆弱不堪', '汤姆能给', '留言', '可燃', '仿造品', '给我带', '商品', '额超过', '出口商品', '额', '周日花', '十日', '分出', '对双', '用场', '抛弃', '几杯', '山有', '外形', '老到', '出错', '自身', '炒蛋', '浪拍', '早离开', '转过', '打鼓', '位成员', '意味', '深长', '58', '聊胜于无', '温泉', '多么强', '背后', '留下来', '张开嘴巴', '向前', '后来', '几间', '空房', '英文歌曲', '包里', '喷剂', '1950', '欢迎会', '哪见', '大幅', '两倍长', '闲空', '闹笑话', '如昔', '起会', '难聚财', '后天', '华尔滋', '舞曲', '顿住过', '再待', '逐出', '吹来', '湿漉漉', '每六个', '我无家', '可回', '那首歌', '再往', '添些', '木柴', '不给', '添麻烦', '成田', '总共', '3000', '现代船', '组', '船员', '逗笑', '驱散', '斗殴', '了结', '我度', '过一个', '路程', '这做', '多云', '夫人', '韩国菜', '往前', '问再', '急救箱', '这得', '内用', '外带', '专心', '击球', '很伤', '那鱼', '栖息', '水域', '大众', '未过', '登机', '小径', '往右', '边转动', '练', '习弹', '厕', '做一套', '空闲', '布娃娃', '地解决', '非凡', '天份', '这两', '亮灯', '不下雨', '则矣', '倾盆', '兜', '女主角', '告终', '描述', '待久', '帮个', '我绝', '爱说', '155', '将成', '种族歧视', '惊呆', '靠不住', '张床', '碾过', '基于', '网路', '连线', '切断', '将近', '前洗', '三号', '数', '四季', '不成', '我决', '定出', '国留学', '看不出', '亲太忙', '通往', '市政', '迷上', '商业', '不会赢', '书商', 'maruzen', '千叶球场', '因谋', '通缉', '不缺', '学新', '诡计', '永不言弃', '珠宝店', '温柔', '达伦敦', '哪一个', '鹅', '卵石', '喜给', '三票', '言喻', '入', '这个险', '孙子', '一员', '学医', '汤姆点', '雪茄', '他七点', '去给', '这该', '下班', '中国到', '张图画', '水来', '乡巴佬', '分秒必争', '告知', '罐零钱', '高寿', '起诉', '笑笑', '惰', '智慧', '借支', '16', '差劲', '映像', '一辈子', '偶尔有', '上周日', '做起', '金', '这狗屋', '小菜一碟', '无理取闹', '多酒', '减少', '百分之十', '当水', '加热时', '水汽', '蒸发', '难缠', '唯圣者', '恕', '半出', '重力', '地球表面', '厌恶', '钉子', '撕破', '我夜', '继日', '止血', '火箭', '发射', '告辞', '重写', '省钱', '再管', '呼叫', '钱不会', '威胁过', '现代文学', '运动员', '欢照', '顾花园', '远足', '祈盼', '短诗', '租房子', '拉比', '油墨', '快没了', '那顿', '好极', '最后一场', '左撇子', '换', '歇歇', '美腿', '汤姆真喜', '欢玛丽', '有长', '打一', '前写', '旧书', '这饭', '融化', '会谈将', '周开始', '汤姆继续', '技术', '形式', '空手道', '不好玩', '顺道', '这家书店', '我签', '不吸', '大麻', '东西萌', '多美', '髪', '海绵', '吸水', '融洽', '窗帘挂', '测速', '处在', '绝境', '工伤', '我学习', '太坏', '中学', '蛋要', '起到', '真爱不会', '座给', '将会输', '聚集', '光滑', '决不能', '汤姆皱', '着眉头', '这很贵', '我正', '被盗', '包起', '汤姆向', '投入', '精力', '海盗', '对人', '根烟', '会试', '阻挡', '我爸', '四十', '纯金', '乐团里', '果园', '管束', '开导', '受够了', '这取', '决', '偏', '我亲', '眼看', '己经', '画挂', '酱料', '往后', '深受感动', '旧庙', '往河里', '地快', '节日', '扯掉', '证', '换换', '太妙了', '山米', '戴维斯', '热得', '大学学习', '美妙', '汤姆关', '画是', '天气将', '转晴', '福利', '办事处', '雨大得', '秋田', '车费', '多雨', '大多数', '电脑游戏', '白兰地', '但现', '技师', '脱光', '过树林', '清除', '一轮', '画家', '往小镇', '工相处', '残骸', '救出', '一阵子', '指甲', '面试', '意', '旅', '乌云密布', '泼', '一盆', '冷水', '中读', '朝九晚五', '你母', '危殆', '到牙齿', '桌前', '一楼', '记得给', '更想', '莫扎特', '加水', '我作', '炎热潮', '懒散', '护士量', '上野', '朵玫瑰', '小洞', '时补', '免遭', '苦', '二十五', '高中毕业', '真重', '半左右', '故地', '即刻', '天地', '期限', '没付', '生菜', '开会', '而定', '不喜欢', '不佳', '资料', '属实', '安家落户', '羞辱', '双方', '举行会谈', '玛丽弹', '最美', '五种', '榜样', '腾出', '带雨伞', '弹孔', '竞选市', '买给', '三名', '编辑', '我五点', '雷劈', '辞掉', '正职', '缺陷', '一匹', '马车', '挥', '着手', '向前走', '直行', '闻起', '香', '逐步', '康复', '并不', '摄影社', '空着', '撕成', '利兹', '四匹', '柱子', '汁', '现今', '天花', '免疫', '这队', '木质', '暗示', '出门儿', '更勤些', '七月', '艺术品', '宽松', '久留', '机是', '换衣服', '别说', '博物馆', '汤姆留', '人行道', '一枚', '他告', '死板', '药房', '铃声', '被车撞', '会上', '请照', '五加', '仑', '讲座', '还不', '从头到脚', '它属', '看点', '羊', '大意', '这拉', '链', '卡卡', '恶化', '必定', '觉察到', '人无法', '木材', '一见', '拐角', '酒鬼', '摸摸', '柔软', '疲倦', '剪头发', '难受', '三周', '很体', '小木屋', '沐浴', '清', '不同点', '腮腺炎', '早一点', '步枪', '用大', '写写', '经会', '线索', '到头', '汤姆将', '爱好', '汤姆怕', '从树上', '没起', '不常笑', '玩四轮', '牛津大学', '出示', '票子', '离不开', '柜台', '没上学', '百货', '新兴', '台汽', '陶醉', '棉花', '糖机', '层', '走投无路', '文学', '机还', '改天', '走右边', '刚搬', '活不下去', '那狗', '眼是', '换个', '题目', '生和死', '番茄', '要花费', '指着别', '鬼鬼祟祟', '身后', '马拉松', '改革', '偶然间', '列', '很温', '饶', '送医', '从小', '伞没有', '特蕾莎', '修女', '授予', '诺贝尔奖', '官员', '搞砸', '音符', '那台', '团', '嗅觉', '灵敏', '随时问', '条吗', '伯恩', '地表', '好孤单', '谜团', '炸薯条', '顿正确', '重新启动', '喜不喜欢', '判断', '模糊不清', '树是', '名人', '书比', '宽度', '随和', '迷茫', '怎么换', '机铃声', '走极端', '弄干', '净', '尾声', '展览会', '合作伙伴', '搭十点', '遵照', '最热', '你属', '我想弹', '帮助别', '我在问', '加为好友', '影响力', '我后悔', '选一个', '红肉', '帮上', '爸会', 'ipad', '首发', '四分', '卫', '看得见', '崎', '别去', '煤气', '加上', '火山灰', '阻碍', '航运', '人谈过', '下个星期', '耶诞节', '很久', '他前', '通话', '交换', '感到高兴', '笔记本电脑', '投了', '遮住', '出门时', '事上', '乌龟', '赛跑', '给你个', '上当', '云越', '原封', '溺水', '而亡', '费时间', '鸭子', '火是', '我脑', '浮现', '画面', '一艘船', '从雾', '富裕', '人学习', '远道而来', '一日', '游的', '仁慈', '黑板', '画鸟', '很美丽', '鹿', '挑剔', '不迟', '用金钱', '他后面', '相扑', '荧幕', '吸引住', '舞者', '性情', '沙拉油', '哪来', '小鸟', '拘捕', '摘', '园', '排成', '一排', '炒鱿鱼', '你换', '她伤', '别死', '情境', '汤姆玩得', '5000', '大人', '母', '亲节', '麻烦给', '从动物园', '逃出', '助消化', '因公', '靠窗', '死者', '始建', '1636', '笔借给', '蚯蚓', '扭动', 'ebay', '会载', '玛丽舞', '何时何地', '啦', '平日', '拥挤', '菜单', '消遣', '无能为力', '事真难', '汤匙', '浸入', '收据', '办公桌', '人权', '选好', '壁炉', '上方', '发生过', '专注', '还没写', '语词', '饮酒者', '禁入', '多好', '开火', '雨季', '何时会', '建立', '避难所', '癌细胞', '扩散', '剧场', '路子走', '有架', '札幌', '市民', '煤气费', '下礼', '拜', '用心', '首诗', '接骨木', '汤姆看', '主因', '长耳朵', '奥克兰', '新西兰', '南部', '钮然', '畏惧', '愚人', '不轻易', '乐观主义', '蟑螂', '会以', '为傲', '不定', '乐事', '良好', '硕士', '学位', '山脚', '银行贷款', '这手', '防水', '介入', 'cheese', '给婴儿', '介', '灯关', '认识玛丽', '脸上', '汗水', '容纳', '200', '大雪', '中丧生', '不算', '翘课', '挪一', '挪', '欢洋葱', '红', '毫不费力', '地想', '认得', '盐放多', '经换', '作谋生', '该现', '村里', '通电', '这歌', '温度计', '低于', '重量', '驾车', '弥补永远', '流利地', '昵称', '这些画', '沏', '鸟取', '收费', '亲密', '当点心', '贫民窟', '球场', '含', '税', '安装', '天线', '仍旧', '居然', '桥过', '相应', '除锈', '这回', '能赢', '成日语', '这地区', '不太想', '毛', '皮大衣', '打折', '小猫', '他求', '七次', '前一天', '瞬间', '赢的', '微乎其微', '开手', '排车', '期间', '夹克有', '点太大', '一盏', '申请表', '不允许', '碰头', '众人', '摄影师', '胡萝卜', '好孩子', '不觉', '将漆栅栏', '致富', '学生证', '行事', '汤姆热', '花卉', '乞丐', '他们将', '充分利用', '凝视着', '南辕北辙', '风雨', '无阻', '怀里', '过他', '已损坏', '挖土', '丛生', '这可真', '扮演', '角色', '墨西哥人', '闻名', '联盟', '文件夹', '写过信', '每朵', '披着', '银衣', '十个', '不出', '东西来', '犹新', '一停', '跳蚤', '帐篷', '开发', '安卓', '暗箱', '还没来', '调味品', '阳光下', '逗留', '现实点', '老实', '手续费', '吉隆坡', '欢生', '鱼片', '汤姆浪费', '绽', '谢意', '帮点', '车库里', '打过', '后后', '那口', '锅', '掌握', '三种', '点累', '视野', '自动售货机', '作演', '钱财', '辍学', '拜托', '多亏', '走上', '嘴唇', '昨天早上', '每一分', '钟都', '案件', '受罚', '签字', '实在', '实属', '罕见', '每一项', '预料', '调大', '能发', '音', '会员费', '周买', '先下手为强', '下手', '遭殃', '饭前', '粮', '腾', '还不结婚', '临别', '不愿', '野兽', '展览', '开放', '我爱你', '丝毫', '石子', '数学得', '每站', '分享', '种族主义者', '试探', '恰巧', '消费', '不亮', '汤姆试', '还书', '内裤', '破坏', '里没有', '拼写', '铭记', '于心', '很昂贵', '玩具兵', '今日', '迅息', '万变', '杂的', '有益于', '心底', '前摇动', '让开', '将生', '杂', '鹦鹉会', '模仿', '规律', '八点钟', '五块', '马是', '正盛', '冥王星', '1860', '当选为', '一盏灯', '人离开', '捏了一把汗', '305', '他过', '时常', '冥想', '扬声器', '是辆', '日产', '人不会', '请马上', '调音师', '结了', '婚并', '11', '扶养长', '弄清楚', '春假', '慷慨', '十岁时', '孤儿', '同盟国', '新西装', '洽公', '瞄准', '桃树', '出狱', '趴着睡', '学者', '雨淋', '默默地', '出城', '麻烦事', '聊胜', '没读', '师为', '他理', '了头', '哄堂大笑', '个班里', '那家店', '独', '生子', '村屋', '海岸', '这几乎', '甲', '蜜糖', '乙', '砒霜', '周到', '玛丽不累', '字面上', '会信', '村子', '几百本', '考虑过', '法国人', '滑铁', '卢之役', '败', '仗', '画里', '令人难忘', '里是', '签到', '不太聪明', '当妈', '匆匆', '背叛', '厨余', '喂给', '她聘', '有其父必有其子', '能干', '原处', '还买', '焰火', '壮观', '泰', '唔', '士河', '旁', '有马', '问路', '嘈杂', '奥运会', '一枝', '条大狗', '走不动', '厚', '人数', '庞大', '真怪', '查明', '周二', '这由', '换成', '起水辔', '总有', '他付', '晕倒', '汤姆得', '吵架', '河边', '那次', '周来', '好得多', '他险些', '饿虎扑羊', '似的', '他换', '彩虹', '桥有', '濒危', '偶尔打', '布置', '家庭作业', '芬兰人', '平和', '烂泥', '拽', '他么', '头要', '前男友', '古建筑', '个价', '猫从桌', '这边', '这样的话', '来访', '单独去', '豫则立', '实验', '傲', '还没读', '胆子', '百元', '含税', '车子后面', '推车', '剪得', '起个', '汤姆钱', '总算准', '时到', '零钱换', '一元', '美金', '能睁眼', '没主意', '当律师', '翘', '二郎腿', '不下', '立志', '包被', '离车', '枪支', '饮食', '血液', '发牌给', '枯萎', '与众不同', '硬', '木地板', '弄掉', '过枪岳', '喝得', '留疤', '礼拜四', '长处', '短处', '误认', '气的', '逃生', '通道', '欢读', '小册子', '国中生', '覚', '距离', '相爱吗', '惹恼', '切除', '脂肪', '不能取消', '死人', '告密', '之色变', '哈佛大学', '生物学', '听见门', '砰砰', '作响', '水痘', '儿子讲', '雪地', '造访', '八月', '露台', '有长头', '汤姆拒', '绝付', '账', '胆固醇', '总来', '新体验', '我戒', '植物', '不时', '地觉', '一分耕耘', '获', '呻吟', '离开家', '相互理解', '促进', '编的', '巫婆', '不证', '自明', '做手术', '门铃响', '物美', '价廉', '乘火车', '碟', '闹鬼', '船运', '就过', '领导人', '不一样', '此处', '禁止停车', '公车将', '钟后开动', '僵局', '赶紧', '包机', '这记', '拄', '拐杖', '队进', '第一个', '失明', '如下', '公主', '毫无隐', '转小一点', '保管', '嬉戏', '两队', '硬仗', '新律师', '路线', '钓', '受害者', '医院里', '关火', '地以', '客气', '遭', '这罪', '变胖', 'ntt', '缩', '松江', '慢一点', '腐烂', '没有车', '滑倒', '英国订', '改正', '睡午觉', '你们还', '吹灭', '蜡烛', '肉价', '妒忌', '不辞', '而别', '当雨', '尝', '我想将', '吃药', '跳过', '公事', '公办', '不假思索', '脱口而出', '尝了', '君子', '之道', '桌布', '橱', '乘车', '你务', '稍后会', '业余爱好', '望出去', '两千', '稀少', '收容', '点火', '周开学', '大革命', '1789', '过面', '有三个', '有功', '有辆', '经学习', '驳回', '罐子', '一洗', '离家', '一群', '临', '外遇', '除颤', '器', '玛丽到', '浅显', '无神论者', '花太', '一万', '平底锅', '温习', '典礼', '我太累', '跟别', '医生治好', '出个', '空间给', '讲日语', '尝尝', '推杆', '讲述', 'jst', '软体', '穿破', '挂起', '快该', '接触', '进度', '预期', '还不会', '骑脚', '踏车', '周放', '难接近', '生涯', '完蛋', '那家', '洪水', '牧场', '十英亩', '花都', '告诫', '吵闹', '摇篮里', '以下', '玛莉', '机开', '可观', '陷入', '该告', '做够', '一九七二年', '十月十日', '能生', 'dna', '检测', '表明', '说唱', '恤', '那首', '前要', '伦敦塔', '鱼子', '多人', '一身', '持久', '计算器', '买间', '没发', '我先', '脖子', '吃饭时间', '泳', '黑夜', '认作', '过高', '这所大学', '秃头', '伤口', '赴', '时期', '纸飞机', '母乳', '汤姆重', '签合同', '凶手', '很丑', '百感交集', '交', '考试卷', '拉断', '信赖', '哪里接', '依稀', '淡水鱼', '鞋带', '记好', '教训', '拨打', '当老', '福冈', '握', '帮汤姆', '溜', '答复', '耻辱', '许多卫星', '绕', '坠毁', '请过', '大笔', '缝纫机', '早结束', '该咨询', '最新款', '考', '气氛', '惩罚过', '消磨', '嗯', '随时乐', '意付', '粗心', '耗油', '对方', '种族', '两首安', '可曲', '看得', '可是', '书要', '辩论', '听懂', '扛', '自甘堕落', '天公', '作美', '三片', '洽谈业务', '剃', '低血压', '考验', '睁大', '前有', '我静', '一静', '一个头', '提速', '机翻', '某处', '转校', '纸是', '中国人', '刮起来', '里又再', '变得安静', '洗耳', '恭听', '不怎么', '底部', '他免', '我三点钟', '检查一下', '脉搏', '这锅', '墩', '汤闻', '尽力去做', '我烧', '了纸', '知足常乐', '着要', '纽约位', '哈得逊', '涂', '包上', '惹事', '口人', '合伙人', '最喜', '欢用', '信成', '许多年', '他愿', '意为', '普及', '我长', '休闲', '信神', '会帮', '泪流满面', '追着猫', '没人解', '谜题', '稍候', '外食', '与我无关', '还会', '我会待', '传闻', '信教', '恭喜', '仍', '归咎', '她化', '浓妆', '天天', '汇入', '太平洋', '闻到', '别多管', '闲事', '没有防', '给我些', '画笔', '刚切', '中犯', '雪停了', '一大家子', '要养', '里充', '竟敢', '呼吁', '打哈欠', '褒贬不一', '活跃', '第一班', '边谈', '婚姻状况', '各式', '各样', '最早', '上周三', '上帝保佑', '长子', '犹豫去', '问问题', '抚养', '会弹', '的领', '爱坐', '送货', '过你别', '讲讲', '喝掉', '知不知道', '激励', '我诚挚', '歉意', '溜出', '罗', '踪影', '笔写', '濒临灭绝', '带到', '深色', '迫使', '状告', '政府', '赔偿', '汤姆救', '有家', '参与', '对话', '去取', '将必须', '捣碎', '生了病', '开出', '锻炼', 'pta', '找个', '会离婚', '预感', '汤姆己', '经在', '水星', '书看', '电脑现', '到处', '逆流', '街区', '然后左转', '汤姆怀', '疑玛丽', '流眼泪', '妳是', '九', '动机', '然', '唱个', '韩语', '钮扣', '快速', '作答', '美梦', '真有', '领他', '哪里换', '德国长', '好忙', '一切都在', '对玛丽', '车卖', '熊会', '凤凰城', '亚利', '桑那州', '初生', '之犊', '不畏', '虎', '小雨', '退学', '区分', '蟾蜍', '一团', '没气', '器乐', '不会给', '进食', '管', '人真', '尘土', '女演员', '玩意儿', '视为', '最要', '上边', '讲了', '十二月', '闪电', '伴', '雷鸣', '扔过', '课本', '虐待', '关键点', '不戴', '首饰', '戒指', '升出', '日圆', '一碗', '外行', '省油', '天气预报', '职员', '还清', '施压', '那为', '想点', '探听', '手枪', '指向', '先生', '否极', '泰来', '英尺', '婚约', '这应证', '动议', '我在网', '秘书订', '婚', '探望', '监狱里', '活下去', '玛丽下', '楼到', '有毒', '荣幸', '周将', '般', '好心', '礼服', '引人注目', '的诗', '肺潜水', '别管', '连续', '中午饭', '赶路', '时间表', '福斯特', '所写', '汤姆喜', '欢辣', '双载', '寄希望于', '漂浮', '大病', '初愈', '巧手', '转移', '玩吧', '悦耳', '不公平地', '声调', '详细信息', '毫无间', '语能', '恐怖片', '会吓', '遅', '仇恨', '酱汁', '弄脏了', '别胡说', '诉玛丽去', '找约翰', '我四点', '没去', '天生', '主义者', '溪水', '流进', '懂法', '我约会', '很渴', '面对', '堵塞', '枯死', '我爱派', '脏狗进', '较之于', '正义', '终将', '那不会', '此句', '歧义', '照射', '签约', '我关', '来得', '请确', '认帐', '改建', '灯光', '地问', '两种', '1960', '14', '入座', '并育', '颤动', '他授', '权给', '庆祝圣', '诞节', '牧地', '给我钱', '没给够', '钓到', '了鱼', '过会', '鱼离', '开水', '我的双', '的双', '頬', '红了', '兰辛是', '密西根州', '许来', '留宿', '我闻', '有所', '成就', '坐到', '河水', '泛', '滥', '推了车', '独自度过', '一千', '宝贵', '夜班', '喂过', '变差', '八楼', '很累', '正忙着', '胡子', '换上', '赞', '新洋', '刹车', '简洁', '击中要害', '雇用', '相邻', '有常到', '户外', '很胖', '湿透', '让门', '想得到', '烤箱', '里会化', '变小', '二十多', '不太会', '出水', '1865', '真瘦', '半年', '果断', '适应', '地势', '该动', '一动', '一旦', '乖孩子', '圣诞老人', '趴在', '投诉', '请别', '是否是', '一个包', '格式', '疗法', '取', '北京', '大型超市', '爱电影', '不合理', '不妨', '卖车', '水中', '车误点', '祝你好运', '低成本', '裁切', '纸张', '吓坏', '周日待', '给我点', '正午', '时分', '钟声响', '我爱上', '这镇', '一系列', '深刻印象', '搭个', '有数', '百万人', '大半生', '省下', '连他', '仆', '里说', '食物中毒', '胆小', '以至于', '起而行', '这更', '指纹', '平底', '锅离火', '部好', '这时候', '从马来', '西亚', '倒霉', '所能', '往前走', '他会选', '桌边', '卧房', '汤姆大', '鸡皮', '怕黑', '从墙', '我份', '遵纪守法', '上马', '神无处', '将满', '酒单', '玩纸牌', '严禁吸烟', '周四开始', '过活', '既往不咎', '正如', '台湾', '好几', '不胜任', '腼腆', '性命', '白日梦', '会给', '车票', '难免会', '三间', '个国家', '成年人', '药店', '艘', '敌船', '沉', '笔怎么', '选手们', '僵', '那匹马下', '赌注', '汤姆三个', '张得', '出话', '工资低', '挂钩', '喜剧演员', '光和热', '原状', '在罗马', '恐慌', '遗失', '汤姆日语', '她弹', '揭晓了', '开一辆', '既会', '变黑', '不会读', '大鱼', '起立', '山崩', '阻断', '公交', '起码', '一扇', '门都', '一天天', '痊', '张画', '打猎', '欢花', '签证', '有效期限', '我太无理', '没变', '迟早', '运气会', '真傻', '重复', '要读', '一柜子', '浇', '完花', '还想给', '航海', '还住', '问题给', '和善', '不要紧', '男婴', '黑衣服', '私生活', '误认为', '无所畏惧', '好电影', '短期', '洋芋片', '雷声', '大饭', '前不会', '需求', '炖菜', '西兰花', '点去', '雪停', '报仇', '穿长', '袜', '职位', '死胡同', '这扇', '有课', '不比', '火柴盒', '烦心', '寒酸', '不满', '树荫下', '驾照', '封', '路太窄', '工的', '起话', '跑车', '野心', '制成', '肝肠寸断', '濒临', '甜甜', '圈', '关在', '牢里', '过火', '着墙', '鱼在', '一行', '盲邻', '居', '确是', '任教', '已过', '出口', '收银台', '之后便', '他胆', '小鬼', '将飞往', '旅费', '申报', '讨论过', '经离', '胸中', '斗志', '小型', '有机', '不住', '不浪费则', '匮乏', '看漫画', '就让', '遭受', '困扰', '屋', '笑了笑', '回应', '分', '美圆', '情景', '寄过', '离别', '干吗', '郊区', '罪恶', '之源', '哪一组', '匈牙利人', '封锁', '文胸', '严寒', '沙乌地', '概念', '误以', '贪婪', '风筝给', '足球队', '十一个', '球员', '口渴', '清朗', '边走边看', '你问', '将飞到', '那树', '汤姆的财', '産', '魔法师', '三岁时', '酒吧', '够用', '镭', '居里夫人', '我己', '经被', '记帐', '几年级', '总经理', '戏院', '角', '弄湿', '称为', '果', '沟通', '欢独', '驻留', '变暗', '一般而言', '碰见', '小三岁', '车和', '新款', '车作', '喝晕', '这款', '钟后起', '筑巢', '沉默不语', '好莱坞', '地玩', '下回', '粉色', '脑袋', '我兴奋', '分开', '运转', '周六有', '便利', '该服', '咖啡店', '地清', '汤姆确', '实是', '位好', '再犯', '那错', '有话', '开的车', '这表', '直升', '机上', '玛丽挥手', '港口城市', '阖', '眼', '没听说过', '两袋', '危机', '忽然', '转为', '超声', '他八点', '会起', '必会落', '麻', '爱是', '市场里', '好好学习', '穷鼠', '囓狸', '六只', '两遍', '常在', '带走', '一大群', '能试', '直奔', '目的地', '希尔顿', '没时间', '一夸脱', '藏着', '是种', '荷兰语', '德', '语关', '密切', '名声', '一列', '这画', '合得来', '经由', '这将', '丝袜', '拉上去', '山穷水', '尽疑', '无路', '柳暗花明又一村', '会成', '长久', '该计划', '嗅到', '风声', '逃之夭夭', '花瓣', '浮在', '水面', '妨碍', '您提', '一整套', '关照', '再寄', '余地', '周日将', '符号', '因斯', '坦喜', '欢拉', '热点', '我爷爷', '多种', '特权', '贡献', '科学事业', '山间', '中挤', '能锁门', '振作起', '竞逐', '火龙果', '悄悄', '硫酸', '新政府', '气球', '树绊', '有七层', '诅咒', '全速', '白费力气', '淡褐色', '练习弹', '先行者', '以古庙', '无论如何', '每条', '灰', '不劳而获', '手提包', '难讲', '来判断', '纯真', '全心全意', '坠饰', '人会', '玩世不恭', '农夫', '锯子', '分担', '私隐', '门锁', '沸水', '对付', '有虫', '语法', '自作自受', '恶劣', '并没有', '拼命', '一整瓶', '提早', '独身', '水在华氏', '32', '度', '冲', '消防员', '淋得', '经长', '接球', '汤姆学', '那事会', '奶昔', '发表', '放开', '包开', '售价', '用红', '大嘴巴', '花生', '程序员', '信是', '灯辔', '某日', '在门', '非去不可', '纪念品', '夜猫子', '别闲聊', '就会', '要学', '包和护照', '大鱼吃小鱼', '打高尔夫球', '点太多', '都给', '洗脸', '游过', '会议主题', '许多花', '三月份', '绽放', '诗歌', '吃腻', '钻进', '短篇小说', '胃癌', '趴下', '烟雾', '用药', '镇痛', '女性', '不留', '一丝', '哭哭啼啼', '长不高', '坏事', '好日子', '喝水', '个头', '广岛', '这药会', '好受', '赤字', '祝福', '丰田的车', '真尽兴', '后会有期', '你睁着眼', '护士长', '积极主动', '土耳其', '废除', '死刑', '丢还给', '包偷', '玩游戏', '不订些', '拣', '嫌东', '嫌西', '片刻', '浓了', '出入', '美国大使馆', '不敢', '常见', '热泪盈眶', '接手', '膳食', '非常少', '特别热', '行动胜', '深吸', '气然', '闲', '逛', '很近', '灯亮', '他装', '出价', '翻', '营业', '还剩', '简短', '切中要害', '追上', '他游到', '打了个', '哪一位', '审理', '此案', '国民', '洗牙', '给猫', '点肉', '没戴正', '星期三', '横跨', '的桥', '这班火', '车会', '有风', '冷清', '更多人', '一两天', '异常', '读报', '弄乱', '门牙', '突出', '欢笑', '管好', '夫妻', '牵手', '爱看', '队友', '四堂', '占领', '电灯', '应得', '事先', '我祝', '生日快乐', '郁', '金香', '将盛开', '填满', '多三倍', '历史书籍', '里装些', '同一个', '听不懂', '当下', '眼前', '读读', '西德尼', '谢尔顿', '失', '踪', '伞忘', '打翻', '大吃一惊', '无话可说', '住宅', '待遇', '木桌', '未经', '勿', '经去', '公车上', '柏油', '灯由红变', '姊', '欢猫', '轰炸', '过许', '常有', '不成器', '雄心壮志', '百香果汁', '数目', '量量', '枪射', '张好', '汤姆申', '他会弹', '我带', '门是', '许多种', '疼得', '征求意见', '将是', '背景', '录音机', '布什', '继', '里根', '录用', '东边', '正式', '浴巾', '校对', '十名', '逃狱', '妈在', '初衷', '被动', '详细', '全神贯注', '针管', '很淡', '定', '笨重', '先河', '执业', '医师', '不适', '说梦话', '玛丽给', '波兰', '华沙', '偶发事件', '里外', '洗手间', '作证', '津', '巴布', '韦曾', '殖民地', '改邪归正', '三十名', '潜水', '当然会', '热情', '七八', '患', '加紧', '恭贺', '签了', '租约', '擦拭', '旅行箱', '学考', '试时', '芙', '页面', '安葬', '分为', '唐人街', '将有', '汤姆输入', '还很年', '老式', '产品质量', '同等', '窗帘', '孤寂', '从下', '辛勤努力', '汤姆谈', '他射', '鹿一箭', '会坏', '对汉堡', '丹麦', '公开', '营救', '小考', '推', '有感', '觉到', '我进', '活得', '更长', '分不清', '巨响', '头有', '分析', '车载', '两名', '并不都', '回办', '谢幕', '多讯息', '偷懒', '源泉', '我弹', '打击', '除掉', '短文', '捉弄', '归功', '球类', '汤姆放弃', '油箱', '熊', '候', '弄伤', '喝太多', '耳边', '没有花', '间谍', '补给', '五月', '这钢琴', '金丝雀', '猫杀', '能记', '全部都是', '大家伙', '看病', '他觉', '加速', '筋', '修读', '榨', '保住', '面子', '重新考虑', '乐能', '经离开', '读书三个', '以雾', '很蠢', '这东西', '谈什么', '否定', '欣喜若狂', '以当', '亲爱吃', '掩盖真相', '乘坐', '高血压', '兑换', '点觉', '里吃饭', '出名', '顿买', '喝起', '酸酸的', '入会费', '消沉', '五堂', '天是', '蓝', '的鱼', '阿苏山', '活火山', '还有次', '林中', '观光', 'ogai', '跟你走', '金额', '高达', '脉', '搏', '乌鸦', '长辈', '爆', '汤姆头', '发蓬', '库存', '手电筒', '许会来', '子承父业', '女孩子', '未满', '饮酒', '人开车', '显示', '两根', '保持联系', '亲教', '插花', '前别', '东西交给', '舞会', '鸡汤', '取代', '胶木', '说不出', '进屋', '多来', '可疑', '天渐', '渐黑', '球手', '脚下', '山巅', '脚印', '上满', '不称职', '球正', '顺流', '擦鞋', '垫', '下面', '开枪射', '别自骗', '情报局', '行与行', '那支', '窗子', '没穿', '两座', '别放', '周内', '关掉', '算是', '上空', '顺利', '长度', '请吃', '大胆', '降低', '能源需求', '我留', '止不住', '酣然', '原宿', '烧伤', '信件', '波斯语', '不带', '瑞士人', '消耗', '查', '要告', '使命', '请记', '张公车', '时刻表', '日渐', '回暖', '棚里', '汤姆输', '风正', '一卷', '彩色', '胶片', '军事', '基地', '下决心', '要六岁', '战胜', '钟见面', '肚子', '带酒', '望', '这美丽', '深褐色', '此法', '适用', '吃奶', '真酷', '将花费', '后果', '汤姆来', '会继续', '旧鞋', '盗版', '这家电', '醉醺醺', '隐约', '过爱汤姆', '曾开', '文身', '去掉', '平静', '安宁', '统治', '哪位', '这茶', '陆', '这肉', '我爱苹', '鳄鱼', '尖利', '岛', '拍了拍', '五', '八', '火旁边', '一再', '发展中国家', '竟然', '狮子', '油远', '离火', '车远', '人影', '变化', '跳进来', '短袖', '上衣', '按铃', '吐', '四分之三', '汤姆拉下', '无处可去', '意愿', '官方消息', '镜子里', '一千本', '几门', '骑上', '一圈', '很傻', '周去', '爱它', '比萨是', '一切顺利', '我多么', '侄子', '入场', '橄揽球', '透过', '传译员', '庇护所', '饭店', '果树', '浇水', '水池', '飞着', '离树干', '中心', '一英里', '参加者', '他边', '吹口哨', '她种', '装饰', '涉入', '信过', '上画', '横', '昵', 'itch', '柳丁', 'c', '准会', '相片', '能问', '先吃点', '北方', '证据', '求', '右侧', '以眼还眼', '以牙还牙', '心思', '回电', '人员', '猫从', '树篱', '部份', '应付', '结局', '透露', '早地', '早会后悔', '过晚', '学得', '买花', '奶牛', '汤姆平时', '长胡子', '登', '钟后离', '养狗', '这计画', '很聪明', '带回', '哪份', '胡安的车', '将被', '教书', '物价上涨', '贝尔', '吵醒', '翻开', '饭前洗手', '这像', '鸟笼', '已经来', '适', '猜猜看', '樽', '健谈', '着迷', '二十位', '不高兴', '可乐', '瞟', '下长', '咄咄逼人', '开销', '不忙', '社区', '两件里', '埋', '不锁门', '你讲', '胃会痛', '仆人', '进餐', '聊到', '凌晨', '十三', '之后发生', '被遗弃', '得够', '还关', '家乡', '炸弹', '炸死', '高中女生', '谈过', '推了门', '这周', '极端', '联', '剩', '上待', '等会儿', '汤姆及', '地来', '远亲', '驾驶证', '欲裂', '精美', '插图', '我欣赏', '二楼', '特地', '放火', '烧了', '校舍', '真怕', '很受', '关下', '参见', '上文', '发球', '胖子', '汇率', '会醒', '我会责备', '两本书', '叶子', '交了', '我盖', '栋', '协定', '美貌', '表面性', '这片', '片语', '我哥', '路车', '转动门', '并大声', '坦率', '啤酒瓶', '海盗们', '入口', '黎明', '下厚霜', '花死', '关爱', '姑姑家', '接种', '流感疫苗', '只顾', '利益', '我恋', '爱了', '粉末', '贸易', '幽灵', '居住', '好不好', '无从', '找事', '着统', '团体', '第十', '读起', '猪夢到', '橡树子', '算', '我想给', '种语', '熄火', '历险', '什么问', '数的', '欢汉堡', '里觉', '吸引力', '𡡡', '军人', '履行', '复习', '我换', '爱疯', '不管是谁', '当我年', '我渐', '渐变', '远见', '车卖给', '一窍不通', '拳头', '如银', '如金', '邮箱', '买条', '停手', '已经犯', '大错', '伞在', '妈现', '上十个', '长着', '长长的', '短短的', '轻井泽是', '避暑', '胜地', '付给', '这顿', '充', '钟有', '米尔顿', '第十课', '绑架', '玛丽去', '非', '吸烟区', '他否', '认曾', '冻死', '北边', '这尽够', '无关紧要', '负有责任', '戳', '再谈', '美的', '瀑布', '海伦凯勒', '眼盲', '耳聋', '哑', '0', '度时', '抛锚', '书架', '齐平', '船袜', '光', '良苦', '英镑', '子弹', '打死', '一共', '裹起', '吉他手', '生日派对', '两面', '夹击', '忠厚老实', '气压', '反复', '思量', '讲外语', '汤姆骑', '别跟我', '谦逊', '值得尊敬', '阿尔', '卑斯山', '撞倒', '礼品', '雪覆盖', '地铁', '射中', '真走运', '接到', '打来', '晚一点', '他治好', '苏格兰', '抽签', '匹马', '还有个', '有条', '窄路', '把酒', '呎', '着栅栏', '地变', '该信', '明晚', '薪水', '很明', '显地', '不规则', '动词', '汤姆饿', '摸索', '着一', '舞鞋', '烦到', '街直', '省', '吃太多', '书名', '数码相机', '繁星点点', '亮', '系上', '安全带', '说三种', '抵抗', '烧成', '灰烬', '浅间', '寂静', '挽', '转好', 'z', '争议', '射击', '钟就', '动怒', '腰部', '加糖', '今早', '每星期', '去作', '健美操', '电器', '设备', '你求', '没响', '野生动物', '最懒', '倒车', '进车库', '终生', '未婚', '舒适', '我无意', '稍后回', '电给', '南边', '点吃', '二手', '洗脏', '言表', '整理', '床铺', '饥色', '迟早会', '见玛丽', '急于', '越军', '退役军人', '教法', '万能', '复印', '齐全', '正向', '双美丽', '免费入场', '汤姆声', '买车', '我敢', '斯德哥尔摩', '瑞典', '砍', '树枝', '昏倒', '搭帐篷', '用塑', '胶', '兄妹', '叠', '博客', '脏手', '极好', '付诸', '实践', '真话', '声称', '没罪', '自助餐厅', '某种程度', '认同', '敲紧', '闭的门', '亚美尼亚语', '一门', '印欧语', '递过', '不能自已', '杰克', '奖', '笔在', '80', '似曾相识', '毕加索', '画对', '辞', '倒闭', '怂恿', '奢侈品', '神奇', '够不够', '两张', '出身', '贫寒', '纸条', '那能', '98', '早餐时间', '哪种', '追求', '留个', '权利', '望着', '这伙人', '滴雨', '头上', '玛丽正', '办公', '云愈来', '没书', '可读', '一点热', '租', '墙壁', '他谋', '加', '一丁', '点盐', '鬼点子', '起得', '太老', '疟疾是', '很久没', '置信', '那全', '幻觉', '裤破', '火已', '经灭', '口气', '转小声', '会永远', '新邮票将', '发行', '敲门声', '地面', '穿点', '降低成本', '打扰到', '打败', '经教', '试穿', '换种', '大好', '摆在', '重伤', '高兴见', '圆桌', '半山腰', '演出', '真信', '立方', '二十七', '给你看', '沏茶', '熄灯', '认的', '汤姆击', '出三垒', '安打', '战时', '学些', '得花', '多才多艺', '爸种', '餐巾', '纸好', '撑', '葬', '礼订', '这周末', '我吃腻', '事儿', '再试一次', '疲乏', '鈅', '匙', '买下', '零下', '十度', '为社', '属于丹麦', '都洒', '王子', '连络', '上三楼', '高须', '诊所', '九十多', '地离开', '看不懂', '木椅', '平抚', '遛狗', '舅舅家', '我七点', '我生', '能活', '过体育馆', '自给自足', '不屑', '一顾', '前才', '实地', '考察', '汤姆静静', '地关', '的门', '研究会', '原创', '预兆', '时不时', '地去', '空中', '乌云密', '寂静无声', '相恋', '读书大约', '单独', '车入', '湖边', '乐器', '北极熊', '登记册', '各种各样', '填', '退一步', '客满', '我放学后弹', '正玩得', '迷住', '数千', '失业', '我本应', '婉拒', '河马', '一堂', '自私', '雪下', '寒假', '吃寿司', '商量', '不清', '五元', '冷冻', '很久前', '数量', '倒水', '起居室', '前会', '钟时', '家中', '舞蹈', '翻番', '评', '儥', '踢开', '欲望', '重病', '将把', '关在监', '狱里', '取名', '愿景', '放点', '水里', '几时', '许', '多名', '粉', '两颗', '混合', '搁浅', '打动', '能握', '肿', '弯曲', '车里装', '印刷', 'a', '触动', '篮子里', '没喜', '欢过', '数小时', '水干', '契约', '签订', '酷似', '节是', '太长', '领入', '这信', '信誉', '烛光', '犯傻', '万日圆', '这副', '并不难学', '锁坏', '阿司匹林', '远非', '看来问', '别用红', '丛林', '抽泣', '乳牛', '没有给', '代理人', 'felicja', '请祝', '学校里', '想查', '电子邮件', '朝南', '西蓝花', '很新鲜', '还好', '阴凉', '诗人闻名', '再念', '汤姆玛丽', '填上', '会员卡', '金窝', '银窝', '直升机', '解救', '确保', '请将', '移出', '税的', '折好', '审', '美感', '给你添', '学到老', '这里头', '事说', '共', '侍二主', '补好', '看重', '这番', '抱紧', '真帅', '大坂是', '商业中心', '政策', '素食主义者', '提案', '乐园', '朵', '人造花', '啜泣', '路过', '明朗', '张路线', '拖鞋', '忠实', '粉丝', '回家路上', '爱劳动', '太漫长', '生蛋', '活力', '呼救', '条街', '阅了', '两份', '发白', '开卡车', '拉斯', '书作', '交通堵塞', '耽搁', '体重减轻', '薯条', '读懂', '很酸', '小丑', '鬼脸', '带大', '讲笑', '锯', '我爱看', '脱口秀', '漆', '鲁莽', '电报给', '这船', '船长', '记不住', '咔哒', '加在名', '这问题', '比萨类', '型', '懂吗', '主义', '伪科学', '少年', '聪明能干', '车盖', '错车', 't恤', '仇敌', '完作业', '反感', '零钱给', '冷得', '冰一样', '几条', '停车场', '春雨', '五月花', '担忧', '斗争', '昆虫', '没睡', '那头', '天气会', '这端', '公司地址', '借手机', '保暖', '有点儿', '赶来', '前天', '服从命令', '受苦', '尼拉', '学习外语', '从现', '这刀', '不锋利', '本末倒置', '笔比', '前离开', '麻将', '只卖', '女鞋', '上路', '避', '开玛丽', '不常', '还说', '掉头发', '香烟', '吹嘘', '凡人', '得意', '书店', '申请', '奖学金', '有朝一日', '偷走', '请原谅', '臭', '猎人', '射死', '过程', '汤姆赢', '冲浪者', '谜', '汤姆送', '门铃', '儿响', '别理', '鼓起勇气', '会议将', '柚子', '坠入', '爱河', '切', '泥地', '拿错', '无所事事', '1996', '拿定主意', '化装成', '相机里', '胶卷', '一笔', '这真', '汤姆年', '纪比', '有鬼', '没电', '叫法', '蠢货', '杀手', '疑惑', '汤姆弄', '绳子加', '风筝', '塞住', '订单', '提交', '喜爱的', '他赢', '机会极', '茶匙', '相遇', '必然', '卖场', '筹备', '因人而异', '放心', '将照', '开往', '掩饰', '符合', '着为', '作准备', '上车', '挥金如土', '冰淇淋', '加快', '删掉', '夹有', '第', '废纸', '右臂', '我浪费', '太紧', '伤脚', '管风琴', '奥', '地利', '古罗马', '讲三种', '许多义', '注意安全', '兵库', '机不', '倒下', '夜里', '无不', '筵席', '旧书值', '无济于事', '打一点', '万幸', '爹地', '欢讲', '挤进', '小房间', '车陷', '泥里', '奖金', '心脏病', '五十年', '下得', '窗外', '趁汤', '没凉', '喝下', '五美元', '我想试', '好几个', '从国外', '限度', '按门铃', '落水', '预计', '玛莉会', '迷', '啃老族', '滑了一跤', '并从', '撕掉', '钞票', '优秀的脑', '非常简单', '名录', '烹调', '右腿', '冲水', '正流', '汗', '着成', '亿万', '富翁', '程序', '比马铃薯', '帮玛丽', '的关', '找些', '欢送', '不属', '木板', '连结', '从事', '头班', '自学', '学着闭', '环游世界', '寄出去', '牢记', '本身', '腰围', '贩卖机', '万个', '词条', '农', '雨水', '话给', '幸运能', '说得好', '导', '碎玻璃', '火场', '中救', '不读', '汤姆变', '专职', '果酱', '沙', '看得懂', '并不一定', '形容', '看新闻', '我想当', '小别胜', '新婚', '久别', '更深', '88', '文化', '早会', '一流', '美食', '各位', '没少', '人觉', '迟交', '六小时', '量', '我锁', '这房', '间里', '全靠', '难民们', '搭便车', '紫外', '可导致', '皮肤癌', '电话里', '科罗拉多州', '大农场', '卷进', '是非', '总数', '别哭', '说够', '这衬', '衫', '煮肉', '出游', '词是', '一巴掌', '出席会议', '可说', '刷墙', '公民', '羞怯', '的电', '飞走', '过国', '版', '何周', '充当', '导游', '群鸟', '南翔', '打扑克', '易学', '完书', '溜冰鞋', '抽屉里', '气是', '剑桥大学', '他的车', '刮下', '泥巴', '趾高气扬', '整体', '笑一笑', '山脚下', '相聚', '万事如意', '爱不', '汤姆答', '将头', '剪成', '进一步', '市政府', '打赌', '古钱币', '量力而行', '着别', '只梨闻', '他还', '哺乳动物', '喝汤', '误导', '携款', '潜逃', '牛可产奶', '真多', '最棒', '条纹', '水平', 'basho', '最伟大', '别怕', '吠', '晚饭给', '问候', '善', '满月', '另一家', '干涉', '他坏', '透', '楼上', '变瘦', '成真', '九月', '工作日', '前学习', '我困', '无故', '辞退', '口', '得寸进尺', '那顶', '平安', '逗乐', '履历给', '深刻', '记日记', '球门', '这颜色', '下蛋', '相接', '情人', '西施', '富人', '预言会', '酸性', '腐蚀', '盛大', '大学时', '他妈妈', '榨汁', '哈哈大笑', '老少皆宜', '护林人', '水从', '破裂', '水管', '倾泻', '容器', '密封', '不卖', '生啤酒', '迷惑', '滋味', '攀升', '燕子', '告诉您', '沉浸', '电风扇', '贴', '运气', '免', '玩过', '嫌疑人', '1914', '篇文章', '鱼和红酒', '河从桥', '下流', '科幻小说', '一大笔', '创立', '散散步', '研究所', '超重', '高兴地', '玛', '丽', '翰', '一个专', '家小', '组讨论', '关键', '驻', '外接式', '硬碟', '一盘', '左移', '幢', '老楼', '大致', '手肘', '真疼', '做生意', '茶叶', '图书', '本月', '搭火车', '欲速则', '不达', '没门', '过我', '东京大学', '去路', '十间', '烧毁', '第二天', '天里', '艰难', '车开', '百万富翁', '香港', '的强', '公共汽车', '亲住', '住处', '停放', '太大声', '书架给', '邻居来', '西班牙人', '包括', '烧掉', '原子能', '火旁', '烘干', '长相', '会过', '用不着', '记人名', '媳妇', '胃里', '如同', '千军万马', '痕迹', '凶', '电工', '临着', '不弹', '两分钟', '打篮球', '流露', '甜食', '这可怜', '哲学家', '匿名', '限', '钟内', '光坐', '有伙伴', '选项', '旅行社', '裁开', '女', '眼光', '青少年', '将无法', '懂德语', '六月', '杀人罪', '面粉', '废', '树干', '叫辆', '以眼', '还眼', '以牙', '还牙', '我会弹', '萧邦', '进洞里', '平等', '妈留', '口信', '没人来', '我准', '会见', '吸毒', '去换', '伪装成', '作笔记', '一眨眼', '这有', '白痴', '大王', '行不通', '拍摄', '尽头', '官方', '玛丽长', '三分钟', '衬', '铁塔', '体育馆', '每件事', '树不会长', '他亲', '亲他', '额头', '力气', '美人', '服用', '喝红酒', '旧闻', '吓人', '不靠', '落榜', '决不', '提了', '艰巨', '征了', '暑期', '实习', '邻居们', '怪响', '固体', '这水', '痴迷', '滑', '下岸边', '他仅', '有够', '糊口', '同情', '鲜花', '盛开', '易', '患感冒', '颗钮', '扣', '书放回', '我会教', '辜负', '最长', '现', '在建', '筑里', '这比赛', '传遍', '全告诉', '退', '点惊吓', '形', '合', '里读', '狗和猫', '静静的', '古董', '开到', '希尔顿酒店', '海上', '某', '回程', '机票', '早安', '轻得', '学英语', '耐性', '很沉', '多大', '不放弃', '尴尬', '六月份', '一所', '画远', '永不', '悔', '飞逝', '鸟会', '捕鱼', '辔茶', '再见面', '想分', '收服', '务费', 'mp3', '播放器', '恩惠', '上涨', '一月份', '参加考试', '争辩', '缴税', '小船', '中出', '穿错', '机密', '出乎意料', '负责任', '发育', '痛恨', '恐怖主义', '落下', '汤姆瞥', '墻', '别紧', '同龄', '这个门', '锁着', '在吓', '欢车', '挖', '试着要', '隐瞒', '实情', '我放弃', '人选', '柜子', '凳', '节省', '洋装给', '下到', '聊', '折纸', '旗子', '40000', '绵羊', '这盖子', '打不开', '是因为', '无可奉告', '冷气', '高点', '地忙', '抓紧时间', '许多关', '生态', '环境', '房间内', '不关', '个情', '千万别', '性感', '那药', '管用', '草稿', '访', '问纪录', '过药', '展覽', '别吓', '悬挂', '很糟', '很挤', '偿还债务', '复原', '致死', '六人', 'wifi', '经变', '寿命短', '发臭', '看玛丽', '数到', '怠忽', '职守', '荒谬']\n",
            "\n",
            "English frequent words:  163\n",
            "['he', 'as', 'much', 'money', 'how', 'to', 'play', 'is', 'there', 'anything', 'that', 'i', 'should', 'not', 'eat', 'have', 'no', 'with', 'the', 'of', 'at', 'are', 'your', 'had', 'you', 'they', 'please', 'give', 'me', 'tom', \"didn't\", 'her', 'will', 'never', 'see', \"i'm\", 'make', 'a', 'very', 'old', 'going', 'next', \"don't\", 'mary', 'did', 'yesterday', 'we', 'just', 'out', 'my', 'father', 'where', 'go', 'do', 'like', 'know', \"you're\", \"i've\", 'been', 'was', 'room', 'our', 'all', 'by', 'him', 'be', 'late', 'this', 'for', \"what's\", \"he's\", 'she', 'in', 'house', 'need', 'it', 'so', 'an', 'up', 'can', 'right', 'now', 'would', 'help', 'why', 'his', \"i'll\", 'any', 'book', 'one', 'man', 'always', 'what', 'lot', 'time', \"can't\", 'get', 'from', 'work', 'more', 'good', \"that's\", 'want', 'were', 'here', 'does', 'really', 'car', 'too', 'take', 'may', 'got', 'must', 'and', 'come', 'has', 'some', 'many', \"doesn't\", 'two', 'than', 'am', 'last', 'night', 'went', 'think', 'say', 'tomorrow', 'speak', 'if', 'tell', 'better', 'let', 'on', \"isn't\", 'well', 'every', 'three', 'down', 'something', 'home', 'long', \"let's\", 'back', 'mother', 'made', \"it's\", 'school', 'about', 'could', 'us', 'gave', 'day', 'people', 'new', 'english', \"i'd\", 'today', 'who', 'put', 'when', 'love', 'still']\n",
            "\n",
            "Chinese frequent words:  125\n",
            "['他', '能', '就', '知道', '怎么', '有', '什么', '东西', '是', '我', '吃', '的', '吗', '没', '了', '你', '多', '希望', '在', '那里', '他们', '汤姆', '没有', '她', '见', '很', '您', '个', '非常', '去', '玛丽', '昨天', '我们', '喜欢', '这个', '给', '要', '告诉', '不', '买', '被', '请', '好', '让', '不要', '这是', '说', '住', '一个', '里', '会', '需要', '来', '做', '事', '人', '它', '等', '着', '都', '现在', '可以', '开始', '不能', '工作', '把', '很多', '书', '为', '钱', '认为', '任何', '那个', '时间', '必须', '应该', '也', '看', '朋友', '帮', '那', '不想', '这里', '时候', '真的', '得', '走', '跟', '正在', '父亲', '到', '想', '对', '问题', '比', '可能', '和', '明天', '你们', '上', '不是', '有人', '今天', '下', 'tom', '从', '吧', '房间', '自己', '我会', '再', '该', '这', '哪里', '狗', '学校', '谁', '打', '孩子', '英语', '想要', '已经', '听', '不会', '甚么']\n",
            "\n",
            "Percent of single words in English vocab:  39.54854101670031\n",
            "Percent of single words in Chinese vocab:  55.5021161985379\n"
          ],
          "name": "stdout"
        }
      ]
    },
    {
      "cell_type": "code",
      "metadata": {
        "id": "t8JcA8UbNOCy",
        "colab_type": "code",
        "colab": {
          "base_uri": "https://localhost:8080/",
          "height": 499
        },
        "outputId": "38b532c5-d732-4e5d-d7ac-c67dff5c73b5"
      },
      "source": [
        "#English distribution of word frequencies\n",
        "eng_words_unique = [w for w,c in eng_tokenizer.word_counts.items()]\n",
        "eng_words_counts = [c for w,c in eng_tokenizer.word_counts.items()]\n",
        "df_eng_frequency = pd.DataFrame(zip(eng_words_unique, eng_words_counts), columns=['words', 'frequency'])\n",
        "df_eng_frequency['frequency'].hist(bins=30, figsize=(12,8))\n",
        "plt.yscale('log')\n",
        "plt.title('English Word Frequency Distribution')\n",
        "plt.show()"
      ],
      "execution_count": 29,
      "outputs": [
        {
          "output_type": "display_data",
          "data": {
            "image/png": "[encoded data removed]",
            "text/plain": [
              "<Figure size 864x576 with 1 Axes>"
            ]
          },
          "metadata": {
            "tags": [],
            "needs_background": "light"
          }
        }
      ]
    },
    {
      "cell_type": "code",
      "metadata": {
        "id": "IsduFzcGSzfI",
        "colab_type": "code",
        "colab": {
          "base_uri": "https://localhost:8080/",
          "height": 499
        },
        "outputId": "1c3f0d01-d32b-4da9-9d1f-818684588dbc"
      },
      "source": [
        "#English distribution of word frequencies\n",
        "chi_words_unique = [w for w,c in chi_tokenizer.word_counts.items()]\n",
        "chi_words_counts = [c for w,c in chi_tokenizer.word_counts.items()]\n",
        "df_chi_frequency = pd.DataFrame(zip(chi_words_unique, chi_words_counts), columns=['words', 'frequency'])\n",
        "df_chi_frequency['frequency'].hist(bins=30, figsize=(12,8))\n",
        "plt.yscale('log')\n",
        "plt.title('Chinese Word Frequency Distribution')\n",
        "plt.show()"
      ],
      "execution_count": 30,
      "outputs": [
        {
          "output_type": "display_data",
          "data": {
            "image/png": "[encoded data removed]",
            "text/plain": [
              "<Figure size 864x576 with 1 Axes>"
            ]
          },
          "metadata": {
            "tags": [],
            "needs_background": "light"
          }
        }
      ]
    },
    {
      "cell_type": "markdown",
      "metadata": {
        "id": "4ak9ECmns4w0",
        "colab_type": "text"
      },
      "source": [
        "## Encode and Pad Sequences"
      ]
    },
    {
      "cell_type": "code",
      "metadata": {
        "id": "KF220gsWsyPo",
        "colab_type": "code",
        "colab": {
          "base_uri": "https://localhost:8080/",
          "height": 391
        },
        "outputId": "f5ff79d4-d248-4f1c-8b78-b19452ff82b3"
      },
      "source": [
        "# prepare training data\n",
        "trainX = encode_sequences(chi_tokenizer, chi_length, chi_train)\n",
        "trainY = encode_sequences(eng_tokenizer, eng_length, eng_train)\n",
        "trainY = encode_output(trainY, eng_vocab_size)\n",
        "# prepare validation data\n",
        "testX = encode_sequences(chi_tokenizer, chi_length, chi_test)\n",
        "testY = encode_sequences(eng_tokenizer, eng_length, eng_test)\n",
        "testY = encode_output(testY, eng_vocab_size)\n",
        " \n",
        "print(trainX[0])\n",
        "print(trainY[0])\n",
        "print(testX[0])\n",
        "print(testY[0])\n",
        "print(trainX.shape)\n",
        "print(trainY.shape)\n",
        "print(testX.shape)\n",
        "print(testY.shape)"
      ],
      "execution_count": 31,
      "outputs": [
        {
          "output_type": "stream",
          "text": [
            "[   5   46 1461  133   51 1461  133    0    0    0    0    0    0    0\n",
            "    0    0]\n",
            "[[0. 0. 0. ... 0. 0. 0.]\n",
            " [0. 0. 0. ... 0. 0. 0.]\n",
            " [0. 0. 0. ... 0. 0. 0.]\n",
            " ...\n",
            " [1. 0. 0. ... 0. 0. 0.]\n",
            " [1. 0. 0. ... 0. 0. 0.]\n",
            " [1. 0. 0. ... 0. 0. 0.]]\n",
            "[  32 1219    0    0    0    0    0    0    0    0    0    0    0    0\n",
            "    0    0]\n",
            "[[0. 0. 0. ... 0. 0. 0.]\n",
            " [0. 0. 0. ... 0. 0. 0.]\n",
            " [0. 0. 0. ... 0. 0. 0.]\n",
            " ...\n",
            " [1. 0. 0. ... 0. 0. 0.]\n",
            " [1. 0. 0. ... 0. 0. 0.]\n",
            " [1. 0. 0. ... 0. 0. 0.]]\n",
            "(17000, 16)\n",
            "(17000, 11, 5449)\n",
            "(2000, 16)\n",
            "(2000, 11, 5449)\n"
          ],
          "name": "stdout"
        }
      ]
    },
    {
      "cell_type": "markdown",
      "metadata": {
        "id": "PQtLoxYMtJr1",
        "colab_type": "text"
      },
      "source": [
        "## Define and Train Model"
      ]
    },
    {
      "cell_type": "code",
      "metadata": {
        "id": "6QEwE53KtIW5",
        "colab_type": "code",
        "colab": {
          "base_uri": "https://localhost:8080/",
          "height": 967
        },
        "outputId": "133b2a3a-54e2-40b0-838d-72bb746cf377"
      },
      "source": [
        "# define model\n",
        "model = define_model(chi_vocab_size, eng_vocab_size, chi_length, eng_length, 80)\n",
        "opt = keras.optimizers.Adam(learning_rate=0.003)\n",
        "model.compile(optimizer=opt, loss='categorical_crossentropy', metrics=['accuracy'])\n",
        "# summarize defined model\n",
        "print(model.summary())\n",
        "plot_model(model, to_file='model.png', show_shapes=True)"
      ],
      "execution_count": 32,
      "outputs": [
        {
          "output_type": "stream",
          "text": [
            "Model: \"sequential_1\"\n",
            "_________________________________________________________________\n",
            "Layer (type)                 Output Shape              Param #   \n",
            "=================================================================\n",
            "embedding_1 (Embedding)      (None, 16, 80)            831680    \n",
            "_________________________________________________________________\n",
            "lstm_1 (LSTM)                (None, 80)                51520     \n",
            "_________________________________________________________________\n",
            "dropout_1 (Dropout)          (None, 80)                0         \n",
            "_________________________________________________________________\n",
            "repeat_vector_1 (RepeatVecto (None, 11, 80)            0         \n",
            "_________________________________________________________________\n",
            "AttentionDecoder (AttentionD (None, 11, 5449)          31934650  \n",
            "=================================================================\n",
            "Total params: 32,817,850\n",
            "Trainable params: 32,817,850\n",
            "Non-trainable params: 0\n",
            "_________________________________________________________________\n",
            "None\n"
          ],
          "name": "stdout"
        },
        {
          "output_type": "execute_result",
          "data": {
            "image/png": "[encoded data removed]",
            "text/plain": [
              "<IPython.core.display.Image object>"
            ]
          },
          "metadata": {
            "tags": []
          },
          "execution_count": 32
        }
      ]
    },
    {
      "cell_type": "code",
      "metadata": {
        "id": "H04ctz-gtIeu",
        "colab_type": "code",
        "colab": {
          "base_uri": "https://localhost:8080/",
          "height": 1000
        },
        "outputId": "8d60ff5e-1a62-4111-86cd-5120b7f8fe51"
      },
      "source": [
        "\n",
        "# fit model\n",
        "filename = 'model.h5'\n",
        "checkpoint = ModelCheckpoint(filename, monitor='val_loss', verbose=1, save_best_only=True, mode='min')\n",
        "history = model.fit(trainX, trainY, epochs=30, batch_size=64, validation_data=(testX, testY), callbacks=[checkpoint], verbose=2)"
      ],
      "execution_count": 33,
      "outputs": [
        {
          "output_type": "stream",
          "text": [
            "/usr/local/lib/python3.6/dist-packages/tensorflow/python/framework/indexed_slices.py:434: UserWarning: Converting sparse IndexedSlices to a dense Tensor of unknown shape. This may consume a large amount of memory.\n",
            "  \"Converting sparse IndexedSlices to a dense Tensor of unknown shape. \"\n"
          ],
          "name": "stderr"
        },
        {
          "output_type": "stream",
          "text": [
            "Train on 17000 samples, validate on 2000 samples\n",
            "Epoch 1/30\n",
            " - 40s - loss: 3.6817 - accuracy: 0.5106 - val_loss: 3.1849 - val_accuracy: 0.5288\n",
            "\n",
            "Epoch 00001: val_loss improved from inf to 3.18490, saving model to model.h5\n",
            "Epoch 2/30\n",
            " - 38s - loss: 3.0988 - accuracy: 0.5304 - val_loss: 3.0330 - val_accuracy: 0.5414\n",
            "\n",
            "Epoch 00002: val_loss improved from 3.18490 to 3.03297, saving model to model.h5\n",
            "Epoch 3/30\n",
            " - 39s - loss: 2.9086 - accuracy: 0.5467 - val_loss: 2.8934 - val_accuracy: 0.5592\n",
            "\n",
            "Epoch 00003: val_loss improved from 3.03297 to 2.89339, saving model to model.h5\n",
            "Epoch 4/30\n",
            " - 39s - loss: 2.7288 - accuracy: 0.5636 - val_loss: 2.7791 - val_accuracy: 0.5738\n",
            "\n",
            "Epoch 00004: val_loss improved from 2.89339 to 2.77913, saving model to model.h5\n",
            "Epoch 5/30\n",
            " - 38s - loss: 2.5537 - accuracy: 0.5778 - val_loss: 2.6712 - val_accuracy: 0.5829\n",
            "\n",
            "Epoch 00005: val_loss improved from 2.77913 to 2.67120, saving model to model.h5\n",
            "Epoch 6/30\n",
            " - 38s - loss: 2.3991 - accuracy: 0.5880 - val_loss: 2.5706 - val_accuracy: 0.5933\n",
            "\n",
            "Epoch 00006: val_loss improved from 2.67120 to 2.57063, saving model to model.h5\n",
            "Epoch 7/30\n",
            " - 39s - loss: 2.2609 - accuracy: 0.5974 - val_loss: 2.4924 - val_accuracy: 0.5995\n",
            "\n",
            "Epoch 00007: val_loss improved from 2.57063 to 2.49242, saving model to model.h5\n",
            "Epoch 8/30\n",
            " - 39s - loss: 2.1376 - accuracy: 0.6051 - val_loss: 2.4301 - val_accuracy: 0.6039\n",
            "\n",
            "Epoch 00008: val_loss improved from 2.49242 to 2.43008, saving model to model.h5\n",
            "Epoch 9/30\n",
            " - 41s - loss: 2.0315 - accuracy: 0.6113 - val_loss: 2.3830 - val_accuracy: 0.6089\n",
            "\n",
            "Epoch 00009: val_loss improved from 2.43008 to 2.38300, saving model to model.h5\n",
            "Epoch 10/30\n",
            " - 39s - loss: 1.9371 - accuracy: 0.6191 - val_loss: 2.3495 - val_accuracy: 0.6107\n",
            "\n",
            "Epoch 00010: val_loss improved from 2.38300 to 2.34954, saving model to model.h5\n",
            "Epoch 11/30\n",
            " - 39s - loss: 1.8520 - accuracy: 0.6251 - val_loss: 2.3184 - val_accuracy: 0.6155\n",
            "\n",
            "Epoch 00011: val_loss improved from 2.34954 to 2.31845, saving model to model.h5\n",
            "Epoch 12/30\n",
            " - 39s - loss: 1.7843 - accuracy: 0.6307 - val_loss: 2.2948 - val_accuracy: 0.6203\n",
            "\n",
            "Epoch 00012: val_loss improved from 2.31845 to 2.29485, saving model to model.h5\n",
            "Epoch 13/30\n",
            " - 39s - loss: 1.7168 - accuracy: 0.6377 - val_loss: 2.2831 - val_accuracy: 0.6187\n",
            "\n",
            "Epoch 00013: val_loss improved from 2.29485 to 2.28313, saving model to model.h5\n",
            "Epoch 14/30\n",
            " - 39s - loss: 1.6633 - accuracy: 0.6427 - val_loss: 2.2625 - val_accuracy: 0.6240\n",
            "\n",
            "Epoch 00014: val_loss improved from 2.28313 to 2.26251, saving model to model.h5\n",
            "Epoch 15/30\n",
            " - 39s - loss: 1.6068 - accuracy: 0.6487 - val_loss: 2.2570 - val_accuracy: 0.6237\n",
            "\n",
            "Epoch 00015: val_loss improved from 2.26251 to 2.25698, saving model to model.h5\n",
            "Epoch 16/30\n",
            " - 38s - loss: 1.5640 - accuracy: 0.6540 - val_loss: 2.2355 - val_accuracy: 0.6230\n",
            "\n",
            "Epoch 00016: val_loss improved from 2.25698 to 2.23552, saving model to model.h5\n",
            "Epoch 17/30\n",
            " - 39s - loss: 1.5185 - accuracy: 0.6600 - val_loss: 2.2250 - val_accuracy: 0.6271\n",
            "\n",
            "Epoch 00017: val_loss improved from 2.23552 to 2.22502, saving model to model.h5\n",
            "Epoch 18/30\n",
            " - 38s - loss: 1.4842 - accuracy: 0.6643 - val_loss: 2.2166 - val_accuracy: 0.6285\n",
            "\n",
            "Epoch 00018: val_loss improved from 2.22502 to 2.21661, saving model to model.h5\n",
            "Epoch 19/30\n",
            " - 38s - loss: 1.4466 - accuracy: 0.6701 - val_loss: 2.2142 - val_accuracy: 0.6320\n",
            "\n",
            "Epoch 00019: val_loss improved from 2.21661 to 2.21418, saving model to model.h5\n",
            "Epoch 20/30\n",
            " - 38s - loss: 1.4133 - accuracy: 0.6743 - val_loss: 2.2130 - val_accuracy: 0.6322\n",
            "\n",
            "Epoch 00020: val_loss improved from 2.21418 to 2.21302, saving model to model.h5\n",
            "Epoch 21/30\n",
            " - 38s - loss: 1.3748 - accuracy: 0.6803 - val_loss: 2.2071 - val_accuracy: 0.6328\n",
            "\n",
            "Epoch 00021: val_loss improved from 2.21302 to 2.20713, saving model to model.h5\n",
            "Epoch 22/30\n",
            " - 38s - loss: 1.3530 - accuracy: 0.6840 - val_loss: 2.2091 - val_accuracy: 0.6341\n",
            "\n",
            "Epoch 00022: val_loss did not improve from 2.20713\n",
            "Epoch 23/30\n",
            " - 39s - loss: 1.3211 - accuracy: 0.6891 - val_loss: 2.2060 - val_accuracy: 0.6324\n",
            "\n",
            "Epoch 00023: val_loss improved from 2.20713 to 2.20601, saving model to model.h5\n",
            "Epoch 24/30\n",
            " - 38s - loss: 1.3001 - accuracy: 0.6934 - val_loss: 2.2067 - val_accuracy: 0.6317\n",
            "\n",
            "Epoch 00024: val_loss did not improve from 2.20601\n",
            "Epoch 25/30\n",
            " - 38s - loss: 1.2732 - accuracy: 0.6980 - val_loss: 2.2158 - val_accuracy: 0.6344\n",
            "\n",
            "Epoch 00025: val_loss did not improve from 2.20601\n",
            "Epoch 26/30\n",
            " - 38s - loss: 1.2474 - accuracy: 0.7016 - val_loss: 2.2163 - val_accuracy: 0.6373\n",
            "\n",
            "Epoch 00026: val_loss did not improve from 2.20601\n",
            "Epoch 27/30\n",
            " - 38s - loss: 1.2326 - accuracy: 0.7036 - val_loss: 2.2165 - val_accuracy: 0.6351\n",
            "\n",
            "Epoch 00027: val_loss did not improve from 2.20601\n",
            "Epoch 28/30\n",
            " - 38s - loss: 1.2103 - accuracy: 0.7080 - val_loss: 2.2156 - val_accuracy: 0.6355\n",
            "\n",
            "Epoch 00028: val_loss did not improve from 2.20601\n",
            "Epoch 29/30\n",
            " - 38s - loss: 1.1973 - accuracy: 0.7105 - val_loss: 2.2041 - val_accuracy: 0.6386\n",
            "\n",
            "Epoch 00029: val_loss improved from 2.20601 to 2.20406, saving model to model.h5\n",
            "Epoch 30/30\n",
            " - 38s - loss: 1.1719 - accuracy: 0.7154 - val_loss: 2.2180 - val_accuracy: 0.6372\n",
            "\n",
            "Epoch 00030: val_loss did not improve from 2.20406\n"
          ],
          "name": "stdout"
        }
      ]
    },
    {
      "cell_type": "code",
      "metadata": {
        "id": "dqZAz7vQV4xU",
        "colab_type": "code",
        "colab": {
          "base_uri": "https://localhost:8080/",
          "height": 483
        },
        "outputId": "3d05f7bd-84dc-4d3c-92c1-6d8a5aff3295"
      },
      "source": [
        "#plot of model training\n",
        "\n",
        "import matplotlib.pyplot as plt\n",
        "\n",
        "plt.figure(figsize=(12,8))\n",
        "plt.plot(history.history['loss']) \n",
        "plt.plot(history.history['val_loss']) \n",
        "plt.legend(['train','validation']) \n",
        "plt.show()"
      ],
      "execution_count": 34,
      "outputs": [
        {
          "output_type": "display_data",
          "data": {
            "image/png": "[encoded data removed]",
            "text/plain": [
              "<Figure size 864x576 with 1 Axes>"
            ]
          },
          "metadata": {
            "tags": [],
            "needs_background": "light"
          }
        }
      ]
    },
    {
      "cell_type": "markdown",
      "metadata": {
        "id": "3Lo7zZ1gtWLD",
        "colab_type": "text"
      },
      "source": [
        "## Functions for Model Evaluation"
      ]
    },
    {
      "cell_type": "code",
      "metadata": {
        "id": "dypYXFair-nI",
        "colab_type": "code",
        "colab": {
          "base_uri": "https://localhost:8080/",
          "height": 34
        },
        "outputId": "8d6d85b5-ff91-4ee6-ff76-662f376344b5"
      },
      "source": [
        "\n",
        "from pickle import load\n",
        "from numpy import array\n",
        "from numpy import argmax\n",
        "from keras.preprocessing.text import Tokenizer\n",
        "from keras.preprocessing.sequence import pad_sequences\n",
        "from keras.models import load_model\n",
        "from nltk.translate.bleu_score import corpus_bleu\n",
        " \n",
        "# load a clean dataset\n",
        "def load_clean_sentences(filename):\n",
        "\treturn load(open(filename, 'rb'))\n",
        " \n",
        "# fit a tokenizer\n",
        "def create_tokenizer(lines):\n",
        "\ttokenizer = Tokenizer()\n",
        "\ttokenizer.fit_on_texts(lines)\n",
        "\treturn tokenizer\n",
        " \n",
        "# max sentence length\n",
        "def max_length(lines):\n",
        "\treturn max(len(line.split()) for line in lines)\n",
        " \n",
        "# encode and pad sequences\n",
        "def encode_sequences(tokenizer, length, lines):\n",
        "\t# integer encode sequences\n",
        "\tX = tokenizer.texts_to_sequences(lines)\n",
        "\t# pad sequences with 0 values\n",
        "\tX = pad_sequences(X, maxlen=length, padding='post')\n",
        "\treturn X\n",
        " \n",
        "# map an integer to a word\n",
        "def word_for_id(integer, tokenizer):\n",
        "\tfor word, index in tokenizer.word_index.items():\n",
        "\t\tif index == integer:\n",
        "\t\t\treturn word\n",
        "\treturn None\n",
        " \n",
        "# generate target given source sequence\n",
        "def predict_sequence(model, tokenizer, source):\n",
        "\tprediction = model.predict(source, verbose=0)[0]\n",
        "\tintegers = [argmax(vector) for vector in prediction]\n",
        "\ttarget = list()\n",
        "\tfor i in integers:\n",
        "\t\tword = word_for_id(i, tokenizer)\n",
        "\t\tif word is None:\n",
        "\t\t\tbreak\n",
        "\t\ttarget.append(word)\n",
        "\treturn ' '.join(target)\n",
        " \n",
        "# evaluate the skill of the model\n",
        "def evaluate_model(model, tokenizer, sources, raw_dataset):\n",
        "\tactual, predicted = list(), list()\n",
        "\tfor i, source in enumerate(sources):\n",
        "\t\t# translate encoded source text\n",
        "\t\tsource = source.reshape((1, source.shape[0]))\n",
        "\t\ttranslation = predict_sequence(model, eng_tokenizer, source)\n",
        "\t\traw_target, raw_src = raw_dataset[i]\n",
        "\t\tif i < 10:\n",
        "\t\t\tprint('src=[%s], target=[%s], predicted=[%s]' % (raw_src, raw_target, translation))\n",
        "\t\tactual.append([raw_target.split()])\n",
        "\t\tpredicted.append(translation.split())\n",
        "\t# calculate BLEU score\n",
        "\tprint('BLEU-1: %f' % corpus_bleu(actual, predicted, weights=(1.0, 0, 0, 0)))\n",
        "\tprint('BLEU-2: %f' % corpus_bleu(actual, predicted, weights=(0.5, 0.5, 0, 0)))\n",
        "\tprint('BLEU-3: %f' % corpus_bleu(actual, predicted, weights=(0.3, 0.3, 0.3, 0)))\n",
        "\tprint('BLEU-4: %f' % corpus_bleu(actual, predicted, weights=(0.25, 0.25, 0.25, 0.25)))\n",
        "print('done')"
      ],
      "execution_count": 35,
      "outputs": [
        {
          "output_type": "stream",
          "text": [
            "done\n"
          ],
          "name": "stdout"
        }
      ]
    },
    {
      "cell_type": "code",
      "metadata": {
        "id": "IqXacDWavvun",
        "colab_type": "code",
        "colab": {
          "base_uri": "https://localhost:8080/",
          "height": 102
        },
        "outputId": "cebd9665-2efa-49d5-8789-2cae9283538b"
      },
      "source": [
        " \n",
        "# load datasets\n",
        "dataset = load_clean_sentences('english-chinese-both.pkl')\n",
        "train = load_clean_sentences('english-chinese-train.pkl')\n",
        "test = load_clean_sentences('english-chinese-test.pkl')\n",
        "\n",
        "eng_data = [i[0] for i in dataset]\n",
        "chi_data = [i[1] for i in dataset]\n",
        "eng_train = [i[0] for i in train]\n",
        "chi_train = [i[1] for i in train]\n",
        "eng_test = [i[0] for i in test]\n",
        "chi_test = [i[1] for i in test]\n",
        "\n",
        "# prepare english tokenizer\n",
        "eng_tokenizer = create_tokenizer(eng_data)\n",
        "eng_vocab_size = len(eng_tokenizer.word_index) + 1\n",
        "eng_length = max_length(eng_data)\n",
        "# prepare chinese tokenizer\n",
        "chi_tokenizer = create_tokenizer(chi_data)\n",
        "chi_vocab_size = len(chi_tokenizer.word_index) + 1\n",
        "chi_length = max_length(chi_data)\n",
        "# prepare data\n",
        "trainX = encode_sequences(chi_tokenizer, chi_length, chi_train)\n",
        "testX = encode_sequences(chi_tokenizer, chi_length, chi_test)\n",
        " \n",
        "print(dataset[0])\n",
        "print(train[0])\n",
        "print(chi_train[1])\n",
        "print(trainX[0])"
      ],
      "execution_count": 36,
      "outputs": [
        {
          "output_type": "stream",
          "text": [
            "['He earned as much money as possible', '他 能 赚 多少 就 赚 多少']\n",
            "['He earned as much money as possible', '他 能 赚 多少 就 赚 多少']\n",
            "他 知道 怎么 玩 棒球\n",
            "[   5   46 1461  133   51 1461  133    0    0    0    0    0    0    0\n",
            "    0    0]\n"
          ],
          "name": "stdout"
        }
      ]
    },
    {
      "cell_type": "markdown",
      "metadata": {
        "id": "8AryuvNlteFs",
        "colab_type": "text"
      },
      "source": [
        "## Model Evaluation with BLEU Scoring"
      ]
    },
    {
      "cell_type": "code",
      "metadata": {
        "id": "tAysf1pfvwE_",
        "colab_type": "code",
        "colab": {
          "base_uri": "https://localhost:8080/",
          "height": 581
        },
        "outputId": "df837953-2b0b-49fd-ae9e-1c868d7727f1"
      },
      "source": [
        "from attention_decoder import AttentionDecoder\n",
        "\n",
        "from keras.utils import CustomObjectScope\n",
        "with CustomObjectScope({'AttentionDecoder': AttentionDecoder}):\n",
        "    model = load_model('model.h5')\n",
        "\n",
        "# load model\n",
        "#model = load_model('model.h5')\n",
        "# test on some training sequences\n",
        "print('train')\n",
        "evaluate_model(model, eng_tokenizer, trainX, [i[:2] for i in train]) \n",
        "# test on some test sequences\n",
        "print('test')\n",
        "evaluate_model(model, eng_tokenizer, testX, [i[:2] for i in test])"
      ],
      "execution_count": 37,
      "outputs": [
        {
          "output_type": "stream",
          "text": [
            "/usr/local/lib/python3.6/dist-packages/tensorflow/python/framework/indexed_slices.py:434: UserWarning: Converting sparse IndexedSlices to a dense Tensor of unknown shape. This may consume a large amount of memory.\n",
            "  \"Converting sparse IndexedSlices to a dense Tensor of unknown shape. \"\n"
          ],
          "name": "stderr"
        },
        {
          "output_type": "stream",
          "text": [
            "train\n",
            "src=[他 能 赚 多少 就 赚 多少], target=[He earned as much money as possible], predicted=[he earned as fast as as]\n",
            "src=[他 知道 怎么 玩 棒球], target=[He knows how to play baseball], predicted=[he knows how to play baseball]\n",
            "src=[有 什么 东西 是 我 不该 吃 的 吗], target=[Is there anything that I should not eat], predicted=[is it anything i can do]\n",
            "src=[我 没 有 刀子 可用 来切], target=[I have no knife to cut with], predicted=[i have no knife with cut]\n",
            "src=[巴西 的 首都 是 巴西利亚], target=[The capital of Brazil is Brasilia], predicted=[the capital of brazil is brasilia]\n",
            "src=[他 7 点到 了 火车站], target=[He arrived at the station at seven], predicted=[he arrived at the station at seven]\n",
            "src=[你 的 父母 有 多 高], target=[How tall are your parents], predicted=[how tall is your parents]\n",
            "src=[我 曾 希望 在 那里 遇见 你], target=[I had hoped to meet you there], predicted=[i have hoped to there there there]\n",
            "src=[他们 报告 目击 了 事故], target=[They reported seeing the incident], predicted=[they reported the the incident]\n",
            "src=[请给 我 菜 单], target=[Please give me the menu], predicted=[please show me the menu]\n",
            "BLEU-1: 0.545090\n",
            "BLEU-2: 0.431944\n",
            "BLEU-3: 0.380271\n",
            "BLEU-4: 0.270600\n",
            "test\n",
            "src=[请 敲门], target=[Please knock on the door], predicted=[please come the door please]\n",
            "src=[我 想 跟 你 老板 谈], target=[I want to talk to your boss], predicted=[i want to talk with your boss]\n",
            "src=[那本书 很 旧], target=[That book is very old], predicted=[that house is small]\n",
            "src=[我 被 蚊子 叮 了], target=[I was bitten by a mosquito], predicted=[i was drowned annoyed]\n",
            "src=[汤姆 是 这个 班级 里 唯一 的 男生], target=[Tom is the only guy in this class], predicted=[tom is only guy guy in class class]\n",
            "src=[这架 飞机 完美 的 着陆 了], target=[The plane made a perfect landing], predicted=[the airplane made become a landing]\n",
            "src=[玛丽 很 高], target=[Mary is tall], predicted=[tom is very tall]\n",
            "src=[我 可能 犯 了 个 错], target=[I might make a mistake], predicted=[i can make a mistake mistake]\n",
            "src=[除了 英文  他 还说 德文], target=[In addition to English he speaks German], predicted=[the is is mention in in]\n",
            "src=[这辆 自行车 需要 修理], target=[This bike needs to be repaired], predicted=[this car needs to]\n",
            "BLEU-1: 0.293436\n",
            "BLEU-2: 0.175133\n",
            "BLEU-3: 0.131421\n",
            "BLEU-4: 0.064011\n"
          ],
          "name": "stdout"
        }
      ]
    },
    {
      "cell_type": "code",
      "metadata": {
        "id": "tqGvdxfT1BNK",
        "colab_type": "code",
        "colab": {}
      },
      "source": [
        "#notes\n",
        "\n",
        "# best score BLEU-1: 0.35, model nodes = 500, also nodes=1500, 10000 samples\n",
        "\n",
        "#best accuracy: attention decoder, 64 neurons, 0.2 dropout, bleu-1 .37\n",
        "\n",
        "#attention decoder, 50 neurons, 0.3 dropout, bleu-1 .365\n",
        "\n",
        "#attention decoder, 32 neurons, 0.3 dropout, bleu-1 .3988\n",
        "\n",
        "#50 neurons, epochs=30, lr=0.003, dropout=0.4, 18000 sents, train bleu-1=.45, test bleu-1=.249 (could train further)\n",
        "\n",
        "#60 neurons, epochs=30, lr=0.003, dropout=0.4, 18000 sents, train bleu-1=.484, test bleu-1=.265 (stops training at 25, 66%training accuracy)\n",
        "\n",
        "#70 neurons, epochs=30, lr=0.003, dropout=0.4, 18000 sents, train bleu-1=.514, test bleu-1=.272 (stops training at 25, 66%training accuracy)\n",
        "\n",
        "#80 neurons, epochs=30, lr=0.003, dropout=0.5, 18000 sents, train bleu-1=.545, test bleu-1=.293 (could train further, 69.5%training accuracy)\n",
        "\n",
        "#90 neurons, epochs=30, lr = 0.003, dropout=0.5, 18000 sents, train bleu-1=0.505, test=0.285\n",
        "\n",
        "#90 neurons, epochs=45, lr = adaptive, dropout=0.6, 18000 sents, train bleu-1=0.404, test=0.243 (can train more)\n",
        "\n"
      ],
      "execution_count": null,
      "outputs": []
    }
  ]
}