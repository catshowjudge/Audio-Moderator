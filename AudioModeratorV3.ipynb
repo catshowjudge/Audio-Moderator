{
  "nbformat": 4,
  "nbformat_minor": 0,
  "metadata": {
    "colab": {
      "name": "AudioModeratorV3.ipynb",
      "provenance": [],
      "collapsed_sections": [],
      "authorship_tag": "ABX9TyMOkyp9txO9pOERxiX2jsND"
    },
    "kernelspec": {
      "name": "python3",
      "display_name": "Python 3"
    },
    "accelerator": "GPU"
  },
  "cells": [
    {
      "cell_type": "markdown",
      "metadata": {
        "id": "f0NEkxfRaqua",
        "colab_type": "text"
      },
      "source": [
        "# Audio Moderator V.3"
      ]
    },
    {
      "cell_type": "markdown",
      "metadata": {
        "id": "c7SNis6aty3x",
        "colab_type": "text"
      },
      "source": [
        "This project aims to translate Chinese audio to English text to assist in content moderation and foreign language audio/video sharing. This version so far includes the seq2seq machine translation model with Attention."
      ]
    },
    {
      "cell_type": "markdown",
      "metadata": {
        "id": "BpTVae3YbnIT",
        "colab_type": "text"
      },
      "source": [
        "## Set-up and Data Cleaning"
      ]
    },
    {
      "cell_type": "code",
      "metadata": {
        "id": "TjOTFZM2t1XR",
        "colab_type": "code",
        "colab": {
          "base_uri": "https://localhost:8080/",
          "height": 34
        },
        "outputId": "5ef91f1b-df96-4b98-9e7c-74f5c81d97a0"
      },
      "source": [
        "\n",
        "\n",
        "import string\n",
        "import re\n",
        "from pickle import dump\n",
        "from unicodedata import normalize\n",
        "from numpy import array\n",
        "import jieba\n",
        "import numpy as np\n",
        "#!pip install jieba --upgrade\n",
        "#from mafan import simplify\n",
        "#from langconv import *\n",
        "\n",
        " \n",
        "# load doc into memory\n",
        "def load_doc(filename):\n",
        "\t# open the file as read only\n",
        "\tfile = open(filename, mode='rt', encoding='utf-8')\n",
        "\t# read all text\n",
        "\ttext = file.read()\n",
        "\t# close the file\n",
        "\tfile.close()\n",
        "\treturn text\n",
        " \n",
        "# split a loaded document into sentences\n",
        "def to_pairs(doc):\n",
        "\tlines = doc.strip().split('\\n')\n",
        "\tpairs = [line.split('\\t') for line in  lines]\n",
        "\treturn pairs\n",
        " \n",
        "# clean a list of lines\n",
        "def clean_pairs(lines):\n",
        "\tenglish = []\n",
        "\tchinese = []\n",
        "\tfor pair in lines:\n",
        "\t\t#eng = pair[0].split(' ')\n",
        "\t\teng = pair[0].lower()\n",
        "\t\teng = re.sub(r'[.,?!]','',pair[0])\n",
        "\t\tchi1 = jieba.cut(pair[1], cut_all=False)\n",
        "\t\tchi2 = ' '.join(chi1)\n",
        "\t\tchi2 = re.sub(r'[^\\w\\s]', '', chi2)\n",
        "\t\tchi2 = chi2.rstrip()\n",
        "\n",
        "\t\tenglish.append(eng)\n",
        "\t\tchinese.append(chi2)\n",
        "\treturn english, chinese\n",
        " \n",
        "# save a list of clean sentences to file\n",
        "def save_clean_data(sentences, filename):\n",
        "\tdump(sentences, open(filename, 'wb'))\n",
        "\tprint('Saved: %s' % filename)\n",
        " \n",
        "print('done')"
      ],
      "execution_count": 16,
      "outputs": [
        {
          "output_type": "stream",
          "text": [
            "done\n"
          ],
          "name": "stdout"
        }
      ]
    },
    {
      "cell_type": "markdown",
      "metadata": {
        "id": "yEmGRTq6brLi",
        "colab_type": "text"
      },
      "source": [
        "## Cleaning and Saving the Data"
      ]
    },
    {
      "cell_type": "code",
      "metadata": {
        "id": "4oMIhbJWt2jO",
        "colab_type": "code",
        "colab": {
          "base_uri": "https://localhost:8080/",
          "height": 34
        },
        "outputId": "cf638273-759b-4c7b-8b20-3ee73c5eae4c"
      },
      "source": [
        "\n",
        "import chinese_converter\n",
        "\n",
        "# load dataset\n",
        "filename = 'cmn.txt'\n",
        "doc = load_doc(filename)\n",
        "# split into english-chinese pairs\n",
        "pairs = to_pairs(doc)\n",
        "# clean sentences\n",
        "eng_clean_pairs, chi_clean_pairs = clean_pairs(pairs)\n",
        "\n",
        "\n",
        "print(pairs[0])\n",
        "print(eng_clean_pairs[10])\n",
        "print(chi_clean_pairs[100])"
      ],
      "execution_count": 17,
      "outputs": [
        {
          "output_type": "stream",
          "text": [
            "Hi\n"
          ],
          "name": "stdout"
        }
      ]
    },
    {
      "cell_type": "code",
      "metadata": {
        "id": "J6eFaxARJEFy",
        "colab_type": "code",
        "colab": {
          "base_uri": "https://localhost:8080/",
          "height": 102
        },
        "outputId": "6befdfde-46e1-4a2d-bceb-d4e837724bd9"
      },
      "source": [
        "chi_cleaner_pairs = [chinese_converter.to_simplified(i) for i in chi_clean_pairs]\n",
        "\n",
        "clean_pairs = [[i, j] for i, j in zip(eng_clean_pairs,chi_cleaner_pairs)]\n",
        "\n",
        "# spot check\n",
        "\n",
        "print(chi_cleaner_pairs[20:25])\n",
        "print(clean_pairs[:5])\n",
        "\n",
        "# for i in range(15):\n",
        "# \tprint('[%s] => [%s]' % (clean_pairs[i,0], clean_pairs[i,1]))"
      ],
      "execution_count": 19,
      "outputs": [
        {
          "output_type": "stream",
          "text": [
            "['Hi.', '嗨。', 'CC-BY 2.0 (France) Attribution: tatoeba.org #538123 (CM) & #891077 (Martha)']\n",
            "Got it\n",
            "我 迷失 了\n",
            "[['Hi', '嗨'], ['Hi', '你好'], ['Run', '你 用 跑 的'], ['Wait', '等等'], ['Wait', '等 一下']]\n",
            "['我们 来 试试', '为什么 是 我', '去 问 汤姆', '好棒', '冷静 点']\n"
          ],
          "name": "stdout"
        }
      ]
    },
    {
      "cell_type": "code",
      "metadata": {
        "id": "jB3zojGpiA4l",
        "colab_type": "code",
        "colab": {
          "base_uri": "https://localhost:8080/",
          "height": 357
        },
        "outputId": "5f8bb34d-fff7-4aea-bb88-fbaac1b4afc4"
      },
      "source": [
        "for i in range(20):\n",
        "\tprint('[%s] => [%s]' % (clean_pairs[i][0], clean_pairs[i][1]))"
      ],
      "execution_count": 20,
      "outputs": [
        {
          "output_type": "stream",
          "text": [
            "[Hi] => [嗨]\n",
            "[Hi] => [你好]\n",
            "[Run] => [你 用 跑 的]\n",
            "[Wait] => [等等]\n",
            "[Wait] => [等 一下]\n",
            "[Hello] => [你好]\n",
            "[I try] => [让 我 来]\n",
            "[I won] => [我 赢 了]\n",
            "[Oh no] => [不会 吧]\n",
            "[Cheers] => [干杯]\n",
            "[Got it] => [你 懂 了 吗]\n",
            "[He ran] => [他 跑 了]\n",
            "[Hop in] => [跳进来]\n",
            "[I quit] => [我 退出]\n",
            "[I'm OK] => [我 没事]\n",
            "[Listen] => [听 着]\n",
            "[No way] => [不 可能]\n",
            "[No way] => [没门]\n",
            "[Really] => [你 确定]\n",
            "[Try it] => [试试 吧]\n"
          ],
          "name": "stdout"
        }
      ]
    },
    {
      "cell_type": "code",
      "metadata": {
        "id": "uYlnSolMTCMu",
        "colab_type": "code",
        "colab": {
          "base_uri": "https://localhost:8080/",
          "height": 34
        },
        "outputId": "4d978bc7-3257-4979-b756-45afbf6c8a3c"
      },
      "source": [
        "# save clean pairs to file\n",
        "save_clean_data(clean_pairs, 'english-chinese.pkl')"
      ],
      "execution_count": 21,
      "outputs": [
        {
          "output_type": "stream",
          "text": [
            "Saved: english-chinese.pkl\n"
          ],
          "name": "stdout"
        }
      ]
    },
    {
      "cell_type": "code",
      "metadata": {
        "id": "xEbw0aDut2l4",
        "colab_type": "code",
        "colab": {
          "base_uri": "https://localhost:8080/",
          "height": 34
        },
        "outputId": "c24f30cc-0495-4443-f769-84c5808ab526"
      },
      "source": [
        "\n",
        "from pickle import load\n",
        "from pickle import dump\n",
        "from numpy.random import rand\n",
        "from numpy.random import shuffle\n",
        " \n",
        "# load a clean dataset\n",
        "def load_clean_sentences(filename):\n",
        "\treturn load(open(filename, 'rb'))\n",
        " \n",
        "# save a list of clean sentences to file\n",
        "def save_clean_data(sentences, filename):\n",
        "\tdump(sentences, open(filename, 'wb'))\n",
        "\tprint('Saved: %s' % filename)\n",
        " \n",
        "print('done')"
      ],
      "execution_count": 22,
      "outputs": [
        {
          "output_type": "stream",
          "text": [
            "done\n"
          ],
          "name": "stdout"
        }
      ]
    },
    {
      "cell_type": "markdown",
      "metadata": {
        "id": "gICoHUE_cIm-",
        "colab_type": "text"
      },
      "source": [
        "## Split Clean Data"
      ]
    },
    {
      "cell_type": "code",
      "metadata": {
        "id": "kk9Wkbv2xkSK",
        "colab_type": "code",
        "colab": {
          "base_uri": "https://localhost:8080/",
          "height": 153
        },
        "outputId": "106ffb2e-d42a-4ec8-ac29-4163b1ecceca"
      },
      "source": [
        "# load dataset\n",
        "raw_dataset = load_clean_sentences('english-chinese.pkl')\n",
        " \n",
        "# reduce dataset size\n",
        "n_sentences = 19000\n",
        "dataset = raw_dataset[:n_sentences]\n",
        "# random shuffle\n",
        "shuffle(dataset)\n",
        "# split into train/test\n",
        "train, test = dataset[:17000], dataset[17000:]\n",
        "# save\n",
        "save_clean_data(dataset, 'english-chinese-both.pkl')\n",
        "save_clean_data(train, 'english-chinese-train.pkl')\n",
        "save_clean_data(test, 'english-chinese-test.pkl')\n",
        "\n",
        "print(len(raw_dataset))\n",
        "print(raw_dataset[0])\n",
        "print(dataset[0])\n",
        "print(train[0])\n",
        "print(test[0])"
      ],
      "execution_count": 23,
      "outputs": [
        {
          "output_type": "stream",
          "text": [
            "Saved: english-chinese-both.pkl\n",
            "Saved: english-chinese-train.pkl\n",
            "Saved: english-chinese-test.pkl\n",
            "22075\n",
            "['Hi', '嗨']\n",
            "['He earned as much money as possible', '他 能 赚 多少 就 赚 多少']\n",
            "['He earned as much money as possible', '他 能 赚 多少 就 赚 多少']\n",
            "['Please knock on the door', '请 敲门']\n"
          ],
          "name": "stdout"
        }
      ]
    },
    {
      "cell_type": "markdown",
      "metadata": {
        "id": "CNKYmqzNcaUN",
        "colab_type": "text"
      },
      "source": [
        "## Tokenize Clean Data and Set-up for LSTM Model"
      ]
    },
    {
      "cell_type": "code",
      "metadata": {
        "id": "W7BBbtb2pNj4",
        "colab_type": "code",
        "colab": {
          "base_uri": "https://localhost:8080/",
          "height": 51
        },
        "outputId": "1733ccf1-9522-4c5f-ec2a-56fd69473aab"
      },
      "source": [
        "from pickle import load\n",
        "from numpy import array\n",
        "import keras\n",
        "from keras.preprocessing.text import Tokenizer\n",
        "from keras.preprocessing.sequence import pad_sequences\n",
        "from keras.utils import to_categorical\n",
        "from keras.utils.vis_utils import plot_model\n",
        "from keras.models import Sequential\n",
        "from keras.layers import LSTM\n",
        "from keras.layers import Dense\n",
        "from keras.layers import Embedding\n",
        "from keras.layers import RepeatVector\n",
        "from keras.layers import TimeDistributed\n",
        "from keras.callbacks import ModelCheckpoint\n",
        "from keras.layers import Dropout, GlobalMaxPooling1D, SpatialDropout1D\n",
        "from attention_decoder import AttentionDecoder\n",
        " \n",
        "# load a clean dataset\n",
        "def load_clean_sentences(filename):\n",
        "\treturn load(open(filename, 'rb'))\n",
        " \n",
        "# fit a tokenizer\n",
        "def create_tokenizer(lines):\n",
        "\ttokenizer = Tokenizer()\n",
        "\ttokenizer.fit_on_texts(lines)\n",
        "\treturn tokenizer\n",
        " \n",
        "# max sentence length\n",
        "def max_length(lines):\n",
        "\treturn max(len(line.split()) for line in lines)\n",
        " \n",
        "# encode and pad sequences\n",
        "def encode_sequences(tokenizer, length, lines):\n",
        "\t# integer encode sequences\n",
        "\tX = tokenizer.texts_to_sequences(lines)\n",
        "\t# pad sequences with 0 values\n",
        "\tX = pad_sequences(X, maxlen=length, padding='post')\n",
        "\treturn X\n",
        " \n",
        "# one hot encode target sequence\n",
        "def encode_output(sequences, vocab_size):\n",
        "\tylist = list()\n",
        "\tfor sequence in sequences:\n",
        "\t\tencoded = to_categorical(sequence, num_classes=vocab_size)\n",
        "\t\tylist.append(encoded)\n",
        "\ty = array(ylist)\n",
        "\ty = y.reshape(sequences.shape[0], sequences.shape[1], vocab_size)\n",
        "\treturn y\n",
        " \n",
        "# define NMT model\n",
        "def define_model(src_vocab, tar_vocab, src_timesteps, tar_timesteps, n_units):\n",
        "\tmodel = Sequential()\n",
        "\tmodel.add(Embedding(src_vocab, n_units, input_length=src_timesteps, mask_zero=True))\n",
        "\tmodel.add(LSTM(n_units))\n",
        "\tmodel.add(Dropout(0.5))\n",
        "\t# model.add(LSTM(n_units))\n",
        "\t# model.add(Dropout(0.5))\n",
        "\tmodel.add(RepeatVector(tar_timesteps))\n",
        "\t#model.add(LSTM(n_units, return_sequences=True))\n",
        "\t# model.add(Dropout(0.5))\n",
        "\tmodel.add(AttentionDecoder(n_units, tar_vocab))\n",
        "\t#model.add(TimeDistributed(Dense(tar_vocab, activation='softmax')))\n",
        "\treturn model\n",
        "\n",
        "# # define the encoder-decoder with attention model\n",
        "# def attention_model(n_timesteps_in, n_features):\n",
        "# \tmodel = Sequential()\n",
        "# \tmodel.add(LSTM(150, input_shape=(n_timesteps_in, n_features), return_sequences=True))\n",
        "# \tmodel.add(AttentionDecoder(150, n_features))\n",
        "# \tmodel.compile(loss='categorical_crossentropy', optimizer='adam', metrics=['accuracy'])\n",
        "# \treturn model\n",
        "\n",
        "print('done')"
      ],
      "execution_count": 24,
      "outputs": [
        {
          "output_type": "stream",
          "text": [
            "Using TensorFlow backend.\n"
          ],
          "name": "stderr"
        },
        {
          "output_type": "stream",
          "text": [
            "done\n"
          ],
          "name": "stdout"
        }
      ]
    },
    {
      "cell_type": "markdown",
      "metadata": {
        "id": "9qQKh5-Nsp2b",
        "colab_type": "text"
      },
      "source": [
        "## Explore Some Features of the Dataset"
      ]
    },
    {
      "cell_type": "code",
      "metadata": {
        "id": "mLJF5oszr-U-",
        "colab_type": "code",
        "colab": {
          "base_uri": "https://localhost:8080/",
          "height": 173
        },
        "outputId": "554f112b-d63f-4b33-984e-0682aa0c7090"
      },
      "source": [
        " \n",
        "# load datasets\n",
        "dataset = load_clean_sentences('english-chinese-both.pkl')\n",
        "train = load_clean_sentences('english-chinese-train.pkl')\n",
        "test = load_clean_sentences('english-chinese-test.pkl')\n",
        "\n",
        "print(dataset[:2])\n",
        "print(train[:2])\n",
        "print(test[:2])\n",
        "print(len(dataset))\n",
        "print(len(train))\n",
        "print(len(test))\n",
        "eng_data = [i[0] for i in dataset]\n",
        "chi_data = [i[1] for i in dataset]\n",
        "eng_train = [i[0] for i in train]\n",
        "chi_train = [i[1] for i in train]\n",
        "eng_test = [i[0] for i in test]\n",
        "chi_test = [i[1] for i in test]\n",
        "\n",
        "print(eng_data[:5])\n",
        "print(chi_data[:5])"
      ],
      "execution_count": 25,
      "outputs": [
        {
          "output_type": "stream",
          "text": [
            "[['He earned as much money as possible', '他 能 赚 多少 就 赚 多少'], ['He knows how to play baseball', '他 知道 怎么 玩 棒球']]\n",
            "[['He earned as much money as possible', '他 能 赚 多少 就 赚 多少'], ['He knows how to play baseball', '他 知道 怎么 玩 棒球']]\n",
            "[['Please knock on the door', '请 敲门'], ['I want to talk to your boss', '我 想 跟 你 老板 谈']]\n",
            "19000\n",
            "17000\n",
            "2000\n",
            "['He earned as much money as possible', 'He knows how to play baseball', 'Is there anything that I should not eat', 'I have no knife to cut with', 'The capital of Brazil is Brasilia']\n",
            "['他 能 赚 多少 就 赚 多少', '他 知道 怎么 玩 棒球', '有 什么 东西 是 我 不该 吃 的 吗', '我 没 有 刀子 可用 来切', '巴西 的 首都 是 巴西利亚']\n"
          ],
          "name": "stdout"
        }
      ]
    },
    {
      "cell_type": "code",
      "metadata": {
        "id": "ZcBIE2pPsyAf",
        "colab_type": "code",
        "colab": {
          "base_uri": "https://localhost:8080/",
          "height": 119
        },
        "outputId": "9a1acad6-a270-423b-9238-b94d41f75811"
      },
      "source": [
        "import numpy as np\n",
        "\n",
        "# prepare english tokenizer\n",
        "eng_tokenizer = create_tokenizer(eng_data)\n",
        "eng_vocab_size = len(eng_tokenizer.word_index) + 1\n",
        "eng_length = max_length(eng_data)\n",
        "print('English Vocabulary Size: %d' % eng_vocab_size)\n",
        "print('English Max Length: %d' % (eng_length))\n",
        "# prepare chinese tokenizer\n",
        "chi_tokenizer = create_tokenizer(chi_data)\n",
        "chi_vocab_size = len(chi_tokenizer.word_index) + 1\n",
        "chi_length = max_length(chi_data)\n",
        "print('Chinese Vocabulary Size: %d' % chi_vocab_size)\n",
        "print('Chinese Max Length: %d' % (chi_length))\n",
        "#print(eng_tokenizer[0])\n",
        "#print(chi_tokenizer[0])\n",
        "\n",
        "eng_data_lengths = [] \n",
        "chi_data_lengths = [] \n",
        "\n",
        "for i in eng_data: \n",
        "      eng_data_lengths.append(len(i.split())) \n",
        "\n",
        "for i in chi_data: \n",
        "      chi_data_lengths.append(len(i.split())) \n",
        "\n",
        "\n",
        "eng_avg_sents = (sum(eng_data_lengths))/(len(eng_data))\n",
        "chi_avg_sents = (sum(chi_data_lengths))/(len(chi_data))\n",
        "\n",
        "print('Average English sentence length: ', eng_avg_sents)\n",
        "print('Average Chinese sentence length: ', chi_avg_sents)"
      ],
      "execution_count": 26,
      "outputs": [
        {
          "output_type": "stream",
          "text": [
            "English Vocabulary Size: 5449\n",
            "English Max Length: 11\n",
            "Chinese Vocabulary Size: 10396\n",
            "Chinese Max Length: 16\n",
            "Average English sentence length:  5.605\n",
            "Average Chinese sentence length:  5.188473684210527\n"
          ],
          "name": "stdout"
        }
      ]
    },
    {
      "cell_type": "code",
      "metadata": {
        "id": "h8wvZdkqLMGw",
        "colab_type": "code",
        "colab": {
          "base_uri": "https://localhost:8080/",
          "height": 390
        },
        "outputId": "08ce7e30-215d-4651-cde3-a11dcf993a9b"
      },
      "source": [
        "#histograms of sentence lengths\n",
        "\n",
        "import pandas as pd\n",
        "import matplotlib.pyplot as plt\n",
        "\n",
        "\n",
        "\n",
        "length_df = pd.DataFrame({'English':eng_data_lengths, 'Chinese':chi_data_lengths}) \n",
        "length_df.hist(bins=30, figsize=(12,6)) \n",
        "plt.show()"
      ],
      "execution_count": 41,
      "outputs": [
        {
          "output_type": "display_data",
          "data": {
            "image/png": "[encoded data removed]",
            "text/plain": [
              "<Figure size 864x432 with 2 Axes>"
            ]
          },
          "metadata": {
            "tags": [],
            "needs_background": "light"
          }
        }
      ]
    },
    {
      "cell_type": "code",
      "metadata": {
        "id": "MLcStSLpTo4H",
        "colab_type": "code",
        "colab": {
          "base_uri": "https://localhost:8080/",
          "height": 275
        },
        "outputId": "fb449499-2fd5-4926-adc6-a089d662f864"
      },
      "source": [
        "#tokens that only appear once\n",
        "eng_single_words = [w for w,c in eng_tokenizer.word_counts.items() if c == 1]\n",
        "chi_single_words = [w for w,c in chi_tokenizer.word_counts.items() if c == 1]\n",
        "\n",
        "eng_frequent_words = [w for w,c in eng_tokenizer.word_counts.items() if c > 100]\n",
        "chi_frequent_words = [w for w,c in chi_tokenizer.word_counts.items() if c > 100]\n",
        "\n",
        "print('English single words: ', len(eng_single_words))\n",
        "print(eng_single_words[:100])\n",
        "print()\n",
        "print('Chinese single words: ', len(chi_single_words))\n",
        "print(chi_single_words[:100])\n",
        "print()\n",
        "print('English frequent words: ', len(eng_frequent_words))\n",
        "print(eng_frequent_words[:100])\n",
        "print()\n",
        "print('Chinese frequent words: ', len(chi_frequent_words))\n",
        "print(chi_frequent_words[:100])\n",
        "print()\n",
        "print('Percent of single words in English vocab: ', (len(eng_single_words)/eng_vocab_size)*100)\n",
        "print('Percent of single words in Chinese vocab: ', (len(chi_single_words)/chi_vocab_size)*100)"
      ],
      "execution_count": 38,
      "outputs": [
        {
          "output_type": "stream",
          "text": [
            "English single words:  2155\n",
            "['brasilia', 'reported', 'acquaintance', 'nara', 'miracles', \"devil's\", 'advocate', 'pleated', 'belt', 'adjoins', 'frequent', 'ridge', 'creature', 'tool', 'eloquent', 'google', 'immigrants', 'tow', 'steak', 'sail', 'bliss', 'fancy', 'pacemaker', 'disagreeing', 'traditions', 'risen', 'opposite', 'tsunami', 'uneasy', 'boats', 'coach', 'selected', 'modifications', 'realized', '1689', 'fares', 'carpentry', 'undercooked', \"cookie's\", 'shuffle', 'damp', 'impulse', 'germanic', 'marrying', 'decides', 'agreeing', 'kilometers', 'prized', 'possession', 'booked', 'globe', 'hoarse', 'nonstop', 'flight', 'respects', 'homeroom', 'disaster', 'sunflower', 'catching', 'scandal', 'picks', 'significance', 'jesus', 'stopping', 'intruded', 'yield', 'flames', 'presents', 'mastercard', '56', 'russell', 'square', 'border', 'plunged', 'record', 'damaged', 'vegetable', 'considerate', 'effect', 'swarm', 'hornets', 'incredibly', 'lemons', 'campfire', \"country's\", 'temperate', 'leads', 'skeleton', 'cave', 'react', 'abilities', 'doggy', 'interfere', 'lunatic', 'abstract', 'shibuya', 'barbershop', 'severely', 'begun', 'confess']\n",
            "\n",
            "Chinese single words:  5770\n",
            "['巴西利亚', '点到', '目击', '奈良', '期盼', '朴素', '辩护士', '百褶裙', '骗过', '紧邻', '着餐', '那该', '经常去', '这棵', '帕', '克里', '奇', '这是给', '产物', '亲无法', '东京站', '不感兴趣', '中肯', '零在', '谷歌', '移民', '阵亡', '拖走', '旷课', '笔财富', '我装', '起搏器', '升高', '事太多', '说出', '睡不着', '睁开眼睛', '绑', '施工', '入住', '水装满', '可行', '海啸', '正经', '清了清', '问个', '夹', '此门', '经病', '刚成', '名校', '旧手', '咱在', '开溜', '喝苹', '图解决', '第三季', '时销售', '病要', '发作', '我同', '共同之处', '走远', '镜', '前练习', '栏杆', '周六将', '非常高兴', '马力', '教练', '1689', '理所当然', '车费将', '涨价', '这里花', '有志', '关联', '忍着', '转角处', '开慢', '过会来', '内会', '橱柜', '支球', '队会赢', '放学后帮助', '木工', '还不够', '正餐', 'cookie', '比赛将', '生了双', '那事用', '这门', '从里面', '反锁', '多坏', '人用', '自一个', '山城']\n",
            "\n",
            "English frequent words:  163\n",
            "['he', 'as', 'much', 'money', 'how', 'to', 'play', 'is', 'there', 'anything', 'that', 'i', 'should', 'not', 'eat', 'have', 'no', 'with', 'the', 'of', 'at', 'are', 'your', 'had', 'you', 'they', 'please', 'give', 'me', 'tom', \"didn't\", 'her', 'will', 'never', 'see', \"i'm\", 'make', 'a', 'very', 'old', 'going', 'next', \"don't\", 'mary', 'did', 'yesterday', 'we', 'just', 'out', 'my', 'father', 'where', 'go', 'do', 'like', 'know', \"you're\", \"i've\", 'been', 'was', 'room', 'our', 'all', 'by', 'him', 'be', 'late', 'this', 'for', \"what's\", \"he's\", 'she', 'in', 'house', 'need', 'it', 'so', 'an', 'up', 'can', 'right', 'now', 'would', 'help', 'why', 'his', \"i'll\", 'any', 'book', 'one', 'man', 'always', 'what', 'lot', 'time', \"can't\", 'get', 'from', 'work', 'more']\n",
            "\n",
            "Chinese frequent words:  125\n",
            "['他', '能', '就', '知道', '怎么', '有', '什么', '东西', '是', '我', '吃', '的', '吗', '没', '了', '你', '多', '希望', '在', '那里', '他们', '汤姆', '没有', '她', '见', '很', '您', '个', '非常', '去', '玛丽', '昨天', '我们', '喜欢', '这个', '给', '要', '告诉', '不', '买', '被', '请', '好', '让', '不要', '这是', '说', '住', '一个', '里', '会', '需要', '来', '做', '事', '人', '它', '等', '着', '都', '现在', '可以', '开始', '不能', '工作', '把', '很多', '书', '为', '钱', '认为', '任何', '那个', '时间', '必须', '应该', '也', '看', '朋友', '帮', '那', '不想', '这里', '时候', '真的', '得', '走', '跟', '正在', '父亲', '到', '想', '对', '问题', '比', '可能', '和', '明天', '你们', '上']\n",
            "\n",
            "Percent of single words in English vocab:  39.54854101670031\n",
            "Percent of single words in Chinese vocab:  55.5021161985379\n"
          ],
          "name": "stdout"
        }
      ]
    },
    {
      "cell_type": "code",
      "metadata": {
        "id": "t8JcA8UbNOCy",
        "colab_type": "code",
        "colab": {
          "base_uri": "https://localhost:8080/",
          "height": 499
        },
        "outputId": "38b532c5-d732-4e5d-d7ac-c67dff5c73b5"
      },
      "source": [
        "#English distribution of word frequencies\n",
        "eng_words_unique = [w for w,c in eng_tokenizer.word_counts.items()]\n",
        "eng_words_counts = [c for w,c in eng_tokenizer.word_counts.items()]\n",
        "df_eng_frequency = pd.DataFrame(zip(eng_words_unique, eng_words_counts), columns=['words', 'frequency'])\n",
        "df_eng_frequency['frequency'].hist(bins=30, figsize=(12,8))\n",
        "plt.yscale('log')\n",
        "plt.title('English Word Frequency Distribution')\n",
        "plt.show()"
      ],
      "execution_count": 29,
      "outputs": [
        {
          "output_type": "display_data",
          "data": {
            "image/png": "[encoded data removed]",
            "text/plain": [
              "<Figure size 864x576 with 1 Axes>"
            ]
          },
          "metadata": {
            "tags": [],
            "needs_background": "light"
          }
        }
      ]
    },
    {
      "cell_type": "code",
      "metadata": {
        "id": "IsduFzcGSzfI",
        "colab_type": "code",
        "colab": {
          "base_uri": "https://localhost:8080/",
          "height": 499
        },
        "outputId": "1c3f0d01-d32b-4da9-9d1f-818684588dbc"
      },
      "source": [
        "#English distribution of word frequencies\n",
        "chi_words_unique = [w for w,c in chi_tokenizer.word_counts.items()]\n",
        "chi_words_counts = [c for w,c in chi_tokenizer.word_counts.items()]\n",
        "df_chi_frequency = pd.DataFrame(zip(chi_words_unique, chi_words_counts), columns=['words', 'frequency'])\n",
        "df_chi_frequency['frequency'].hist(bins=30, figsize=(12,8))\n",
        "plt.yscale('log')\n",
        "plt.title('Chinese Word Frequency Distribution')\n",
        "plt.show()"
      ],
      "execution_count": 30,
      "outputs": [
        {
          "output_type": "display_data",
          "data": {
            "image/png": "[encoded data removed]",
            "text/plain": [
              "<Figure size 864x576 with 1 Axes>"
            ]
          },
          "metadata": {
            "tags": [],
            "needs_background": "light"
          }
        }
      ]
    },
    {
      "cell_type": "markdown",
      "metadata": {
        "id": "4ak9ECmns4w0",
        "colab_type": "text"
      },
      "source": [
        "## Encode and Pad Sequences"
      ]
    },
    {
      "cell_type": "code",
      "metadata": {
        "id": "KF220gsWsyPo",
        "colab_type": "code",
        "colab": {
          "base_uri": "https://localhost:8080/",
          "height": 391
        },
        "outputId": "f5ff79d4-d248-4f1c-8b78-b19452ff82b3"
      },
      "source": [
        "# prepare training data\n",
        "trainX = encode_sequences(chi_tokenizer, chi_length, chi_train)\n",
        "trainY = encode_sequences(eng_tokenizer, eng_length, eng_train)\n",
        "trainY = encode_output(trainY, eng_vocab_size)\n",
        "# prepare validation data\n",
        "testX = encode_sequences(chi_tokenizer, chi_length, chi_test)\n",
        "testY = encode_sequences(eng_tokenizer, eng_length, eng_test)\n",
        "testY = encode_output(testY, eng_vocab_size)\n",
        " \n",
        "print(trainX[0])\n",
        "print(trainY[0])\n",
        "print(testX[0])\n",
        "print(testY[0])\n",
        "print(trainX.shape)\n",
        "print(trainY.shape)\n",
        "print(testX.shape)\n",
        "print(testY.shape)"
      ],
      "execution_count": 31,
      "outputs": [
        {
          "output_type": "stream",
          "text": [
            "[   5   46 1461  133   51 1461  133    0    0    0    0    0    0    0\n",
            "    0    0]\n",
            "[[0. 0. 0. ... 0. 0. 0.]\n",
            " [0. 0. 0. ... 0. 0. 0.]\n",
            " [0. 0. 0. ... 0. 0. 0.]\n",
            " ...\n",
            " [1. 0. 0. ... 0. 0. 0.]\n",
            " [1. 0. 0. ... 0. 0. 0.]\n",
            " [1. 0. 0. ... 0. 0. 0.]]\n",
            "[  32 1219    0    0    0    0    0    0    0    0    0    0    0    0\n",
            "    0    0]\n",
            "[[0. 0. 0. ... 0. 0. 0.]\n",
            " [0. 0. 0. ... 0. 0. 0.]\n",
            " [0. 0. 0. ... 0. 0. 0.]\n",
            " ...\n",
            " [1. 0. 0. ... 0. 0. 0.]\n",
            " [1. 0. 0. ... 0. 0. 0.]\n",
            " [1. 0. 0. ... 0. 0. 0.]]\n",
            "(17000, 16)\n",
            "(17000, 11, 5449)\n",
            "(2000, 16)\n",
            "(2000, 11, 5449)\n"
          ],
          "name": "stdout"
        }
      ]
    },
    {
      "cell_type": "markdown",
      "metadata": {
        "id": "PQtLoxYMtJr1",
        "colab_type": "text"
      },
      "source": [
        "## Define and Train Model"
      ]
    },
    {
      "cell_type": "code",
      "metadata": {
        "id": "6QEwE53KtIW5",
        "colab_type": "code",
        "colab": {
          "base_uri": "https://localhost:8080/",
          "height": 967
        },
        "outputId": "133b2a3a-54e2-40b0-838d-72bb746cf377"
      },
      "source": [
        "# define model\n",
        "model = define_model(chi_vocab_size, eng_vocab_size, chi_length, eng_length, 80)\n",
        "opt = keras.optimizers.Adam(learning_rate=0.003)\n",
        "model.compile(optimizer=opt, loss='categorical_crossentropy', metrics=['accuracy'])\n",
        "# summarize defined model\n",
        "print(model.summary())\n",
        "plot_model(model, to_file='model.png', show_shapes=True)"
      ],
      "execution_count": 32,
      "outputs": [
        {
          "output_type": "stream",
          "text": [
            "Model: \"sequential_1\"\n",
            "_________________________________________________________________\n",
            "Layer (type)                 Output Shape              Param #   \n",
            "=================================================================\n",
            "embedding_1 (Embedding)      (None, 16, 80)            831680    \n",
            "_________________________________________________________________\n",
            "lstm_1 (LSTM)                (None, 80)                51520     \n",
            "_________________________________________________________________\n",
            "dropout_1 (Dropout)          (None, 80)                0         \n",
            "_________________________________________________________________\n",
            "repeat_vector_1 (RepeatVecto (None, 11, 80)            0         \n",
            "_________________________________________________________________\n",
            "AttentionDecoder (AttentionD (None, 11, 5449)          31934650  \n",
            "=================================================================\n",
            "Total params: 32,817,850\n",
            "Trainable params: 32,817,850\n",
            "Non-trainable params: 0\n",
            "_________________________________________________________________\n",
            "None\n"
          ],
          "name": "stdout"
        },
        {
          "output_type": "execute_result",
          "data": {
            "image/png": "[encoded data removed]",
            "text/plain": [
              "<IPython.core.display.Image object>"
            ]
          },
          "metadata": {
            "tags": []
          },
          "execution_count": 32
        }
      ]
    },
    {
      "cell_type": "code",
      "metadata": {
        "id": "H04ctz-gtIeu",
        "colab_type": "code",
        "colab": {
          "base_uri": "https://localhost:8080/",
          "height": 1000
        },
        "outputId": "8d60ff5e-1a62-4111-86cd-5120b7f8fe51"
      },
      "source": [
        "\n",
        "# fit model\n",
        "filename = 'model.h5'\n",
        "checkpoint = ModelCheckpoint(filename, monitor='val_loss', verbose=1, save_best_only=True, mode='min')\n",
        "history = model.fit(trainX, trainY, epochs=30, batch_size=64, validation_data=(testX, testY), callbacks=[checkpoint], verbose=2)"
      ],
      "execution_count": 33,
      "outputs": [
        {
          "output_type": "stream",
          "text": [
            "/usr/local/lib/python3.6/dist-packages/tensorflow/python/framework/indexed_slices.py:434: UserWarning: Converting sparse IndexedSlices to a dense Tensor of unknown shape. This may consume a large amount of memory.\n",
            "  \"Converting sparse IndexedSlices to a dense Tensor of unknown shape. \"\n"
          ],
          "name": "stderr"
        },
        {
          "output_type": "stream",
          "text": [
            "Train on 17000 samples, validate on 2000 samples\n",
            "Epoch 1/30\n",
            " - 40s - loss: 3.6817 - accuracy: 0.5106 - val_loss: 3.1849 - val_accuracy: 0.5288\n",
            "\n",
            "Epoch 00001: val_loss improved from inf to 3.18490, saving model to model.h5\n",
            "Epoch 2/30\n",
            " - 38s - loss: 3.0988 - accuracy: 0.5304 - val_loss: 3.0330 - val_accuracy: 0.5414\n",
            "\n",
            "Epoch 00002: val_loss improved from 3.18490 to 3.03297, saving model to model.h5\n",
            "Epoch 3/30\n",
            " - 39s - loss: 2.9086 - accuracy: 0.5467 - val_loss: 2.8934 - val_accuracy: 0.5592\n",
            "\n",
            "Epoch 00003: val_loss improved from 3.03297 to 2.89339, saving model to model.h5\n",
            "Epoch 4/30\n",
            " - 39s - loss: 2.7288 - accuracy: 0.5636 - val_loss: 2.7791 - val_accuracy: 0.5738\n",
            "\n",
            "Epoch 00004: val_loss improved from 2.89339 to 2.77913, saving model to model.h5\n",
            "Epoch 5/30\n",
            " - 38s - loss: 2.5537 - accuracy: 0.5778 - val_loss: 2.6712 - val_accuracy: 0.5829\n",
            "\n",
            "Epoch 00005: val_loss improved from 2.77913 to 2.67120, saving model to model.h5\n",
            "Epoch 6/30\n",
            " - 38s - loss: 2.3991 - accuracy: 0.5880 - val_loss: 2.5706 - val_accuracy: 0.5933\n",
            "\n",
            "Epoch 00006: val_loss improved from 2.67120 to 2.57063, saving model to model.h5\n",
            "Epoch 7/30\n",
            " - 39s - loss: 2.2609 - accuracy: 0.5974 - val_loss: 2.4924 - val_accuracy: 0.5995\n",
            "\n",
            "Epoch 00007: val_loss improved from 2.57063 to 2.49242, saving model to model.h5\n",
            "Epoch 8/30\n",
            " - 39s - loss: 2.1376 - accuracy: 0.6051 - val_loss: 2.4301 - val_accuracy: 0.6039\n",
            "\n",
            "Epoch 00008: val_loss improved from 2.49242 to 2.43008, saving model to model.h5\n",
            "Epoch 9/30\n",
            " - 41s - loss: 2.0315 - accuracy: 0.6113 - val_loss: 2.3830 - val_accuracy: 0.6089\n",
            "\n",
            "Epoch 00009: val_loss improved from 2.43008 to 2.38300, saving model to model.h5\n",
            "Epoch 10/30\n",
            " - 39s - loss: 1.9371 - accuracy: 0.6191 - val_loss: 2.3495 - val_accuracy: 0.6107\n",
            "\n",
            "Epoch 00010: val_loss improved from 2.38300 to 2.34954, saving model to model.h5\n",
            "Epoch 11/30\n",
            " - 39s - loss: 1.8520 - accuracy: 0.6251 - val_loss: 2.3184 - val_accuracy: 0.6155\n",
            "\n",
            "Epoch 00011: val_loss improved from 2.34954 to 2.31845, saving model to model.h5\n",
            "Epoch 12/30\n",
            " - 39s - loss: 1.7843 - accuracy: 0.6307 - val_loss: 2.2948 - val_accuracy: 0.6203\n",
            "\n",
            "Epoch 00012: val_loss improved from 2.31845 to 2.29485, saving model to model.h5\n",
            "Epoch 13/30\n",
            " - 39s - loss: 1.7168 - accuracy: 0.6377 - val_loss: 2.2831 - val_accuracy: 0.6187\n",
            "\n",
            "Epoch 00013: val_loss improved from 2.29485 to 2.28313, saving model to model.h5\n",
            "Epoch 14/30\n",
            " - 39s - loss: 1.6633 - accuracy: 0.6427 - val_loss: 2.2625 - val_accuracy: 0.6240\n",
            "\n",
            "Epoch 00014: val_loss improved from 2.28313 to 2.26251, saving model to model.h5\n",
            "Epoch 15/30\n",
            " - 39s - loss: 1.6068 - accuracy: 0.6487 - val_loss: 2.2570 - val_accuracy: 0.6237\n",
            "\n",
            "Epoch 00015: val_loss improved from 2.26251 to 2.25698, saving model to model.h5\n",
            "Epoch 16/30\n",
            " - 38s - loss: 1.5640 - accuracy: 0.6540 - val_loss: 2.2355 - val_accuracy: 0.6230\n",
            "\n",
            "Epoch 00016: val_loss improved from 2.25698 to 2.23552, saving model to model.h5\n",
            "Epoch 17/30\n",
            " - 39s - loss: 1.5185 - accuracy: 0.6600 - val_loss: 2.2250 - val_accuracy: 0.6271\n",
            "\n",
            "Epoch 00017: val_loss improved from 2.23552 to 2.22502, saving model to model.h5\n",
            "Epoch 18/30\n",
            " - 38s - loss: 1.4842 - accuracy: 0.6643 - val_loss: 2.2166 - val_accuracy: 0.6285\n",
            "\n",
            "Epoch 00018: val_loss improved from 2.22502 to 2.21661, saving model to model.h5\n",
            "Epoch 19/30\n",
            " - 38s - loss: 1.4466 - accuracy: 0.6701 - val_loss: 2.2142 - val_accuracy: 0.6320\n",
            "\n",
            "Epoch 00019: val_loss improved from 2.21661 to 2.21418, saving model to model.h5\n",
            "Epoch 20/30\n",
            " - 38s - loss: 1.4133 - accuracy: 0.6743 - val_loss: 2.2130 - val_accuracy: 0.6322\n",
            "\n",
            "Epoch 00020: val_loss improved from 2.21418 to 2.21302, saving model to model.h5\n",
            "Epoch 21/30\n",
            " - 38s - loss: 1.3748 - accuracy: 0.6803 - val_loss: 2.2071 - val_accuracy: 0.6328\n",
            "\n",
            "Epoch 00021: val_loss improved from 2.21302 to 2.20713, saving model to model.h5\n",
            "Epoch 22/30\n",
            " - 38s - loss: 1.3530 - accuracy: 0.6840 - val_loss: 2.2091 - val_accuracy: 0.6341\n",
            "\n",
            "Epoch 00022: val_loss did not improve from 2.20713\n",
            "Epoch 23/30\n",
            " - 39s - loss: 1.3211 - accuracy: 0.6891 - val_loss: 2.2060 - val_accuracy: 0.6324\n",
            "\n",
            "Epoch 00023: val_loss improved from 2.20713 to 2.20601, saving model to model.h5\n",
            "Epoch 24/30\n",
            " - 38s - loss: 1.3001 - accuracy: 0.6934 - val_loss: 2.2067 - val_accuracy: 0.6317\n",
            "\n",
            "Epoch 00024: val_loss did not improve from 2.20601\n",
            "Epoch 25/30\n",
            " - 38s - loss: 1.2732 - accuracy: 0.6980 - val_loss: 2.2158 - val_accuracy: 0.6344\n",
            "\n",
            "Epoch 00025: val_loss did not improve from 2.20601\n",
            "Epoch 26/30\n",
            " - 38s - loss: 1.2474 - accuracy: 0.7016 - val_loss: 2.2163 - val_accuracy: 0.6373\n",
            "\n",
            "Epoch 00026: val_loss did not improve from 2.20601\n",
            "Epoch 27/30\n",
            " - 38s - loss: 1.2326 - accuracy: 0.7036 - val_loss: 2.2165 - val_accuracy: 0.6351\n",
            "\n",
            "Epoch 00027: val_loss did not improve from 2.20601\n",
            "Epoch 28/30\n",
            " - 38s - loss: 1.2103 - accuracy: 0.7080 - val_loss: 2.2156 - val_accuracy: 0.6355\n",
            "\n",
            "Epoch 00028: val_loss did not improve from 2.20601\n",
            "Epoch 29/30\n",
            " - 38s - loss: 1.1973 - accuracy: 0.7105 - val_loss: 2.2041 - val_accuracy: 0.6386\n",
            "\n",
            "Epoch 00029: val_loss improved from 2.20601 to 2.20406, saving model to model.h5\n",
            "Epoch 30/30\n",
            " - 38s - loss: 1.1719 - accuracy: 0.7154 - val_loss: 2.2180 - val_accuracy: 0.6372\n",
            "\n",
            "Epoch 00030: val_loss did not improve from 2.20406\n"
          ],
          "name": "stdout"
        }
      ]
    },
    {
      "cell_type": "code",
      "metadata": {
        "id": "dqZAz7vQV4xU",
        "colab_type": "code",
        "colab": {
          "base_uri": "https://localhost:8080/",
          "height": 483
        },
        "outputId": "3d05f7bd-84dc-4d3c-92c1-6d8a5aff3295"
      },
      "source": [
        "#plot of model training\n",
        "\n",
        "import matplotlib.pyplot as plt\n",
        "\n",
        "plt.figure(figsize=(12,8))\n",
        "plt.plot(history.history['loss']) \n",
        "plt.plot(history.history['val_loss']) \n",
        "plt.legend(['train','validation']) \n",
        "plt.show()"
      ],
      "execution_count": 34,
      "outputs": [
        {
          "output_type": "display_data",
          "data": {
            "image/png": "[encoded data removed]",
            "text/plain": [
              "<Figure size 864x576 with 1 Axes>"
            ]
          },
          "metadata": {
            "tags": [],
            "needs_background": "light"
          }
        }
      ]
    },
    {
      "cell_type": "markdown",
      "metadata": {
        "id": "3Lo7zZ1gtWLD",
        "colab_type": "text"
      },
      "source": [
        "## Functions for Model Evaluation"
      ]
    },
    {
      "cell_type": "code",
      "metadata": {
        "id": "dypYXFair-nI",
        "colab_type": "code",
        "colab": {
          "base_uri": "https://localhost:8080/",
          "height": 34
        },
        "outputId": "8d6d85b5-ff91-4ee6-ff76-662f376344b5"
      },
      "source": [
        "\n",
        "from pickle import load\n",
        "from numpy import array\n",
        "from numpy import argmax\n",
        "from keras.preprocessing.text import Tokenizer\n",
        "from keras.preprocessing.sequence import pad_sequences\n",
        "from keras.models import load_model\n",
        "from nltk.translate.bleu_score import corpus_bleu\n",
        " \n",
        "# load a clean dataset\n",
        "def load_clean_sentences(filename):\n",
        "\treturn load(open(filename, 'rb'))\n",
        " \n",
        "# fit a tokenizer\n",
        "def create_tokenizer(lines):\n",
        "\ttokenizer = Tokenizer()\n",
        "\ttokenizer.fit_on_texts(lines)\n",
        "\treturn tokenizer\n",
        " \n",
        "# max sentence length\n",
        "def max_length(lines):\n",
        "\treturn max(len(line.split()) for line in lines)\n",
        " \n",
        "# encode and pad sequences\n",
        "def encode_sequences(tokenizer, length, lines):\n",
        "\t# integer encode sequences\n",
        "\tX = tokenizer.texts_to_sequences(lines)\n",
        "\t# pad sequences with 0 values\n",
        "\tX = pad_sequences(X, maxlen=length, padding='post')\n",
        "\treturn X\n",
        " \n",
        "# map an integer to a word\n",
        "def word_for_id(integer, tokenizer):\n",
        "\tfor word, index in tokenizer.word_index.items():\n",
        "\t\tif index == integer:\n",
        "\t\t\treturn word\n",
        "\treturn None\n",
        " \n",
        "# generate target given source sequence\n",
        "def predict_sequence(model, tokenizer, source):\n",
        "\tprediction = model.predict(source, verbose=0)[0]\n",
        "\tintegers = [argmax(vector) for vector in prediction]\n",
        "\ttarget = list()\n",
        "\tfor i in integers:\n",
        "\t\tword = word_for_id(i, tokenizer)\n",
        "\t\tif word is None:\n",
        "\t\t\tbreak\n",
        "\t\ttarget.append(word)\n",
        "\treturn ' '.join(target)\n",
        " \n",
        "# evaluate the skill of the model\n",
        "def evaluate_model(model, tokenizer, sources, raw_dataset):\n",
        "\tactual, predicted = list(), list()\n",
        "\tfor i, source in enumerate(sources):\n",
        "\t\t# translate encoded source text\n",
        "\t\tsource = source.reshape((1, source.shape[0]))\n",
        "\t\ttranslation = predict_sequence(model, eng_tokenizer, source)\n",
        "\t\traw_target, raw_src = raw_dataset[i]\n",
        "\t\tif i < 10:\n",
        "\t\t\tprint('src=[%s], target=[%s], predicted=[%s]' % (raw_src, raw_target, translation))\n",
        "\t\tactual.append([raw_target.split()])\n",
        "\t\tpredicted.append(translation.split())\n",
        "\t# calculate BLEU score\n",
        "\tprint('BLEU-1: %f' % corpus_bleu(actual, predicted, weights=(1.0, 0, 0, 0)))\n",
        "\tprint('BLEU-2: %f' % corpus_bleu(actual, predicted, weights=(0.5, 0.5, 0, 0)))\n",
        "\tprint('BLEU-3: %f' % corpus_bleu(actual, predicted, weights=(0.3, 0.3, 0.3, 0)))\n",
        "\tprint('BLEU-4: %f' % corpus_bleu(actual, predicted, weights=(0.25, 0.25, 0.25, 0.25)))\n",
        "print('done')"
      ],
      "execution_count": 35,
      "outputs": [
        {
          "output_type": "stream",
          "text": [
            "done\n"
          ],
          "name": "stdout"
        }
      ]
    },
    {
      "cell_type": "code",
      "metadata": {
        "id": "IqXacDWavvun",
        "colab_type": "code",
        "colab": {
          "base_uri": "https://localhost:8080/",
          "height": 102
        },
        "outputId": "cebd9665-2efa-49d5-8789-2cae9283538b"
      },
      "source": [
        " \n",
        "# load datasets\n",
        "dataset = load_clean_sentences('english-chinese-both.pkl')\n",
        "train = load_clean_sentences('english-chinese-train.pkl')\n",
        "test = load_clean_sentences('english-chinese-test.pkl')\n",
        "\n",
        "eng_data = [i[0] for i in dataset]\n",
        "chi_data = [i[1] for i in dataset]\n",
        "eng_train = [i[0] for i in train]\n",
        "chi_train = [i[1] for i in train]\n",
        "eng_test = [i[0] for i in test]\n",
        "chi_test = [i[1] for i in test]\n",
        "\n",
        "# prepare english tokenizer\n",
        "eng_tokenizer = create_tokenizer(eng_data)\n",
        "eng_vocab_size = len(eng_tokenizer.word_index) + 1\n",
        "eng_length = max_length(eng_data)\n",
        "# prepare chinese tokenizer\n",
        "chi_tokenizer = create_tokenizer(chi_data)\n",
        "chi_vocab_size = len(chi_tokenizer.word_index) + 1\n",
        "chi_length = max_length(chi_data)\n",
        "# prepare data\n",
        "trainX = encode_sequences(chi_tokenizer, chi_length, chi_train)\n",
        "testX = encode_sequences(chi_tokenizer, chi_length, chi_test)\n",
        " \n",
        "print(dataset[0])\n",
        "print(train[0])\n",
        "print(chi_train[1])\n",
        "print(trainX[0])"
      ],
      "execution_count": 36,
      "outputs": [
        {
          "output_type": "stream",
          "text": [
            "['He earned as much money as possible', '他 能 赚 多少 就 赚 多少']\n",
            "['He earned as much money as possible', '他 能 赚 多少 就 赚 多少']\n",
            "他 知道 怎么 玩 棒球\n",
            "[   5   46 1461  133   51 1461  133    0    0    0    0    0    0    0\n",
            "    0    0]\n"
          ],
          "name": "stdout"
        }
      ]
    },
    {
      "cell_type": "markdown",
      "metadata": {
        "id": "8AryuvNlteFs",
        "colab_type": "text"
      },
      "source": [
        "## Model Evaluation with BLEU Scoring"
      ]
    },
    {
      "cell_type": "code",
      "metadata": {
        "id": "tAysf1pfvwE_",
        "colab_type": "code",
        "colab": {
          "base_uri": "https://localhost:8080/",
          "height": 581
        },
        "outputId": "df837953-2b0b-49fd-ae9e-1c868d7727f1"
      },
      "source": [
        "from attention_decoder import AttentionDecoder\n",
        "\n",
        "from keras.utils import CustomObjectScope\n",
        "with CustomObjectScope({'AttentionDecoder': AttentionDecoder}):\n",
        "    model = load_model('model.h5')\n",
        "\n",
        "# load model\n",
        "#model = load_model('model.h5')\n",
        "# test on some training sequences\n",
        "print('train')\n",
        "evaluate_model(model, eng_tokenizer, trainX, [i[:2] for i in train]) \n",
        "# test on some test sequences\n",
        "print('test')\n",
        "evaluate_model(model, eng_tokenizer, testX, [i[:2] for i in test])"
      ],
      "execution_count": 37,
      "outputs": [
        {
          "output_type": "stream",
          "text": [
            "/usr/local/lib/python3.6/dist-packages/tensorflow/python/framework/indexed_slices.py:434: UserWarning: Converting sparse IndexedSlices to a dense Tensor of unknown shape. This may consume a large amount of memory.\n",
            "  \"Converting sparse IndexedSlices to a dense Tensor of unknown shape. \"\n"
          ],
          "name": "stderr"
        },
        {
          "output_type": "stream",
          "text": [
            "train\n",
            "src=[他 能 赚 多少 就 赚 多少], target=[He earned as much money as possible], predicted=[he earned as fast as as]\n",
            "src=[他 知道 怎么 玩 棒球], target=[He knows how to play baseball], predicted=[he knows how to play baseball]\n",
            "src=[有 什么 东西 是 我 不该 吃 的 吗], target=[Is there anything that I should not eat], predicted=[is it anything i can do]\n",
            "src=[我 没 有 刀子 可用 来切], target=[I have no knife to cut with], predicted=[i have no knife with cut]\n",
            "src=[巴西 的 首都 是 巴西利亚], target=[The capital of Brazil is Brasilia], predicted=[the capital of brazil is brasilia]\n",
            "src=[他 7 点到 了 火车站], target=[He arrived at the station at seven], predicted=[he arrived at the station at seven]\n",
            "src=[你 的 父母 有 多 高], target=[How tall are your parents], predicted=[how tall is your parents]\n",
            "src=[我 曾 希望 在 那里 遇见 你], target=[I had hoped to meet you there], predicted=[i have hoped to there there there]\n",
            "src=[他们 报告 目击 了 事故], target=[They reported seeing the incident], predicted=[they reported the the incident]\n",
            "src=[请给 我 菜 单], target=[Please give me the menu], predicted=[please show me the menu]\n",
            "BLEU-1: 0.545090\n",
            "BLEU-2: 0.431944\n",
            "BLEU-3: 0.380271\n",
            "BLEU-4: 0.270600\n",
            "test\n",
            "src=[请 敲门], target=[Please knock on the door], predicted=[please come the door please]\n",
            "src=[我 想 跟 你 老板 谈], target=[I want to talk to your boss], predicted=[i want to talk with your boss]\n",
            "src=[那本书 很 旧], target=[That book is very old], predicted=[that house is small]\n",
            "src=[我 被 蚊子 叮 了], target=[I was bitten by a mosquito], predicted=[i was drowned annoyed]\n",
            "src=[汤姆 是 这个 班级 里 唯一 的 男生], target=[Tom is the only guy in this class], predicted=[tom is only guy guy in class class]\n",
            "src=[这架 飞机 完美 的 着陆 了], target=[The plane made a perfect landing], predicted=[the airplane made become a landing]\n",
            "src=[玛丽 很 高], target=[Mary is tall], predicted=[tom is very tall]\n",
            "src=[我 可能 犯 了 个 错], target=[I might make a mistake], predicted=[i can make a mistake mistake]\n",
            "src=[除了 英文  他 还说 德文], target=[In addition to English he speaks German], predicted=[the is is mention in in]\n",
            "src=[这辆 自行车 需要 修理], target=[This bike needs to be repaired], predicted=[this car needs to]\n",
            "BLEU-1: 0.293436\n",
            "BLEU-2: 0.175133\n",
            "BLEU-3: 0.131421\n",
            "BLEU-4: 0.064011\n"
          ],
          "name": "stdout"
        }
      ]
    },
    {
      "cell_type": "code",
      "metadata": {
        "id": "tqGvdxfT1BNK",
        "colab_type": "code",
        "colab": {}
      },
      "source": [
        "#notes\n",
        "\n",
        "# best score BLEU-1: 0.35, model nodes = 500, also nodes=1500, 10000 samples\n",
        "\n",
        "#best accuracy: attention decoder, 64 neurons, 0.2 dropout, bleu-1 .37\n",
        "\n",
        "#attention decoder, 50 neurons, 0.3 dropout, bleu-1 .365\n",
        "\n",
        "#attention decoder, 32 neurons, 0.3 dropout, bleu-1 .3988\n",
        "\n",
        "#50 neurons, epochs=30, lr=0.003, dropout=0.4, 18000 sents, train bleu-1=.45, test bleu-1=.249 (could train further)\n",
        "\n",
        "#60 neurons, epochs=30, lr=0.003, dropout=0.4, 18000 sents, train bleu-1=.484, test bleu-1=.265 (stops training at 25, 66%training accuracy)\n",
        "\n",
        "#70 neurons, epochs=30, lr=0.003, dropout=0.4, 18000 sents, train bleu-1=.514, test bleu-1=.272 (stops training at 25, 66%training accuracy)\n",
        "\n",
        "#80 neurons, epochs=30, lr=0.003, dropout=0.5, 18000 sents, train bleu-1=.545, test bleu-1=.293 (could train further, 69.5%training accuracy)\n",
        "\n",
        "#90 neurons, epochs=30, lr = 0.003, dropout=0.5, 18000 sents, train bleu-1=0.505, test=0.285\n",
        "\n",
        "#90 neurons, epochs=45, lr = adaptive, dropout=0.6, 18000 sents, train bleu-1=0.404, test=0.243 (can train more)\n",
        "\n"
      ],
      "execution_count": null,
      "outputs": []
    }
  ]
}