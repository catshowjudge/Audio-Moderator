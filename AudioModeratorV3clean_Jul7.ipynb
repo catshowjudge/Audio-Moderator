{
  "nbformat": 4,
  "nbformat_minor": 0,
  "metadata": {
    "colab": {
      "name": "AudioModeratorV3clean_Jul7.ipynb",
      "provenance": [],
      "collapsed_sections": [],
      "toc_visible": true,
      "authorship_tag": "ABX9TyP/aOYyUKmNb6Jjvqcy74xe"
    },
    "kernelspec": {
      "name": "python3",
      "display_name": "Python 3"
    },
    "accelerator": "GPU"
  },
  "cells": [
    {
      "cell_type": "markdown",
      "metadata": {
        "id": "f0NEkxfRaqua",
        "colab_type": "text"
      },
      "source": [
        "# Audio Moderator V.3"
      ]
    },
    {
      "cell_type": "markdown",
      "metadata": {
        "id": "c7SNis6aty3x",
        "colab_type": "text"
      },
      "source": [
        "Anyone who has ever traveled to a place where their native language isn't spoken, or who has ever tried to learn a foreign language, has inevitably come across Machine Translation applications. Besides travel and education, translation is essential in business localization efforts, as well as in content moderation on social media platforms. It's straightforward to use a translation platform like Google Translate to inspect text comments and messages. But if a user posts video or audio content, this can be more difficult to monitor. This project aims to translate Chinese audio to English text to assist in content moderation and foreign language audio/video sharing. The first part (and bulk) of the project consists of the language translation model,and the second part includes a speech to translation pipeline using the model to produce the translations. This version so far includes the seq2seq machine translation model with Attention."
      ]
    },
    {
      "cell_type": "markdown",
      "metadata": {
        "id": "BpTVae3YbnIT",
        "colab_type": "text"
      },
      "source": [
        "## Set-up"
      ]
    },
    {
      "cell_type": "markdown",
      "metadata": {
        "id": "ZOpUKOB25vET",
        "colab_type": "text"
      },
      "source": [
        "In addition to standard imports, parsing Chinese requires a conversion function to change all characters to either simplified or traditional script, as well as a parsing function to break character strings at word boundaries. Chinese text is written without spaces, so without splitting into individual characters (unigrams), or at word boundaries (one or more character strings), each sentence would be counted as unique during tokenization.\n",
        "\n",
        "I use Keras with TensorFlow backend to build the model, as well as a custom Attention decoder layer from modified slightly from Zafarali Ahmed's [Keras Attention](https://github.com/datalogue/keras-attention). The modification is a [_time_distributed_dense](https://github.com/datalogue/keras-attention/issues/15) function added to the layer code since this was deprecated in the latest version of Keras."
      ]
    },
    {
      "cell_type": "code",
      "metadata": {
        "id": "TjOTFZM2t1XR",
        "colab_type": "code",
        "colab": {
          "base_uri": "https://localhost:8080/",
          "height": 68
        },
        "outputId": "8a5e9a22-e356-4950-fc14-f246f5fd5c1e"
      },
      "source": [
        "#imports\n",
        "\n",
        "#general\n",
        "import pandas as pd\n",
        "import numpy as np\n",
        "from numpy import array\n",
        "from numpy import argmax\n",
        "from numpy.random import rand\n",
        "from numpy.random import shuffle\n",
        "from pickle import load\n",
        "from pickle import dump\n",
        "\n",
        "#text cleaning\n",
        "import string\n",
        "import re\n",
        "from unicodedata import normalize\n",
        "import jieba #cut Chinese at word boundaries\n",
        "!pip install chinese-converter # Reinstall on new Colab notebooks\n",
        "import chinese_converter #convert to simplified or traditional characters\n",
        "\n",
        "#plotting and style\n",
        "import matplotlib.pyplot as plt\n",
        "plt.style.use('ggplot')\n",
        "import warnings\n",
        "warnings.simplefilter('ignore')\n",
        "\n",
        "#deep learning\n",
        "import keras\n",
        "from keras.preprocessing.text import Tokenizer\n",
        "from keras.preprocessing.sequence import pad_sequences\n",
        "from keras.utils import to_categorical\n",
        "from keras.utils.vis_utils import plot_model\n",
        "from keras.models import Sequential\n",
        "from keras.layers import LSTM\n",
        "from keras.layers import Dense\n",
        "from keras.layers import Embedding\n",
        "from keras.layers import RepeatVector\n",
        "from keras.layers import TimeDistributed\n",
        "from keras.callbacks import ModelCheckpoint\n",
        "from keras.layers import Dropout, GlobalMaxPooling1D, SpatialDropout1D\n",
        "from attention_decoder import AttentionDecoder\n",
        "from keras.models import load_model\n",
        "from keras.utils import CustomObjectScope\n",
        "\n",
        "#scoring\n",
        "from nltk.translate.bleu_score import corpus_bleu\n",
        "\n",
        "print('Done!')"
      ],
      "execution_count": 1,
      "outputs": [
        {
          "output_type": "stream",
          "text": [
            "Requirement already satisfied: chinese-converter in /usr/local/lib/python3.6/dist-packages (1.0.2)\n"
          ],
          "name": "stdout"
        },
        {
          "output_type": "stream",
          "text": [
            "Using TensorFlow backend.\n"
          ],
          "name": "stderr"
        },
        {
          "output_type": "stream",
          "text": [
            "Done!\n"
          ],
          "name": "stdout"
        }
      ]
    },
    {
      "cell_type": "markdown",
      "metadata": {
        "id": "yEmGRTq6brLi",
        "colab_type": "text"
      },
      "source": [
        "## Cleaning and Saving the Data"
      ]
    },
    {
      "cell_type": "markdown",
      "metadata": {
        "id": "wE_OVqJNzMff",
        "colab_type": "text"
      },
      "source": [
        "### Functions for Loading, Cleaning, and Saving"
      ]
    },
    {
      "cell_type": "markdown",
      "metadata": {
        "id": "rQaPbjo3De4d",
        "colab_type": "text"
      },
      "source": [
        "The comes from the [Tatoeba Project](https://tatoeba.org/eng) bilingual sentence pairs, available [here](http://www.manythings.org/anki/). The 22,075\n",
        "sentence pairs in the Chinese-English set have mostly short, but varied lengths, and little to no specialist vocabulary. The data comes in a tab-delineated .txt format consisting of three parts: and English sentence, the equivalent sentence written in simplified or traditional Chinese, and an attribution to the human translator on the project website. An example looks like the following:\n",
        "\n",
        "“Show me an example.   给我个例子。   CC-BY 2.0 (France) Attribution: tatoeba.org #395402 (CK) & #490074 (fucongcong)”\n",
        "\n",
        "Chinese and English are cleaned separately in the cleaning function. For the English sentence cleaning, I used string methods to lowercase all words and removed punctuation with regular expressions. For the Chinese, I used [Jieba](https://github.com/fxsjy/jieba) to split the data at word boundaries. This enables us to tokenize Chinese as we would for languages written with alphabets. I also cleaned out Chinese punctuation using regular expressions, and removed the attribution section.\n",
        "\n",
        "Stemming, lemmatization, and stop word removal were not performed, since ideally we would like the model to learn verb tense, plurals, correct article usage, and other features that contribute to making the translation seem as human as possible. In a situation with more training time and RAM, we might choose to leave in features such as punctuation and capitalization too, since the model would also learn these.\n"
      ]
    },
    {
      "cell_type": "code",
      "metadata": {
        "id": "Vf8oTlUJznx5",
        "colab_type": "code",
        "colab": {
          "base_uri": "https://localhost:8080/",
          "height": 34
        },
        "outputId": "725be5c1-360e-4702-b02b-8df0d2dd75a7"
      },
      "source": [
        "# load doc into memory\n",
        "def load_doc(filename):\n",
        "\t# open the file as read only\n",
        "\tfile = open(filename, mode='rt', encoding='utf-8')\n",
        "\t# read all text\n",
        "\ttext = file.read()\n",
        "\t# close the file\n",
        "\tfile.close()\n",
        "\treturn text\n",
        " \n",
        "# split a loaded document into sentences\n",
        "def to_pairs(doc):\n",
        "\tlines = doc.strip().split('\\n')\n",
        "\tpairs = [line.split('\\t') for line in  lines]\n",
        "\treturn pairs\n",
        "\n",
        "#clean a list of lines\n",
        "def clean_pairs(lines):\n",
        "  english = []\n",
        "  chinese = []\n",
        "  for pair in lines:\n",
        "    eng = pair[0].lower()\n",
        "    eng1 = re.sub(r'[.,?!]', '', eng)\n",
        "    chi = chinese_converter.to_simplified(pair[1])\n",
        "    chi1 = jieba.cut(chi, cut_all=False)\n",
        "    chi2 = ' '.join (chi1)\n",
        "    chi2 = re.sub(r'[^\\w\\s]', '', chi2)\n",
        "    chi2 = chi2.rstrip()\n",
        "    english.append(eng1)\n",
        "    chinese.append(chi2)\n",
        "  return english, chinese\n",
        "\n",
        "# load a clean dataset\n",
        "def load_clean_sentences(filename):\n",
        "\treturn load(open(filename, 'rb'))\n",
        "  \n",
        "# save a list of clean sentences to file\n",
        "def save_clean_data(sentences, filename):\n",
        "\tdump(sentences, open(filename, 'wb'))\n",
        "\tprint('Saved: %s' % filename)\n",
        " \n",
        "print('Done!')"
      ],
      "execution_count": 3,
      "outputs": [
        {
          "output_type": "stream",
          "text": [
            "Done!\n"
          ],
          "name": "stdout"
        }
      ]
    },
    {
      "cell_type": "markdown",
      "metadata": {
        "id": "iSFMJpljz2Ud",
        "colab_type": "text"
      },
      "source": [
        "### Loading and Cleaning the Raw Data"
      ]
    },
    {
      "cell_type": "markdown",
      "metadata": {
        "id": "IUfSL_-LHSv7",
        "colab_type": "text"
      },
      "source": [
        "We can see that the original sentences have punctuation and an attribution statement. The cleaned data removes this and separates the Chinese by words."
      ]
    },
    {
      "cell_type": "code",
      "metadata": {
        "id": "4oMIhbJWt2jO",
        "colab_type": "code",
        "colab": {
          "base_uri": "https://localhost:8080/",
          "height": 173
        },
        "outputId": "cbaed3e7-8e61-4608-f7e0-b5c57930294c"
      },
      "source": [
        "# load dataset\n",
        "filename = 'cmn.txt'\n",
        "doc = load_doc(filename)\n",
        "# split into english-chinese pairs\n",
        "pairs = to_pairs(doc)\n",
        "# clean sentences\n",
        "eng_clean_pairs, chi_clean_pairs = clean_pairs(pairs)\n",
        "print()\n",
        "print('Original sentence example: ', pairs[0])\n",
        "print('Cleaned English example: ', eng_clean_pairs[10])\n",
        "print('Cleaned Chinese example: ', chi_clean_pairs[100])"
      ],
      "execution_count": 4,
      "outputs": [
        {
          "output_type": "stream",
          "text": [
            "Building prefix dict from the default dictionary ...\n",
            "Loading model from cache /tmp/jieba.cache\n",
            "Loading model cost 0.602 seconds.\n",
            "Prefix dict has been built successfully.\n"
          ],
          "name": "stderr"
        },
        {
          "output_type": "stream",
          "text": [
            "\n",
            "Original sentence example:  ['Hi.', '嗨。', 'CC-BY 2.0 (France) Attribution: tatoeba.org #538123 (CM) & #891077 (Martha)']\n",
            "Cleaned English example:  got it\n",
            "Cleaned Chinese example:  我 迷失 了\n"
          ],
          "name": "stdout"
        }
      ]
    },
    {
      "cell_type": "code",
      "metadata": {
        "id": "J6eFaxARJEFy",
        "colab_type": "code",
        "colab": {
          "base_uri": "https://localhost:8080/",
          "height": 357
        },
        "outputId": "9bac3071-2eba-4e34-c674-19bc8756cffd"
      },
      "source": [
        "clean_pairs = [[i, j] for i, j in zip(eng_clean_pairs,chi_clean_pairs)]\n",
        "\n",
        "# spot check\n",
        "for i in range(20):\n",
        "\tprint('[%s] => [%s]' % (clean_pairs[i][0], clean_pairs[i][1]))"
      ],
      "execution_count": 5,
      "outputs": [
        {
          "output_type": "stream",
          "text": [
            "[hi] => [嗨]\n",
            "[hi] => [你好]\n",
            "[run] => [你 用 跑 的]\n",
            "[wait] => [等等]\n",
            "[wait] => [等 一下]\n",
            "[hello] => [你好]\n",
            "[i try] => [让 我 来]\n",
            "[i won] => [我 赢 了]\n",
            "[oh no] => [不会 吧]\n",
            "[cheers] => [干杯]\n",
            "[got it] => [你 懂 了 吗]\n",
            "[he ran] => [他 跑 了]\n",
            "[hop in] => [跳进来]\n",
            "[i quit] => [我 退出]\n",
            "[i'm ok] => [我 没事]\n",
            "[listen] => [听 着]\n",
            "[no way] => [不 可能]\n",
            "[no way] => [没门]\n",
            "[really] => [你 确定]\n",
            "[try it] => [试试 吧]\n"
          ],
          "name": "stdout"
        }
      ]
    },
    {
      "cell_type": "markdown",
      "metadata": {
        "id": "i2sw2DNH0Q0P",
        "colab_type": "text"
      },
      "source": [
        "### Save Cleaned Text"
      ]
    },
    {
      "cell_type": "markdown",
      "metadata": {
        "id": "AN6vk6FdHkOm",
        "colab_type": "text"
      },
      "source": [
        "We save the data for later use in the clean state."
      ]
    },
    {
      "cell_type": "code",
      "metadata": {
        "id": "uYlnSolMTCMu",
        "colab_type": "code",
        "colab": {
          "base_uri": "https://localhost:8080/",
          "height": 34
        },
        "outputId": "9700e06a-ae79-4d11-b7c8-51b20aafcf47"
      },
      "source": [
        "# save clean pairs to file\n",
        "save_clean_data(clean_pairs, 'english-chinese.pkl')"
      ],
      "execution_count": 6,
      "outputs": [
        {
          "output_type": "stream",
          "text": [
            "Saved: english-chinese.pkl\n"
          ],
          "name": "stdout"
        }
      ]
    },
    {
      "cell_type": "markdown",
      "metadata": {
        "id": "gICoHUE_cIm-",
        "colab_type": "text"
      },
      "source": [
        "### Save Train and Test Sets"
      ]
    },
    {
      "cell_type": "markdown",
      "metadata": {
        "id": "RBUuJZWcHqEX",
        "colab_type": "text"
      },
      "source": [
        "Here I split the data into training and testing sets. The full dataset is not utilized due to RAM runtime restrictions in Google Colab. However, I use the maximum number possible. The data is split 87.5% for training and 12.5% for testing. The skew towards the training data is an effort to expose the model to as much vocabulary as possible during the training and reduce the amount of unseen vocabulary in the testing."
      ]
    },
    {
      "cell_type": "code",
      "metadata": {
        "id": "kk9Wkbv2xkSK",
        "colab_type": "code",
        "colab": {
          "base_uri": "https://localhost:8080/",
          "height": 153
        },
        "outputId": "ec4cd697-2403-454a-827c-344f1d620c9f"
      },
      "source": [
        "# load dataset\n",
        "raw_dataset = load_clean_sentences('english-chinese.pkl')\n",
        " \n",
        "# reduce dataset size\n",
        "n_sentences = 18000\n",
        "dataset = raw_dataset[:n_sentences]\n",
        "# random shuffle\n",
        "shuffle(dataset)\n",
        "# split into train/test\n",
        "train, test = dataset[:16000], dataset[16000:]\n",
        "# save\n",
        "save_clean_data(dataset, 'english-chinese-both.pkl')\n",
        "save_clean_data(train, 'english-chinese-train.pkl')\n",
        "save_clean_data(test, 'english-chinese-test.pkl')\n",
        "print()\n",
        "print('Total sentences in complete dataset: ', len(raw_dataset))\n",
        "print('Original data example: ', raw_dataset[0])\n",
        "#print(dataset[0])\n",
        "print('Example from training set: ', train[0])\n",
        "print('Example from testing set: ', test[0])"
      ],
      "execution_count": 7,
      "outputs": [
        {
          "output_type": "stream",
          "text": [
            "Saved: english-chinese-both.pkl\n",
            "Saved: english-chinese-train.pkl\n",
            "Saved: english-chinese-test.pkl\n",
            "\n",
            "Total sentences in complete dataset:  22075\n",
            "Original data example:  ['hi', '嗨']\n",
            "Example from training set:  [\"i'll be there rain or shine\", '风雨无阻 我 都 会 在 那里']\n",
            "Example from testing set:  ['i like dragon fruit', '我 喜欢 火龙果']\n"
          ],
          "name": "stdout"
        }
      ]
    },
    {
      "cell_type": "markdown",
      "metadata": {
        "id": "9qQKh5-Nsp2b",
        "colab_type": "text"
      },
      "source": [
        "## Data Exploration"
      ]
    },
    {
      "cell_type": "markdown",
      "metadata": {
        "id": "CNKYmqzNcaUN",
        "colab_type": "text"
      },
      "source": [
        "### Functions to Tokenize and Explore Clean Sentences"
      ]
    },
    {
      "cell_type": "code",
      "metadata": {
        "id": "W7BBbtb2pNj4",
        "colab_type": "code",
        "colab": {
          "base_uri": "https://localhost:8080/",
          "height": 34
        },
        "outputId": "f84419da-8f6c-49ea-c208-1c8560fd13e1"
      },
      "source": [
        "# fit a tokenizer\n",
        "def create_tokenizer(lines):\n",
        "\ttokenizer = Tokenizer()\n",
        "\ttokenizer.fit_on_texts(lines)\n",
        "\treturn tokenizer\n",
        " \n",
        "# max sentence length\n",
        "def max_length(lines):\n",
        "\treturn max(len(line.split()) for line in lines)\n",
        " \n",
        "print('Done!')"
      ],
      "execution_count": 8,
      "outputs": [
        {
          "output_type": "stream",
          "text": [
            "Done!\n"
          ],
          "name": "stdout"
        }
      ]
    },
    {
      "cell_type": "markdown",
      "metadata": {
        "id": "WuNKKkKe2NPf",
        "colab_type": "text"
      },
      "source": [
        "### Dataset Size"
      ]
    },
    {
      "cell_type": "markdown",
      "metadata": {
        "id": "j6ceuamOKTZX",
        "colab_type": "text"
      },
      "source": [
        "Separate Chinese and English data for descriptive statistical analysis."
      ]
    },
    {
      "cell_type": "code",
      "metadata": {
        "id": "mLJF5oszr-U-",
        "colab_type": "code",
        "colab": {
          "base_uri": "https://localhost:8080/",
          "height": 173
        },
        "outputId": "8af79276-cbb7-47a1-a86b-2dd09bf4e4c0"
      },
      "source": [
        " # load datasets\n",
        "dataset = load_clean_sentences('english-chinese-both.pkl')\n",
        "train = load_clean_sentences('english-chinese-train.pkl')\n",
        "test = load_clean_sentences('english-chinese-test.pkl')\n",
        "\n",
        "print(dataset[:2])\n",
        "print(train[:2])\n",
        "print(test[:2])\n",
        "print(len(dataset))\n",
        "print(len(train))\n",
        "print(len(test))\n",
        "eng_data = [i[0] for i in dataset]\n",
        "chi_data = [i[1] for i in dataset]\n",
        "eng_train = [i[0] for i in train]\n",
        "chi_train = [i[1] for i in train]\n",
        "eng_test = [i[0] for i in test]\n",
        "chi_test = [i[1] for i in test]\n",
        "\n",
        "print(eng_data[:5])\n",
        "print(chi_data[:5])"
      ],
      "execution_count": 9,
      "outputs": [
        {
          "output_type": "stream",
          "text": [
            "[[\"i'll be there rain or shine\", '风雨无阻 我 都 会 在 那里'], ['i like to listen to the radio', '我 喜欢 听 广播']]\n",
            "[[\"i'll be there rain or shine\", '风雨无阻 我 都 会 在 那里'], ['i like to listen to the radio', '我 喜欢 听 广播']]\n",
            "[['i like dragon fruit', '我 喜欢 火龙果'], ['he knows a lot about foreign affairs', '他 知道 很多 外国 事务']]\n",
            "18000\n",
            "16000\n",
            "2000\n",
            "[\"i'll be there rain or shine\", 'i like to listen to the radio', 'may i use your toilet', \"i found you didn't i\", 'i can wait for you']\n",
            "['风雨无阻 我 都 会 在 那里', '我 喜欢 听 广播', '我能 用 一下 你们 的 厕所 吗', '我 找到 你 了  没有 么', '我 可以 等 你']\n"
          ],
          "name": "stdout"
        }
      ]
    },
    {
      "cell_type": "markdown",
      "metadata": {
        "id": "dImPGNBH2RTy",
        "colab_type": "text"
      },
      "source": [
        "### Vocabulary Size and Average Sentence Length"
      ]
    },
    {
      "cell_type": "markdown",
      "metadata": {
        "id": "1U18FZ4pKkod",
        "colab_type": "text"
      },
      "source": [
        "Here I compute the vocabulary size for each language; that is, the number of unique words in the vocabulary. I also compute the maximum number of words in a sentence for each language, and the average number of words in a sentence for each language. The minumum number of words in a sentence in 1 for both languages, as we can see in the first sentence of the dataset: \"Hi/嗨\""
      ]
    },
    {
      "cell_type": "code",
      "metadata": {
        "id": "ZcBIE2pPsyAf",
        "colab_type": "code",
        "colab": {
          "base_uri": "https://localhost:8080/",
          "height": 119
        },
        "outputId": "46333b0d-d125-4cb3-c5d7-2d7e26d3c9dc"
      },
      "source": [
        "# prepare english tokenizer\n",
        "eng_tokenizer = create_tokenizer(eng_data)\n",
        "eng_vocab_size = len(eng_tokenizer.word_index) + 1\n",
        "eng_length = max_length(eng_data)\n",
        "print('English Vocabulary Size: %d' % eng_vocab_size)\n",
        "print('English Max Length: %d' % (eng_length))\n",
        "# prepare chinese tokenizer\n",
        "chi_tokenizer = create_tokenizer(chi_data)\n",
        "chi_vocab_size = len(chi_tokenizer.word_index) + 1\n",
        "chi_length = max_length(chi_data)\n",
        "print('Chinese Vocabulary Size: %d' % chi_vocab_size)\n",
        "print('Chinese Max Length: %d' % (chi_length))\n",
        "#print(eng_tokenizer[0])\n",
        "#print(chi_tokenizer[0])\n",
        "\n",
        "eng_data_lengths = [] \n",
        "chi_data_lengths = [] \n",
        "\n",
        "for i in eng_data: \n",
        "      eng_data_lengths.append(len(i.split())) \n",
        "\n",
        "for i in chi_data: \n",
        "      chi_data_lengths.append(len(i.split())) \n",
        "\n",
        "\n",
        "eng_avg_sents = (sum(eng_data_lengths))/(len(eng_data))\n",
        "chi_avg_sents = (sum(chi_data_lengths))/(len(chi_data))\n",
        "\n",
        "print('Average English sentence length: ', eng_avg_sents)\n",
        "print('Average Chinese sentence length: ', chi_avg_sents)"
      ],
      "execution_count": 10,
      "outputs": [
        {
          "output_type": "stream",
          "text": [
            "English Vocabulary Size: 5176\n",
            "English Max Length: 10\n",
            "Chinese Vocabulary Size: 8600\n",
            "Chinese Max Length: 16\n",
            "Average English sentence length:  5.486277777777778\n",
            "Average Chinese sentence length:  5.0895\n"
          ],
          "name": "stdout"
        }
      ]
    },
    {
      "cell_type": "markdown",
      "metadata": {
        "id": "r8wVTyf6LN13",
        "colab_type": "text"
      },
      "source": [
        "We can plot the distribution of sentence lengths over the dataset for each language."
      ]
    },
    {
      "cell_type": "code",
      "metadata": {
        "id": "h8wvZdkqLMGw",
        "colab_type": "code",
        "colab": {
          "base_uri": "https://localhost:8080/",
          "height": 391
        },
        "outputId": "6bd7d5b4-c23b-4a5f-db1f-1612349e07b6"
      },
      "source": [
        "#histograms of sentence lengths\n",
        "length_df = pd.DataFrame({'English Sentence Lengths':eng_data_lengths, 'Chinese Sentence Lengths':chi_data_lengths}) \n",
        "length_df.hist(bins=30, figsize=(12,6)) \n",
        "plt.show()"
      ],
      "execution_count": 11,
      "outputs": [
        {
          "output_type": "display_data",
          "data": {
            "image/png": "[encoded data removed]",
            "text/plain": [
              "<Figure size 864x432 with 2 Axes>"
            ]
          },
          "metadata": {
            "tags": [],
            "needs_background": "light"
          }
        }
      ]
    },
    {
      "cell_type": "markdown",
      "metadata": {
        "id": "xMnDfnns2eH4",
        "colab_type": "text"
      },
      "source": [
        "### Unique Words in Dataset"
      ]
    },
    {
      "cell_type": "markdown",
      "metadata": {
        "id": "S0mm_caMLcwF",
        "colab_type": "text"
      },
      "source": [
        "Next, I calculate the number of words in the vocabulary of each language that only occur once, as well as print a list of the first hundred singly-occuring words as an example. I also show the number of words in each language that occur more than 100 times in the dataset. Finally I show the percentage of single words in relation to the entire vocabulary size. \n",
        "\n",
        "Words that occur only once can lower the accuracy of the predictions, especially when they appear in the test data, meaning that the model has never seen the words before. When the statistical language model has multiple occurences of vocabulary words, the RNN can then become more nuanced in the output."
      ]
    },
    {
      "cell_type": "code",
      "metadata": {
        "id": "MLcStSLpTo4H",
        "colab_type": "code",
        "colab": {
          "base_uri": "https://localhost:8080/",
          "height": 275
        },
        "outputId": "f7ddd3d0-e74a-4f0c-c271-2328ff653e03"
      },
      "source": [
        "#tokens that only appear once\n",
        "eng_single_words = [w for w,c in eng_tokenizer.word_counts.items() if c == 1]\n",
        "chi_single_words = [w for w,c in chi_tokenizer.word_counts.items() if c == 1]\n",
        "\n",
        "eng_frequent_words = [w for w,c in eng_tokenizer.word_counts.items() if c > 100]\n",
        "chi_frequent_words = [w for w,c in chi_tokenizer.word_counts.items() if c > 100]\n",
        "\n",
        "print('English single words: ', len(eng_single_words))\n",
        "print(eng_single_words[:100])\n",
        "print()\n",
        "print('Chinese single words: ', len(chi_single_words))\n",
        "print(chi_single_words[:100])\n",
        "print()\n",
        "print('English frequent words: ', len(eng_frequent_words))\n",
        "print(eng_frequent_words[:100])\n",
        "print()\n",
        "print('Chinese frequent words: ', len(chi_frequent_words))\n",
        "print(chi_frequent_words[:100])\n",
        "print()\n",
        "print('Percent of single words in English vocab: ', (len(eng_single_words)/eng_vocab_size)*100)\n",
        "print('Percent of single words in Chinese vocab: ', (len(chi_single_words)/chi_vocab_size)*100)"
      ],
      "execution_count": 12,
      "outputs": [
        {
          "output_type": "stream",
          "text": [
            "English single words:  2045\n",
            "['afterwards', 'dances', 'ninety', 'honey', 'mornings', 'customer', 'pressured', 'wizard', 'contented', '40000', 'confidential', 'organized', \"boy's\", 'dancer', 'ancient', 'thermometers', 'utterly', 'distinguish', 'risked', 'cleaner', 'weekends', 'waitress', 'repainted', 'established', '4th', 'spite', '300', 'mongrel', 'beverage', 'auckland', 'capacity', 'data', 'bars', 'gestalt', 'therapy', 'sheer', 'unbearable', 'aisle', 'princess', 'hazel', 'smiths', 'beethoven', 'handled', 'amends', 'reluctantly', 'texting', 'tourist', 'committed', 'mount', 'tate', 'passports', 'unfairly', 'suggesting', 'strategy', 'hopeful', 'opportunities', 'returning', 'taiwan', 'subjects', 'bridges', 'stopping', 'fountain', 'partially', 'europeans', 'undressing', 'checked', 'shed', 'substituted', 'scotland', 'promising', 'pressed', 'madrid', 'warn', 'computers', 'emerging', 'mexican', 'electrical', 'strings', 'balloon', 'survival', 'thou', 'shalt', 'identity', 'killer', 'yawned', 'stapler', 'criticized', 'completed', 'telegram', 'pronunciation', 'breaks', 'comb', 'romantic', 'millions', 'performance', 'suspects', 'tapped', 'hoarse', 'heroes', 'series']\n",
            "\n",
            "Chinese single words:  4422\n",
            "['风雨无阻', '吸引', '发生意外', '下班', '眼光', '逃出来', '要读', '退学', '撕掉', '钞票', '右往', '左读', '活到', '九十岁', '宝贝', '请记', '自信', '每周日', '胶卷', '溜出', '顾客', '施压', '早安', '术士', '多人', '知足常乐', '40000', '起个', '这得', '机密', '霸占', '酒驾', '倒水', '洽公', '后果', '做好事', '许多种', '出游', 'a', '铁塔', '舞者', '古建筑', '睁眼', '待遇', '活跃', '我认', '温度计', '所能', '展览', '开放', '面带笑容', '一卷', '彩色', '胶片', '这茶', '喜不喜欢', '髪', '班', '申请表', '航海', '看得懂', '开了门', '杂种狗', '亲密', '动怒', '找零', '奥克兰', '新西兰', '土耳其', '可是', '客满', '开动', '我留', '这书', '涂', '会信', '提包', '数据', '准确', '脏狗进', '当真', '走不动', '牢里', '拐弯抹角', '格式', '疗法', '纯真', '多好', '商量', '讨论一下', '难以忍受', '公主', '淡褐色', '贝多芬', '出租', '连续', '常有', '保持联系', '忍着', '旅游业']\n",
            "\n",
            "English frequent words:  155\n",
            "[\"i'll\", 'be', 'there', 'i', 'like', 'to', 'the', 'may', 'your', 'you', \"didn't\", 'can', 'for', 'it', 'would', 'my', 'help', 'she', 'had', 'been', 'mary', 'very', 'much', \"it's\", 'a', 'this', 'has', 'man', 'is', 'they', 'in', 'room', 'his', 'our', 'he', 'an', 'tom', 'know', 'what', 'do', 'gave', 'me', 'when', \"don't\", 'about', 'are', 'not', 'am', 'that', 'have', 'school', 'as', 'time', 'where', 'will', 'we', 'go', 'come', 'on', 'new', 'car', 'no', 'at', 'money', 'right', 'from', 'let', 'really', 'well', 'of', 'with', 'last', 'back', 'how', 'good', 'was', 'out', 'want', 'home', 'night', \"i've\", 'work', 'by', \"that's\", 'up', 'should', \"i'm\", 'here', 'all', 'tomorrow', 'her', 'put', 'one', 'please', 'house', 'and', 'old', 'lot', 'english', 'him']\n",
            "\n",
            "Chinese frequent words:  120\n",
            "['我', '都', '会', '在', '那里', '喜欢', '用', '你们', '的', '吗', '你', '了', '没有', '可以', '等', '希望', '父亲', '她', '说', '很', '玛丽', '这是', '一个', '需要', '没', '他们', '这个', '房间', '里', '他', '我们', '汤姆', '不会', '知道', '要', '做', '甚么', '给', '不', '您', '不是', '个', '来', '走', '任何', '有', '什么', '告诉', '对', '现在', '就', '钱', '从', '让', '朋友', '得', '好', '很多', '跟', '怎么', '被', '想要', '想', '开始', '着', '那', '是', '问题', '明天', '去', '事', '上', '必须', '我会', '和', '买', '能', '认为', '时候', '工作', '帮', '不能', '一点', '到', '再', '人', '那个', '不要', '孩子', '看', '谁', '正在', '今天', '也', '狗', '吧', '可能', '昨天', '住', '真的']\n",
            "\n",
            "Percent of single words in English vocab:  39.509273570324574\n",
            "Percent of single words in Chinese vocab:  51.418604651162795\n"
          ],
          "name": "stdout"
        }
      ]
    },
    {
      "cell_type": "markdown",
      "metadata": {
        "id": "zfso2HM4MoTy",
        "colab_type": "text"
      },
      "source": [
        "I show a plot of word frequency distributions over each language's vocabulary. Words that occur only once appear far more frequently in both language than words that occur more than 1000 times."
      ]
    },
    {
      "cell_type": "code",
      "metadata": {
        "id": "t8JcA8UbNOCy",
        "colab_type": "code",
        "colab": {
          "base_uri": "https://localhost:8080/",
          "height": 500
        },
        "outputId": "fdad95a7-68be-4f3c-f139-5160a12ef1b0"
      },
      "source": [
        "#English distribution of word frequencies\n",
        "eng_words_unique = [w for w,c in eng_tokenizer.word_counts.items()]\n",
        "eng_words_counts = [c for w,c in eng_tokenizer.word_counts.items()]\n",
        "df_eng_frequency = pd.DataFrame(zip(eng_words_unique, eng_words_counts), columns=['words', 'frequency'])\n",
        "df_eng_frequency['frequency'].hist(bins=30, figsize=(12,8))\n",
        "plt.yscale('log')\n",
        "plt.title('English Word Frequency Distribution')\n",
        "plt.show()"
      ],
      "execution_count": 13,
      "outputs": [
        {
          "output_type": "display_data",
          "data": {
            "image/png": "[encoded data removed]",
            "text/plain": [
              "<Figure size 864x576 with 1 Axes>"
            ]
          },
          "metadata": {
            "tags": [],
            "needs_background": "light"
          }
        }
      ]
    },
    {
      "cell_type": "code",
      "metadata": {
        "id": "IsduFzcGSzfI",
        "colab_type": "code",
        "colab": {
          "base_uri": "https://localhost:8080/",
          "height": 500
        },
        "outputId": "f3b49edc-3e19-462d-83f7-c74c0dd0af59"
      },
      "source": [
        "#Chinese distribution of word frequencies\n",
        "chi_words_unique = [w for w,c in chi_tokenizer.word_counts.items()]\n",
        "chi_words_counts = [c for w,c in chi_tokenizer.word_counts.items()]\n",
        "df_chi_frequency = pd.DataFrame(zip(chi_words_unique, chi_words_counts), columns=['words', 'frequency'])\n",
        "df_chi_frequency['frequency'].hist(bins=30, figsize=(12,8))\n",
        "plt.yscale('log')\n",
        "plt.title('Chinese Word Frequency Distribution')\n",
        "plt.show()"
      ],
      "execution_count": 14,
      "outputs": [
        {
          "output_type": "display_data",
          "data": {
            "image/png": "[encoded data removed]",
            "text/plain": [
              "<Figure size 864x576 with 1 Axes>"
            ]
          },
          "metadata": {
            "tags": [],
            "needs_background": "light"
          }
        }
      ]
    },
    {
      "cell_type": "markdown",
      "metadata": {
        "id": "oiY3dWN942Tx",
        "colab_type": "text"
      },
      "source": [
        "## Prepare Data for Neural Machine Translation"
      ]
    },
    {
      "cell_type": "markdown",
      "metadata": {
        "id": "4ak9ECmns4w0",
        "colab_type": "text"
      },
      "source": [
        "### Functions to Encode Sentences and Define the Model"
      ]
    },
    {
      "cell_type": "markdown",
      "metadata": {
        "id": "VfQDcPyyNQYy",
        "colab_type": "text"
      },
      "source": [
        "In order to feed the data into the model for training, all text data must be encoded into numeric sequences and padded so that all sequences are the same length. Using Keras tokenizer, the vocabulary for each language is assigned an index, and then each word in a sentence is replaced with its corresponding index. These numeric sequences are then padded with zeroes on the end so that each sequence will have a total length equal to the maximum sentence length. Target sequences (y) are also one-hot encoded to vectors of ones and zeroes the size of the maximum vocabulary. \n",
        "\n",
        "The model consists of an LSTM input layer with a dropout rate of 50% to reduce overfitting, a Repeat Vector layer to add a third dimension, and an Attention decoder layer. An LSTM (Long Short Term Memory) is a type of recurrent neural network that learns dependencies better than other kinds of RNNs. The cell state of an LSTM contains information gateways that learn to keep or discard information over time-steps. Because of this, LSTMs are well-suited to sequence-to-sequence problems, like Machine Translation. The Attention decoder extends decoding power by allowing the model to soft-search input encodings and make predictions about the following target word. In other words, it identifies which parts of the input are relevant for producing the output. "
      ]
    },
    {
      "cell_type": "code",
      "metadata": {
        "id": "z5qapVpX3TJG",
        "colab_type": "code",
        "colab": {
          "base_uri": "https://localhost:8080/",
          "height": 34
        },
        "outputId": "377dec25-10a2-4e31-cdfd-36e0bab2c952"
      },
      "source": [
        "# encode and pad sequences\n",
        "def encode_sequences(tokenizer, length, lines):\n",
        "\t# integer encode sequences\n",
        "\tX = tokenizer.texts_to_sequences(lines)\n",
        "\t# pad sequences with 0 values\n",
        "\tX = pad_sequences(X, maxlen=length, padding='post')\n",
        "\treturn X\n",
        " \n",
        "# one hot encode target sequence\n",
        "def encode_output(sequences, vocab_size):\n",
        "\tylist = list()\n",
        "\tfor sequence in sequences:\n",
        "\t\tencoded = to_categorical(sequence, num_classes=vocab_size)\n",
        "\t\tylist.append(encoded)\n",
        "\ty = array(ylist)\n",
        "\ty = y.reshape(sequences.shape[0], sequences.shape[1], vocab_size)\n",
        "\treturn y\n",
        "\n",
        "# define NMT model\n",
        "def define_model(src_vocab, tar_vocab, src_timesteps, tar_timesteps, n_units):\n",
        "\tmodel = Sequential()\n",
        "\tmodel.add(Embedding(src_vocab, n_units, input_length=src_timesteps, mask_zero=True))\n",
        "\tmodel.add(LSTM(n_units))\n",
        "\tmodel.add(Dropout(0.5))\n",
        "\t# model.add(LSTM(n_units))\n",
        "\t# model.add(Dropout(0.5))\n",
        "\tmodel.add(RepeatVector(tar_timesteps))\n",
        "\t#model.add(LSTM(n_units, return_sequences=True))\n",
        "\t# model.add(Dropout(0.5))\n",
        "\tmodel.add(AttentionDecoder(n_units, tar_vocab))\n",
        "\t#model.add(TimeDistributed(Dense(tar_vocab, activation='softmax')))\n",
        "\treturn model\n",
        "\n",
        "print('Done!')"
      ],
      "execution_count": 15,
      "outputs": [
        {
          "output_type": "stream",
          "text": [
            "Done!\n"
          ],
          "name": "stdout"
        }
      ]
    },
    {
      "cell_type": "markdown",
      "metadata": {
        "id": "O_LzQ-eH5EML",
        "colab_type": "text"
      },
      "source": [
        "### Encode and Pad Sequences"
      ]
    },
    {
      "cell_type": "markdown",
      "metadata": {
        "id": "Kdf1NHeCgo4j",
        "colab_type": "text"
      },
      "source": [
        "Sequences are encoded based on word indexing, and then target values are one-hot encoded."
      ]
    },
    {
      "cell_type": "code",
      "metadata": {
        "id": "KF220gsWsyPo",
        "colab_type": "code",
        "colab": {
          "base_uri": "https://localhost:8080/",
          "height": 204
        },
        "outputId": "2547fb45-54f8-4ca1-dcef-33c9288256fa"
      },
      "source": [
        "# prepare training data\n",
        "trainX = encode_sequences(chi_tokenizer, chi_length, chi_train)\n",
        "trainY = encode_sequences(eng_tokenizer, eng_length, eng_train)\n",
        "trainY = encode_output(trainY, eng_vocab_size)\n",
        "\n",
        "print(trainX[0])\n",
        "print(trainY[0])\n",
        "print(trainX.shape)\n",
        "print(trainY.shape)"
      ],
      "execution_count": 16,
      "outputs": [
        {
          "output_type": "stream",
          "text": [
            "[4178    1   26   33    7  114    0    0    0    0    0    0    0    0\n",
            "    0    0]\n",
            "[[0. 0. 0. ... 0. 0. 0.]\n",
            " [0. 0. 0. ... 0. 0. 0.]\n",
            " [0. 0. 0. ... 0. 0. 0.]\n",
            " ...\n",
            " [1. 0. 0. ... 0. 0. 0.]\n",
            " [1. 0. 0. ... 0. 0. 0.]\n",
            " [1. 0. 0. ... 0. 0. 0.]]\n",
            "(16000, 16)\n",
            "(16000, 10, 5176)\n"
          ],
          "name": "stdout"
        }
      ]
    },
    {
      "cell_type": "code",
      "metadata": {
        "id": "nd8tbPjVYyyC",
        "colab_type": "code",
        "colab": {
          "base_uri": "https://localhost:8080/",
          "height": 204
        },
        "outputId": "fb56670a-f856-4795-daf3-fa6c6f729dae"
      },
      "source": [
        "# prepare validation data\n",
        "testX = encode_sequences(chi_tokenizer, chi_length, chi_test)\n",
        "testY = encode_sequences(eng_tokenizer, eng_length, eng_test)\n",
        "testY = encode_output(testY, eng_vocab_size)\n",
        " \n",
        "print(testX[0])\n",
        "print(testY[0])\n",
        "print(testX.shape)\n",
        "print(testY.shape)"
      ],
      "execution_count": 17,
      "outputs": [
        {
          "output_type": "stream",
          "text": [
            "[   1   19 8134    0    0    0    0    0    0    0    0    0    0    0\n",
            "    0    0]\n",
            "[[0. 1. 0. ... 0. 0. 0.]\n",
            " [0. 0. 0. ... 0. 0. 0.]\n",
            " [0. 0. 0. ... 0. 0. 0.]\n",
            " ...\n",
            " [1. 0. 0. ... 0. 0. 0.]\n",
            " [1. 0. 0. ... 0. 0. 0.]\n",
            " [1. 0. 0. ... 0. 0. 0.]]\n",
            "(2000, 16)\n",
            "(2000, 10, 5176)\n"
          ],
          "name": "stdout"
        }
      ]
    },
    {
      "cell_type": "markdown",
      "metadata": {
        "id": "PQtLoxYMtJr1",
        "colab_type": "text"
      },
      "source": [
        "### Define and Summarize Model"
      ]
    },
    {
      "cell_type": "markdown",
      "metadata": {
        "id": "acKsWcxig0p5",
        "colab_type": "text"
      },
      "source": [
        "The model has 80 neurons in the layer, of which only 50% are used during each training epoch to reduce overfitting weights. The Adam optimizer controls the rate of weight changes and adapts its learning rate with each iteration to optimize these."
      ]
    },
    {
      "cell_type": "code",
      "metadata": {
        "id": "6QEwE53KtIW5",
        "colab_type": "code",
        "colab": {
          "base_uri": "https://localhost:8080/",
          "height": 967
        },
        "outputId": "faa049d9-b272-493a-9c47-910c022bfaf8"
      },
      "source": [
        "# define model\n",
        "model = define_model(chi_vocab_size, eng_vocab_size, chi_length, eng_length, 80)\n",
        "opt = keras.optimizers.Adam(learning_rate=0.003)\n",
        "model.compile(optimizer=opt, loss='categorical_crossentropy', metrics=['accuracy'])\n",
        "# summarize de_size, eng_vocab_size, chi_length, eng_length, 80)\n",
        "print(model.summary())\n",
        "plot_model(model, to_file='model.png', show_shapes=True)"
      ],
      "execution_count": 18,
      "outputs": [
        {
          "output_type": "stream",
          "text": [
            "Model: \"sequential_1\"\n",
            "_________________________________________________________________\n",
            "Layer (type)                 Output Shape              Param #   \n",
            "=================================================================\n",
            "embedding_1 (Embedding)      (None, 16, 80)            688000    \n",
            "_________________________________________________________________\n",
            "lstm_1 (LSTM)                (None, 80)                51520     \n",
            "_________________________________________________________________\n",
            "dropout_1 (Dropout)          (None, 80)                0         \n",
            "_________________________________________________________________\n",
            "repeat_vector_1 (RepeatVecto (None, 10, 80)            0         \n",
            "_________________________________________________________________\n",
            "AttentionDecoder (AttentionD (None, 10, 5176)          28924552  \n",
            "=================================================================\n",
            "Total params: 29,664,072\n",
            "Trainable params: 29,664,072\n",
            "Non-trainable params: 0\n",
            "_________________________________________________________________\n",
            "None\n"
          ],
          "name": "stdout"
        },
        {
          "output_type": "execute_result",
          "data": {
            "image/png": "[encoded data removed]",
            "text/plain": [
              "<IPython.core.display.Image object>"
            ]
          },
          "metadata": {
            "tags": []
          },
          "execution_count": 18
        }
      ]
    },
    {
      "cell_type": "markdown",
      "metadata": {
        "id": "mXLw77uk5QmP",
        "colab_type": "text"
      },
      "source": [
        "### Fit and Train the Model"
      ]
    },
    {
      "cell_type": "markdown",
      "metadata": {
        "id": "V_RrtqEPlQoX",
        "colab_type": "text"
      },
      "source": [
        "The model trains and validates on the test set over a set number of epochs, during which it updates its weights."
      ]
    },
    {
      "cell_type": "code",
      "metadata": {
        "id": "H04ctz-gtIeu",
        "colab_type": "code",
        "colab": {
          "base_uri": "https://localhost:8080/",
          "height": 1000
        },
        "outputId": "448c43c6-46fc-431e-95b2-f72889ce686a"
      },
      "source": [
        "# fit model\n",
        "filename = 'model.h5'\n",
        "checkpoint = ModelCheckpoint(filename, monitor='val_loss', verbose=1, save_best_only=True, mode='min')\n",
        "history = model.fit(trainX, trainY, epochs=30, batch_size=50, validation_data=(testX, testY), callbacks=[checkpoint], verbose=2)"
      ],
      "execution_count": 19,
      "outputs": [
        {
          "output_type": "stream",
          "text": [
            "Train on 16000 samples, validate on 2000 samples\n",
            "Epoch 1/30\n",
            " - 39s - loss: 3.8081 - accuracy: 0.4778 - val_loss: 3.3777 - val_accuracy: 0.4947\n",
            "\n",
            "Epoch 00001: val_loss improved from inf to 3.37771, saving model to model.h5\n",
            "Epoch 2/30\n",
            " - 37s - loss: 3.2691 - accuracy: 0.4987 - val_loss: 3.1942 - val_accuracy: 0.5148\n",
            "\n",
            "Epoch 00002: val_loss improved from 3.37771 to 3.19418, saving model to model.h5\n",
            "Epoch 3/30\n",
            " - 37s - loss: 3.0324 - accuracy: 0.5229 - val_loss: 2.9811 - val_accuracy: 0.5421\n",
            "\n",
            "Epoch 00003: val_loss improved from 3.19418 to 2.98105, saving model to model.h5\n",
            "Epoch 4/30\n",
            " - 37s - loss: 2.7974 - accuracy: 0.5440 - val_loss: 2.8296 - val_accuracy: 0.5576\n",
            "\n",
            "Epoch 00004: val_loss improved from 2.98105 to 2.82961, saving model to model.h5\n",
            "Epoch 5/30\n",
            " - 37s - loss: 2.5906 - accuracy: 0.5585 - val_loss: 2.6963 - val_accuracy: 0.5670\n",
            "\n",
            "Epoch 00005: val_loss improved from 2.82961 to 2.69632, saving model to model.h5\n",
            "Epoch 6/30\n",
            " - 37s - loss: 2.4144 - accuracy: 0.5688 - val_loss: 2.6007 - val_accuracy: 0.5759\n",
            "\n",
            "Epoch 00006: val_loss improved from 2.69632 to 2.60074, saving model to model.h5\n",
            "Epoch 7/30\n",
            " - 37s - loss: 2.2613 - accuracy: 0.5792 - val_loss: 2.5173 - val_accuracy: 0.5829\n",
            "\n",
            "Epoch 00007: val_loss improved from 2.60074 to 2.51727, saving model to model.h5\n",
            "Epoch 8/30\n",
            " - 37s - loss: 2.1383 - accuracy: 0.5878 - val_loss: 2.4587 - val_accuracy: 0.5907\n",
            "\n",
            "Epoch 00008: val_loss improved from 2.51727 to 2.45866, saving model to model.h5\n",
            "Epoch 9/30\n",
            " - 37s - loss: 2.0283 - accuracy: 0.5957 - val_loss: 2.4352 - val_accuracy: 0.5921\n",
            "\n",
            "Epoch 00009: val_loss improved from 2.45866 to 2.43522, saving model to model.h5\n",
            "Epoch 10/30\n",
            " - 37s - loss: 1.9334 - accuracy: 0.6037 - val_loss: 2.3804 - val_accuracy: 0.5946\n",
            "\n",
            "Epoch 00010: val_loss improved from 2.43522 to 2.38039, saving model to model.h5\n",
            "Epoch 11/30\n",
            " - 37s - loss: 1.8544 - accuracy: 0.6093 - val_loss: 2.3716 - val_accuracy: 0.5997\n",
            "\n",
            "Epoch 00011: val_loss improved from 2.38039 to 2.37162, saving model to model.h5\n",
            "Epoch 12/30\n",
            " - 37s - loss: 1.7869 - accuracy: 0.6165 - val_loss: 2.3347 - val_accuracy: 0.5990\n",
            "\n",
            "Epoch 00012: val_loss improved from 2.37162 to 2.33475, saving model to model.h5\n",
            "Epoch 13/30\n",
            " - 37s - loss: 1.7152 - accuracy: 0.6234 - val_loss: 2.3269 - val_accuracy: 0.6047\n",
            "\n",
            "Epoch 00013: val_loss improved from 2.33475 to 2.32686, saving model to model.h5\n",
            "Epoch 14/30\n",
            " - 37s - loss: 1.6640 - accuracy: 0.6298 - val_loss: 2.3207 - val_accuracy: 0.6054\n",
            "\n",
            "Epoch 00014: val_loss improved from 2.32686 to 2.32073, saving model to model.h5\n",
            "Epoch 15/30\n",
            " - 37s - loss: 1.6118 - accuracy: 0.6360 - val_loss: 2.3041 - val_accuracy: 0.6085\n",
            "\n",
            "Epoch 00015: val_loss improved from 2.32073 to 2.30410, saving model to model.h5\n",
            "Epoch 16/30\n",
            " - 37s - loss: 1.5694 - accuracy: 0.6418 - val_loss: 2.2951 - val_accuracy: 0.6094\n",
            "\n",
            "Epoch 00016: val_loss improved from 2.30410 to 2.29510, saving model to model.h5\n",
            "Epoch 17/30\n",
            " - 37s - loss: 1.5202 - accuracy: 0.6489 - val_loss: 2.3030 - val_accuracy: 0.6115\n",
            "\n",
            "Epoch 00017: val_loss did not improve from 2.29510\n",
            "Epoch 18/30\n",
            " - 37s - loss: 1.4838 - accuracy: 0.6557 - val_loss: 2.2922 - val_accuracy: 0.6110\n",
            "\n",
            "Epoch 00018: val_loss improved from 2.29510 to 2.29218, saving model to model.h5\n",
            "Epoch 19/30\n",
            " - 37s - loss: 1.4440 - accuracy: 0.6611 - val_loss: 2.2969 - val_accuracy: 0.6092\n",
            "\n",
            "Epoch 00019: val_loss did not improve from 2.29218\n",
            "Epoch 20/30\n",
            " - 37s - loss: 1.4135 - accuracy: 0.6665 - val_loss: 2.2832 - val_accuracy: 0.6130\n",
            "\n",
            "Epoch 00020: val_loss improved from 2.29218 to 2.28318, saving model to model.h5\n",
            "Epoch 21/30\n",
            " - 37s - loss: 1.3863 - accuracy: 0.6700 - val_loss: 2.2835 - val_accuracy: 0.6160\n",
            "\n",
            "Epoch 00021: val_loss did not improve from 2.28318\n",
            "Epoch 22/30\n",
            " - 37s - loss: 1.3626 - accuracy: 0.6746 - val_loss: 2.2840 - val_accuracy: 0.6132\n",
            "\n",
            "Epoch 00022: val_loss did not improve from 2.28318\n",
            "Epoch 23/30\n",
            " - 37s - loss: 1.3291 - accuracy: 0.6794 - val_loss: 2.2864 - val_accuracy: 0.6141\n",
            "\n",
            "Epoch 00023: val_loss did not improve from 2.28318\n",
            "Epoch 24/30\n",
            " - 37s - loss: 1.3083 - accuracy: 0.6830 - val_loss: 2.2821 - val_accuracy: 0.6172\n",
            "\n",
            "Epoch 00024: val_loss improved from 2.28318 to 2.28214, saving model to model.h5\n",
            "Epoch 25/30\n",
            " - 37s - loss: 1.2824 - accuracy: 0.6880 - val_loss: 2.2979 - val_accuracy: 0.6183\n",
            "\n",
            "Epoch 00025: val_loss did not improve from 2.28214\n",
            "Epoch 26/30\n",
            " - 36s - loss: 1.2602 - accuracy: 0.6926 - val_loss: 2.3095 - val_accuracy: 0.6187\n",
            "\n",
            "Epoch 00026: val_loss did not improve from 2.28214\n",
            "Epoch 27/30\n",
            " - 37s - loss: 1.2350 - accuracy: 0.6970 - val_loss: 2.3123 - val_accuracy: 0.6176\n",
            "\n",
            "Epoch 00027: val_loss did not improve from 2.28214\n",
            "Epoch 28/30\n",
            " - 36s - loss: 1.2169 - accuracy: 0.6992 - val_loss: 2.3093 - val_accuracy: 0.6200\n",
            "\n",
            "Epoch 00028: val_loss did not improve from 2.28214\n",
            "Epoch 29/30\n",
            " - 36s - loss: 1.2017 - accuracy: 0.7035 - val_loss: 2.3118 - val_accuracy: 0.6198\n",
            "\n",
            "Epoch 00029: val_loss did not improve from 2.28214\n",
            "Epoch 30/30\n",
            " - 37s - loss: 1.1863 - accuracy: 0.7065 - val_loss: 2.3133 - val_accuracy: 0.6207\n",
            "\n",
            "Epoch 00030: val_loss did not improve from 2.28214\n"
          ],
          "name": "stdout"
        }
      ]
    },
    {
      "cell_type": "markdown",
      "metadata": {
        "id": "LlLamo7z5XSY",
        "colab_type": "text"
      },
      "source": [
        "### Plot of Training"
      ]
    },
    {
      "cell_type": "markdown",
      "metadata": {
        "id": "aCb9wKldlgrr",
        "colab_type": "text"
      },
      "source": [
        "The plot of the traning shows improvement during each epoch for the training and testing data, although the testing data does not perform as well as the training data. The slowing of improvement of the testing data suggests some overfitting issues that still need to be addressed."
      ]
    },
    {
      "cell_type": "code",
      "metadata": {
        "id": "dqZAz7vQV4xU",
        "colab_type": "code",
        "colab": {
          "base_uri": "https://localhost:8080/",
          "height": 483
        },
        "outputId": "c8e9ad20-31f4-42b6-ceb7-a223e692021c"
      },
      "source": [
        "#plot of model training\n",
        "plt.figure(figsize=(12,8))\n",
        "plt.plot(history.history['loss']) \n",
        "plt.plot(history.history['val_loss']) \n",
        "plt.legend(['train','validation']) \n",
        "plt.show()"
      ],
      "execution_count": 20,
      "outputs": [
        {
          "output_type": "display_data",
          "data": {
            "image/png": "[encoded data removed]",
            "text/plain": [
              "<Figure size 864x576 with 1 Axes>"
            ]
          },
          "metadata": {
            "tags": [],
            "needs_background": "light"
          }
        }
      ]
    },
    {
      "cell_type": "markdown",
      "metadata": {
        "id": "ZaPjqyoH5bTA",
        "colab_type": "text"
      },
      "source": [
        "## Model Evaluation"
      ]
    },
    {
      "cell_type": "markdown",
      "metadata": {
        "id": "3Lo7zZ1gtWLD",
        "colab_type": "text"
      },
      "source": [
        "### Functions for Model Evaluation"
      ]
    },
    {
      "cell_type": "markdown",
      "metadata": {
        "id": "yBIiT7vnmPE9",
        "colab_type": "text"
      },
      "source": [
        "Machine Translation quality is often evaluated using [BLEU scores](https://www.sdl.com/blog/understanding-mt-quality-bleu-scores.html#:~:text=The%20BLEU%20metric%20scores%20a,system%20is%20deemed%20to%20be.), so I have used this method to score my model as well. BLEU scoring follows a string-matching algorithm and compares matching ngrams in the predicted translation with human-translated target sentences. String matching cannot account for strings that are not identical but still semantically related, such as the same verb with different tenses, or synonyms. Additionally, human translators often produce a variety of translations for a single source sentence. Because difference in translations can occur, a BLEU score between 60% to 70% is generally thought to be good. "
      ]
    },
    {
      "cell_type": "code",
      "metadata": {
        "id": "dypYXFair-nI",
        "colab_type": "code",
        "colab": {
          "base_uri": "https://localhost:8080/",
          "height": 34
        },
        "outputId": "82f4fafe-85d8-4042-ec7c-354aa1f625b6"
      },
      "source": [
        "# map an integer to a word\n",
        "def word_for_id(integer, tokenizer):\n",
        "\tfor word, index in tokenizer.word_index.items():\n",
        "\t\tif index == integer:\n",
        "\t\t\treturn word\n",
        "\treturn None\n",
        " \n",
        "# generate target given source sequence\n",
        "def predict_sequence(model, tokenizer, source):\n",
        "\tprediction = model.predict(source, verbose=0)[0]\n",
        "\tintegers = [argmax(vector) for vector in prediction]\n",
        "\ttarget = list()\n",
        "\tfor i in integers:\n",
        "\t\tword = word_for_id(i, tokenizer)\n",
        "\t\tif word is None:\n",
        "\t\t\tbreak\n",
        "\t\ttarget.append(word)\n",
        "\treturn ' '.join(target)\n",
        " \n",
        "# evaluate the skill of the model\n",
        "def evaluate_model(model, tokenizer, sources, raw_dataset):\n",
        "\tactual, predicted = list(), list()\n",
        "\tfor i, source in enumerate(sources):\n",
        "\t\t# translate encoded source text\n",
        "\t\tsource = source.reshape((1, source.shape[0]))\n",
        "\t\ttranslation = predict_sequence(model, eng_tokenizer, source)\n",
        "\t\traw_target, raw_src = raw_dataset[i]\n",
        "\t\tif i < 10:\n",
        "\t\t\tprint('src=[%s], target=[%s], predicted=[%s]' % (raw_src, raw_target, translation))\n",
        "\t\tactual.append([raw_target.split()])\n",
        "\t\tpredicted.append(translation.split())\n",
        "\t# calculate BLEU score\n",
        "\tprint('BLEU-1: %f' % corpus_bleu(actual, predicted, weights=(1.0, 0, 0, 0)))\n",
        "\tprint('BLEU-2: %f' % corpus_bleu(actual, predicted, weights=(0.5, 0.5, 0, 0)))\n",
        "\tprint('BLEU-3: %f' % corpus_bleu(actual, predicted, weights=(0.3, 0.3, 0.3, 0)))\n",
        "\tprint('BLEU-4: %f' % corpus_bleu(actual, predicted, weights=(0.25, 0.25, 0.25, 0.25)))\n",
        "\n",
        "print('Done!')"
      ],
      "execution_count": 21,
      "outputs": [
        {
          "output_type": "stream",
          "text": [
            "Done!\n"
          ],
          "name": "stdout"
        }
      ]
    },
    {
      "cell_type": "markdown",
      "metadata": {
        "id": "7oOonoAU5olt",
        "colab_type": "text"
      },
      "source": [
        "### Load and Prepare Data for Evaluation"
      ]
    },
    {
      "cell_type": "code",
      "metadata": {
        "id": "IqXacDWavvun",
        "colab_type": "code",
        "colab": {
          "base_uri": "https://localhost:8080/",
          "height": 102
        },
        "outputId": "d3124143-38c8-4fe6-a490-b885d9d82b87"
      },
      "source": [
        " # load datasets\n",
        "dataset = load_clean_sentences('english-chinese-both.pkl')\n",
        "train = load_clean_sentences('english-chinese-train.pkl')\n",
        "test = load_clean_sentences('english-chinese-test.pkl')\n",
        "\n",
        "eng_data = [i[0] for i in dataset]\n",
        "chi_data = [i[1] for i in dataset]\n",
        "eng_train = [i[0] for i in train]\n",
        "chi_train = [i[1] for i in train]\n",
        "eng_test = [i[0] for i in test]\n",
        "chi_test = [i[1] for i in test]\n",
        "\n",
        "# prepare english tokenizer\n",
        "eng_tokenizer = create_tokenizer(eng_data)\n",
        "eng_vocab_size = len(eng_tokenizer.word_index) + 1\n",
        "eng_length = max_length(eng_data)\n",
        "# prepare chinese tokenizer\n",
        "chi_tokenizer = create_tokenizer(chi_data)\n",
        "chi_vocab_size = len(chi_tokenizer.word_index) + 1\n",
        "chi_length = max_length(chi_data)\n",
        "# prepare data\n",
        "trainX = encode_sequences(chi_tokenizer, chi_length, chi_train)\n",
        "testX = encode_sequences(chi_tokenizer, chi_length, chi_test)\n",
        " \n",
        "print(dataset[0])\n",
        "print(train[0])\n",
        "print(chi_train[1])\n",
        "print(trainX[0])"
      ],
      "execution_count": 22,
      "outputs": [
        {
          "output_type": "stream",
          "text": [
            "[\"i'll be there rain or shine\", '风雨无阻 我 都 会 在 那里']\n",
            "[\"i'll be there rain or shine\", '风雨无阻 我 都 会 在 那里']\n",
            "我 喜欢 听 广播\n",
            "[4178    1   26   33    7  114    0    0    0    0    0    0    0    0\n",
            "    0    0]\n"
          ],
          "name": "stdout"
        }
      ]
    },
    {
      "cell_type": "markdown",
      "metadata": {
        "id": "8AryuvNlteFs",
        "colab_type": "text"
      },
      "source": [
        "### Model Evaluation with BLEU Scoring"
      ]
    },
    {
      "cell_type": "markdown",
      "metadata": {
        "id": "VfCAsgV8mxa1",
        "colab_type": "text"
      },
      "source": [
        "We can see below the string matching scores for 1-grams, 2-grams, 3-grams, and 4-grams for both training and testing data. In addition, we can see the kinds of translations actually produced. For the training data, we see some very accurate sentences, but also some mistakes. In the test data we see accurate translations more rarely, and many repeated words."
      ]
    },
    {
      "cell_type": "code",
      "metadata": {
        "id": "tAysf1pfvwE_",
        "colab_type": "code",
        "colab": {
          "base_uri": "https://localhost:8080/",
          "height": 547
        },
        "outputId": "61afdfa3-4f90-43e0-9e28-176c2f6fc1ed"
      },
      "source": [
        "#load model\n",
        "with CustomObjectScope({'AttentionDecoder': AttentionDecoder}):\n",
        "    model = load_model('model.h5')\n",
        "\n",
        "# test on some training sequences\n",
        "print('train')\n",
        "evaluate_model(model, eng_tokenizer, trainX, [i[:2] for i in train]) \n",
        "# test on some test sequences\n",
        "print('test')\n",
        "evaluate_model(model, eng_tokenizer, testX, [i[:2] for i in test])"
      ],
      "execution_count": 23,
      "outputs": [
        {
          "output_type": "stream",
          "text": [
            "train\n",
            "src=[风雨无阻 我 都 会 在 那里], target=[i'll be there rain or shine], predicted=[i'll be there to or shine shine]\n",
            "src=[我 喜欢 听 广播], target=[i like to listen to the radio], predicted=[i like to listen radio the radio]\n",
            "src=[我能 用 一下 你们 的 厕所 吗], target=[may i use your toilet], predicted=[may i use your toilet]\n",
            "src=[我 找到 你 了  没有 么], target=[i found you didn't i], predicted=[i can't find you you]\n",
            "src=[我 可以 等 你], target=[i can wait for you], predicted=[i can wait for you]\n",
            "src=[我 希望 雨会 停], target=[i wish it would stop raining], predicted=[i wish i could stop]\n",
            "src=[我 向 我 父亲 求助], target=[i asked for my father's help], predicted=[i asked for to help help]\n",
            "src=[她 说 她 以前 很 快乐], target=[she said she had been happy], predicted=[she said that she was happy]\n",
            "src=[玛丽 很 喜欢 牛奶], target=[mary likes milk very much], predicted=[mary likes tea]\n",
            "src=[这是 一个 惊喜], target=[it's a surprise], predicted=[it's is surprise]\n",
            "BLEU-1: 0.698234\n",
            "BLEU-2: 0.580459\n",
            "BLEU-3: 0.523369\n",
            "BLEU-4: 0.414894\n",
            "test\n",
            "src=[我 喜欢 火龙果], target=[i like dragon fruit], predicted=[i like like]\n",
            "src=[他 知道 很多 外国 事务], target=[he knows a lot about foreign affairs], predicted=[he knows a lot of his]\n",
            "src=[我来 这里 帮 你], target=[i'm here to help you], predicted=[i'll will you you]\n",
            "src=[经理 批准 了 我们 的 计划], target=[the manager approved our plan], predicted=[the plan objected to with the]\n",
            "src=[他 酷爱 足球], target=[he's crazy about soccer], predicted=[he is fond]\n",
            "src=[市政府 在 哪里], target=[where is the city hall], predicted=[where is the]\n",
            "src=[他 喜欢 足球 胜过 棒球], target=[he prefers football to baseball], predicted=[he likes to to baseball]\n",
            "src=[我 只花 了 三 美元], target=[i spent no more than three dollars], predicted=[i only only dollars dollars]\n",
            "src=[我 就 知道 你 会 这么 说], target=[somehow i thought you'd say that], predicted=[i knew that they'll you say]\n",
            "src=[他 非常 擅长 拉 小提琴], target=[he is very good at playing violin], predicted=[he is good at playing violin]\n",
            "BLEU-1: 0.429286\n",
            "BLEU-2: 0.282480\n",
            "BLEU-3: 0.223735\n",
            "BLEU-4: 0.130069\n"
          ],
          "name": "stdout"
        }
      ]
    },
    {
      "cell_type": "markdown",
      "metadata": {
        "id": "u8dDdVm-o_TK",
        "colab_type": "text"
      },
      "source": [
        "# Speech to Text to Translation"
      ]
    },
    {
      "cell_type": "markdown",
      "metadata": {
        "id": "qoRskZxMpKp4",
        "colab_type": "text"
      },
      "source": [
        "## Chinese Speech to Text"
      ]
    },
    {
      "cell_type": "markdown",
      "metadata": {
        "id": "HPLbIc5npUzO",
        "colab_type": "text"
      },
      "source": [
        "### Functions to Translate Speech"
      ]
    },
    {
      "cell_type": "markdown",
      "metadata": {
        "id": "Ne7srBLLiErU",
        "colab_type": "text"
      },
      "source": [
        "Forthcoming"
      ]
    },
    {
      "cell_type": "markdown",
      "metadata": {
        "id": "l5IHqk5WpbqK",
        "colab_type": "text"
      },
      "source": [
        "### STT Translation Examples"
      ]
    },
    {
      "cell_type": "markdown",
      "metadata": {
        "id": "AW6dv4EiiG8E",
        "colab_type": "text"
      },
      "source": [
        "Forthcoming"
      ]
    },
    {
      "cell_type": "markdown",
      "metadata": {
        "id": "DUqIwCso50vG",
        "colab_type": "text"
      },
      "source": [
        "## Conclusion"
      ]
    },
    {
      "cell_type": "markdown",
      "metadata": {
        "id": "Xqjhd1GvnevG",
        "colab_type": "text"
      },
      "source": [
        "With just a simple LSTM network, this model already produces translations. Clear mistakes are still visible, though, such as overfitting and repetition in the predictions, and further testing and tuning may show the sources of some of the inaccuracies. The tests I will conduct include 1) testing the model on subsets of data with shorter and longer sentences, as well as acquiring or making new data with more repetitions in the vocabulary, in order to diagnose issues in the statistical language model that lead to poorer resultsl 2) testing on a dataset with the Chinese split by characters (unigrams) instead of cut at word boundaries, in order to reduce the overall vocabulary size and number of singly-occurring words."
      ]
    },
    {
      "cell_type": "code",
      "metadata": {
        "id": "tqGvdxfT1BNK",
        "colab_type": "code",
        "colab": {}
      },
      "source": [
        "#notes\n",
        "\n",
        "# best score BLEU-1: 0.35, model nodes = 500, also nodes=1500, 10000 samples\n",
        "\n",
        "#best accuracy: attention decoder, 64 neurons, 0.2 dropout, bleu-1 .37\n",
        "\n",
        "#attention decoder, 50 neurons, 0.3 dropout, bleu-1 .365\n",
        "\n",
        "#attention decoder, 32 neurons, 0.3 dropout, bleu-1 .3988\n",
        "\n",
        "#50 neurons, epochs=30, lr=0.003, dropout=0.4, 18000 sents, train bleu-1=.45, test bleu-1=.249 (could train further)\n",
        "\n",
        "#60 neurons, epochs=30, lr=0.003, dropout=0.4, 18000 sents, train bleu-1=.484, test bleu-1=.265 (stops training at 25, 66%training accuracy)\n",
        "\n",
        "#70 neurons, epochs=30, lr=0.003, dropout=0.4, 18000 sents, train bleu-1=.514, test bleu-1=.272 (stops training at 25, 66%training accuracy)\n",
        "\n",
        "#80 neurons, epochs=30, lr=0.003, dropout=0.5, 18000 sents, train bleu-1=.545, test bleu-1=.293 (could train further, 69.5%training accuracy)\n",
        "\n",
        "#90 neurons, epochs=30, lr = 0.003, dropout=0.5, 18000 sents, train bleu-1=0.505, test=0.285\n",
        "\n",
        "#90 neurons, epochs=45, lr = adaptive, dropout=0.6, 18000 sents, train bleu-1=0.404, test=0.243 (can train more)\n",
        "\n"
      ],
      "execution_count": null,
      "outputs": []
    }
  ]
}